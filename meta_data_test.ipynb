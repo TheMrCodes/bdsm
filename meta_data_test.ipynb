{
 "cells": [
  {
   "cell_type": "code",
   "execution_count": 1,
   "metadata": {
    "collapsed": true
   },
   "outputs": [],
   "source": [
    "# Reset IPython Notebook Variables\n",
    "%reset -f"
   ]
  },
  {
   "cell_type": "code",
   "execution_count": 4,
   "outputs": [],
   "source": [
    "# Imports\n",
    "import numpy as np          # Numpy as the math lib\n",
    "import pandas as pd         # Pandas for manipulating dataframes\n",
    "import bdsm                 # bsdm as general helpers\n",
    "import seaborn as sns       # seaborn for datavisualisation\n",
    "\n",
    "# Set seed\n",
    "seed = 1234\n",
    "np.random.seed(seed)\n",
    "\n",
    "# Set seaborn color schema\n",
    "palette = sns.dark_palette(\"#69d\", reverse=False, as_cmap=True)"
   ],
   "metadata": {
    "collapsed": false,
    "pycharm": {
     "name": "#%%\n"
    }
   }
  },
  {
   "cell_type": "code",
   "execution_count": 15,
   "outputs": [],
   "source": [
    "datasets = pd.concat([\n",
    "    bdsm.datasets.abalones(),\n",
    "    bdsm.datasets.bodyfat(),\n",
    "    bdsm.datasets.boston(),\n",
    "    bdsm.datasets.iris(),\n",
    "    bdsm.datasets.mall(),\n",
    "    bdsm.datasets.penguins(),\n",
    "    bdsm.datasets.shopping(),\n",
    "    bdsm.datasets.students(),\n",
    "    bdsm.datasets.sunshine(),\n",
    "    bdsm.datasets.titanic(),\n",
    "    bdsm.datasets.wine(),\n",
    "], axis=1)"
   ],
   "metadata": {
    "collapsed": false,
    "pycharm": {
     "name": "#%%\n"
    }
   }
  },
  {
   "cell_type": "code",
   "execution_count": 38,
   "outputs": [],
   "source": [
    "columnsList = [datasets.iloc[:,i] for i in range(len(datasets.columns))]"
   ],
   "metadata": {
    "collapsed": false,
    "pycharm": {
     "name": "#%%\n"
    }
   }
  },
  {
   "cell_type": "code",
   "execution_count": 44,
   "outputs": [],
   "source": [
    "datasets.to_csv(\"big_dataset.csv\", sep=\";\", index=None)"
   ],
   "metadata": {
    "collapsed": false,
    "pycharm": {
     "name": "#%%\n"
    }
   }
  }
 ],
 "metadata": {
  "kernelspec": {
   "display_name": "Python 3",
   "language": "python",
   "name": "python3"
  },
  "language_info": {
   "codemirror_mode": {
    "name": "ipython",
    "version": 2
   },
   "file_extension": ".py",
   "mimetype": "text/x-python",
   "name": "python",
   "nbconvert_exporter": "python",
   "pygments_lexer": "ipython2",
   "version": "2.7.6"
  }
 },
 "nbformat": 4,
 "nbformat_minor": 0
}