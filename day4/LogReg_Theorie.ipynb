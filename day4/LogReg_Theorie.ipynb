{
 "cells": [
  {
   "cell_type": "code",
   "execution_count": 1,
   "metadata": {},
   "outputs": [],
   "source": [
    "import numpy as np\n",
    "import matplotlib.pyplot as plt\n",
    "import pandas as pd\n",
    "import scipy.stats as sp\n",
    "import seaborn as sns\n",
    "import statsmodels\n",
    "import statsmodels.api as sm\n",
    "import statsmodels.formula.api as smf\n",
    "\n",
    "from sklearn import metrics\n",
    "from sklearn.metrics import confusion_matrix, classification_report\n",
    "from sklearn.linear_model import LogisticRegression\n",
    "from sklearn.model_selection import train_test_split"
   ]
  },
  {
   "cell_type": "markdown",
   "metadata": {},
   "source": [
    "# Logistische Regression - Backhaus\n",
    "## Problemstellung\n",
    "### Grundgedanke der logistischen Regression\n",
    "\n",
    "Oftmals stellt sich die Frage, mit welcher **Wahrscheinlichkeit** bestimmte Ereignisse eintreten und welche **Einflussgrößen** diese Wahrscheinlichkeit bestimmen. Im einfachsten Fall werden **Komplementärereignisse** (0/1-Ereignisse) betrachtet, deren Eintrittswahrscheinlichkeiten sich in Summe zu 1 ergänzen. \n",
    "Beispiele dafür sind:\n",
    "- Kauf/Nichtkauf\n",
    "- Corona positiv/negativ\n",
    "- Wechsel/Verbleib (Churn)\n",
    "\n",
    "Werden die Ereignisse als **binäre** abhängige Variable $Y$ betrachtet, so gilt für die Eintrittswahrscheinlichkeiten: \n",
    "\\begin{eqnarray}\n",
    "P(y=0) + P(y=1) = 1\\\\\n",
    "P(y=0) = 1 - P(y=1)\n",
    "\\end{eqnarray}\n",
    "\n",
    "Die **logistische Regression** versucht über einen *Regressionsansatz* zu bestimmen, mit welcher *Wahrscheinlichkeit* ein Ereignis (z.B. Kauf einer bestimmten Margarine) in Abhängigkeit von den Einflussgrößen (z.B. Einkommen der Kunden) zu erwarten ist. at die abhängige Variable $Y$ mehr als zwei Ausprägungen, spricht man von einer **multinomialen logistischen Regression**.\n",
    "\n",
    "Die Ähnlichkeit zur *Regressionsanalyse* besteht darin, dass die **Gewichte**, mit denen die betrachteten Einflussgrößen als unabhängige Variable die *Wahrscheinlichkeit* dafür beeinflussen, dass das Ereignis zu einer bestimmten Gruppe (etwa der Käufer) gehört. Der zentrale **Unterschied** zur Regressionsanalyse besteht darin, dass die abhängige Variable $Y$ **kein metrisches Skalenniveau** aufweist, sondern eine **kategoriale Variable** mit nominalem Skalenniveau darstellt.\n",
    "\n",
    "Die logistische Regression versucht also nicht direkt das Ergebnis zu schätzen (wie die lineare Regression), sondern zielt auf die *Ableitung einer Eintrifftswahrscheinlichkeit* für das beobachtete Ereignis ab. Die Modellierung dieser Wahrscheinlichkeit erfolgt über die *logistische Funktion*, die auch als **Linking Function** bezeichnet wird. \n",
    "\n",
    "Die logistische Regression kann mit *unterschiedlichen Skalenniveaus* arbeiten. Als *unabhängige Variable* können auch Kategoriale Variable verwendet werden. Diese werden Dummy-Codiert und für jede Dummy-Variable wird ein eigener Koeffizient geschätzt. Für metrische unabhängige Variable (welche historisch auch *Kovariaten* genannt werden) wird nur ein Koeffizient geschätzt.\n",
    "\n",
    "### Formulierung des logistischen Regressionsansatzes\n",
    "\n",
    "Wir betrachten folgendes Beispiel: Wir wollen wissen, ob der Kauf einer neuen Premium-Buttersorte von der Einkommenshöhe der Kunden abhängt. Dafür wird für 12 ausgewählte Kunden das monatliche Nettoeinkommen erhoben ($x$) und das Ereignis (gekauft als $y=1$, nicht gekauft als $y=0$) registriert. Das Ergebnis sind 7 Käufer und 5 Nichtkäufer:"
   ]
  },
  {
   "cell_type": "code",
   "execution_count": 2,
   "metadata": {},
   "outputs": [
    {
     "data": {
      "text/plain": "    Ereignis  Einkommen\n0          1       4000\n1          1       4200\n2          1       6000\n3          1       5200\n4          1       5500\n5          1       5100\n6          1       4800\n7          0       2700\n8          0       1800\n9          0       3200\n10         0       2500\n11         0       2600",
      "text/html": "<div>\n<style scoped>\n    .dataframe tbody tr th:only-of-type {\n        vertical-align: middle;\n    }\n\n    .dataframe tbody tr th {\n        vertical-align: top;\n    }\n\n    .dataframe thead th {\n        text-align: right;\n    }\n</style>\n<table border=\"1\" class=\"dataframe\">\n  <thead>\n    <tr style=\"text-align: right;\">\n      <th></th>\n      <th>Ereignis</th>\n      <th>Einkommen</th>\n    </tr>\n  </thead>\n  <tbody>\n    <tr>\n      <th>0</th>\n      <td>1</td>\n      <td>4000</td>\n    </tr>\n    <tr>\n      <th>1</th>\n      <td>1</td>\n      <td>4200</td>\n    </tr>\n    <tr>\n      <th>2</th>\n      <td>1</td>\n      <td>6000</td>\n    </tr>\n    <tr>\n      <th>3</th>\n      <td>1</td>\n      <td>5200</td>\n    </tr>\n    <tr>\n      <th>4</th>\n      <td>1</td>\n      <td>5500</td>\n    </tr>\n    <tr>\n      <th>5</th>\n      <td>1</td>\n      <td>5100</td>\n    </tr>\n    <tr>\n      <th>6</th>\n      <td>1</td>\n      <td>4800</td>\n    </tr>\n    <tr>\n      <th>7</th>\n      <td>0</td>\n      <td>2700</td>\n    </tr>\n    <tr>\n      <th>8</th>\n      <td>0</td>\n      <td>1800</td>\n    </tr>\n    <tr>\n      <th>9</th>\n      <td>0</td>\n      <td>3200</td>\n    </tr>\n    <tr>\n      <th>10</th>\n      <td>0</td>\n      <td>2500</td>\n    </tr>\n    <tr>\n      <th>11</th>\n      <td>0</td>\n      <td>2600</td>\n    </tr>\n  </tbody>\n</table>\n</div>"
     },
     "execution_count": 2,
     "metadata": {},
     "output_type": "execute_result"
    }
   ],
   "source": [
    "df = pd.DataFrame({'Ereignis': [1,1,1,1,1,1,1,0,0,0,0,0], 'Einkommen': [4000, 4200, 6000, 5200, 5500, 5100, 4800, 2700, 1800, 3200, 2500, 2600]})\n",
    "df"
   ]
  },
  {
   "cell_type": "markdown",
   "metadata": {},
   "source": [
    "Wir führen nun eine lineare Regression auf diesen Daten aus:"
   ]
  },
  {
   "cell_type": "code",
   "execution_count": 3,
   "metadata": {},
   "outputs": [
    {
     "name": "stdout",
     "output_type": "stream",
     "text": [
      "                            OLS Regression Results                            \n",
      "==============================================================================\n",
      "Dep. Variable:               Ereignis   R-squared:                       0.810\n",
      "Model:                            OLS   Adj. R-squared:                  0.791\n",
      "Method:                 Least Squares   F-statistic:                     42.55\n",
      "Date:                Thu, 11 Nov 2021   Prob (F-statistic):           6.70e-05\n",
      "Time:                        13:05:50   Log-Likelihood:                 1.4142\n",
      "No. Observations:                  12   AIC:                             1.172\n",
      "Df Residuals:                      10   BIC:                             2.141\n",
      "Df Model:                           1                                         \n",
      "Covariance Type:            nonrobust                                         \n",
      "==============================================================================\n",
      "                 coef    std err          t      P>|t|      [0.025      0.975]\n",
      "------------------------------------------------------------------------------\n",
      "Intercept     -0.7486      0.215     -3.478      0.006      -1.228      -0.269\n",
      "Einkommen      0.0003   5.15e-05      6.523      0.000       0.000       0.000\n",
      "==============================================================================\n",
      "Omnibus:                        0.651   Durbin-Watson:                   1.686\n",
      "Prob(Omnibus):                  0.722   Jarque-Bera (JB):                0.618\n",
      "Skew:                           0.419   Prob(JB):                        0.734\n",
      "Kurtosis:                       2.268   Cond. No.                     1.32e+04\n",
      "==============================================================================\n",
      "\n",
      "Notes:\n",
      "[1] Standard Errors assume that the covariance matrix of the errors is correctly specified.\n",
      "[2] The condition number is large, 1.32e+04. This might indicate that there are\n",
      "strong multicollinearity or other numerical problems.\n"
     ]
    },
    {
     "name": "stderr",
     "output_type": "stream",
     "text": [
      "C:\\Users\\apigl\\.virtualenvs\\bdsm-Grc_FbtC\\lib\\site-packages\\scipy\\stats\\stats.py:1541: UserWarning: kurtosistest only valid for n>=20 ... continuing anyway, n=12\n",
      "  warnings.warn(\"kurtosistest only valid for n>=20 ... continuing \"\n"
     ]
    }
   ],
   "source": [
    "linreg = smf.ols('Ereignis ~ Einkommen', data=df).fit()\n",
    "print(linreg.summary())"
   ]
  },
  {
   "cell_type": "markdown",
   "metadata": {},
   "source": [
    "Die Regressionsgerade hätte also folgende Form:\n",
    "\\begin{equation}\n",
    "\\text{Kauf} = -0.7486 + 0.0003 \\cdot \\text{Einkommen}\n",
    "\\end{equation}\n",
    "\n",
    "In der folgenden Abbildung vergleichen wir das Ergebnis der linearen Regression mit den Ausgangswerten. Dazu fügen wir die Vorhersagen für $y$ dem Dataframe als Spalte *Probability* hinzu:"
   ]
  },
  {
   "cell_type": "code",
   "execution_count": 4,
   "metadata": {},
   "outputs": [
    {
     "data": {
      "text/plain": "    Ereignis  Einkommen  Probability\n0          1       4000     0.594526\n1          1       4200     0.661680\n2          1       6000     1.266073\n3          1       5200     0.997454\n4          1       5500     1.098186\n5          1       5100     0.963877\n6          1       4800     0.863144\n7          0       2700     0.158020\n8          0       1800    -0.144176\n9          0       3200     0.325907\n10         0       2500     0.090866\n11         0       2600     0.124443",
      "text/html": "<div>\n<style scoped>\n    .dataframe tbody tr th:only-of-type {\n        vertical-align: middle;\n    }\n\n    .dataframe tbody tr th {\n        vertical-align: top;\n    }\n\n    .dataframe thead th {\n        text-align: right;\n    }\n</style>\n<table border=\"1\" class=\"dataframe\">\n  <thead>\n    <tr style=\"text-align: right;\">\n      <th></th>\n      <th>Ereignis</th>\n      <th>Einkommen</th>\n      <th>Probability</th>\n    </tr>\n  </thead>\n  <tbody>\n    <tr>\n      <th>0</th>\n      <td>1</td>\n      <td>4000</td>\n      <td>0.594526</td>\n    </tr>\n    <tr>\n      <th>1</th>\n      <td>1</td>\n      <td>4200</td>\n      <td>0.661680</td>\n    </tr>\n    <tr>\n      <th>2</th>\n      <td>1</td>\n      <td>6000</td>\n      <td>1.266073</td>\n    </tr>\n    <tr>\n      <th>3</th>\n      <td>1</td>\n      <td>5200</td>\n      <td>0.997454</td>\n    </tr>\n    <tr>\n      <th>4</th>\n      <td>1</td>\n      <td>5500</td>\n      <td>1.098186</td>\n    </tr>\n    <tr>\n      <th>5</th>\n      <td>1</td>\n      <td>5100</td>\n      <td>0.963877</td>\n    </tr>\n    <tr>\n      <th>6</th>\n      <td>1</td>\n      <td>4800</td>\n      <td>0.863144</td>\n    </tr>\n    <tr>\n      <th>7</th>\n      <td>0</td>\n      <td>2700</td>\n      <td>0.158020</td>\n    </tr>\n    <tr>\n      <th>8</th>\n      <td>0</td>\n      <td>1800</td>\n      <td>-0.144176</td>\n    </tr>\n    <tr>\n      <th>9</th>\n      <td>0</td>\n      <td>3200</td>\n      <td>0.325907</td>\n    </tr>\n    <tr>\n      <th>10</th>\n      <td>0</td>\n      <td>2500</td>\n      <td>0.090866</td>\n    </tr>\n    <tr>\n      <th>11</th>\n      <td>0</td>\n      <td>2600</td>\n      <td>0.124443</td>\n    </tr>\n  </tbody>\n</table>\n</div>"
     },
     "execution_count": 4,
     "metadata": {},
     "output_type": "execute_result"
    }
   ],
   "source": [
    "df['Probability'] = pd.Series(linreg.params[0] + linreg.params[1]*df.Einkommen)\n",
    "df"
   ]
  },
  {
   "cell_type": "code",
   "execution_count": 5,
   "metadata": {},
   "outputs": [
    {
     "data": {
      "text/plain": "<Figure size 432x288 with 1 Axes>",
      "image/png": "[encoded data removed]"
     },
     "metadata": {
      "needs_background": "light"
     },
     "output_type": "display_data"
    }
   ],
   "source": [
    "sns.regplot(x='Einkommen', y='Probability', data=df);\n",
    "sns.scatterplot(x='Einkommen', y='Ereignis', data=df, marker=\"x\");"
   ]
  },
  {
   "cell_type": "markdown",
   "metadata": {},
   "source": [
    "An dieser Abbildung wird deutlich, warum eine lineare Regression für eine derartige Fragestellung unbrauchbar ist: Die Wahrscheinlichkeiten können negative Werte annehmen, nämlich dann, wenn ein Einkommen von (0.7486/0.0003) = 22495.33 nicht erreicht wird. Ebenso können Werte größer 1 herauskommen, nämlich für ((1+0,7486)/0.0003) = 5828.67 annehmen, was natürlich für Wahrscheinlichkeiten nicht sein darf.\n",
    "\n",
    "Durch die 0/1-Kodierung lässt sich schnell der Mittelwert der Käufer angeben. Sieben von 12 haben gekauft, also ist der Mittelwert der Daten 7/12 = 0.5833 oder anders gesagt, 58.33% der Kunden sind Käufer."
   ]
  },
  {
   "cell_type": "code",
   "execution_count": 6,
   "metadata": {},
   "outputs": [
    {
     "name": "stdout",
     "output_type": "stream",
     "text": [
      "58.33 %\n"
     ]
    }
   ],
   "source": [
    "print(round(100*sum(df['Ereignis'])/len(df),2), \"%\")"
   ]
  },
  {
   "cell_type": "markdown",
   "metadata": {},
   "source": [
    "**Wichtig:** Die logistische Regression versucht also **nicht**, Schätzungen für die **Beobachtungen** der binären abhängigen Variablen vorzunehmen (also die Werte 0 und 1 vorherzusagen), sondern die **Eintrittswahrscheinlichkeiten** dieser Beobachtungswerte abzuleiten! \n",
    "\n",
    "Dabei wird die Ausprägung $y=1$ allgemein als \"Ereignis $Y$ tritt ein\" und $y=0$ als \"Ereignis tritt nicht ein\" interpretiert. Um nun die Wahrscheinlichkeiten für das Eintreten von $y=1$ (bezeichnet als $P(y=1)$) bestimmen zu können, wird unterstellt, dass eine *nicht empirisch beobachtete* latente Variable \"$Z$\" existiert, welche die binäre Ausprägung der abhängigen Variablen $Y$ in Abhängigkeit der unabhängigen Variablen $X_j$ erzeugen kann.\n",
    "\n",
    "Diesen Zusammenhang können wir formal für einen Beobachtungsfall $k$ wie folgt schreiben:\n",
    "\n",
    "$$y_k = \\begin{cases}\n",
    "1 \\text{ falls } z_k > 0,\\\\\n",
    "0 \\text{ falls } z_k \\leq 0\n",
    "\\end{cases}\n",
    "$$\n",
    "\n",
    "mit\n",
    "\n",
    "$$z_k = \\beta_0 + \\sum_{j=1}^J \\beta_j \\cdot x_{jk} + u_k.$$\n",
    "\n",
    "wobei $\\beta_i$ die zu schätzenden Parameter sind und $u_k$ einen Störterm darstellt, der oftmals Null ist.\n",
    "\n",
    "**Wichtig:** Durch die latente Variable $Z$ wird die Verbindung zwischen der binären abhängigen Variablen $Y$ und den beobachteten unabhängigen Variablen $X_j$ hergestellt.\n",
    "\n",
    "Dabei kann die Variable $Z$ als *aggregierte Einflussstärke* der verschiedenen unabhängigen Variablen interpretiert werden, die das Ereignis herbeiführen. Dabei wird unterstellt, dass die verschiedenen Einflussgrößen $X_j$ durch eine *Linearkombination* die latente Variable $Z$ erzeugen.\n",
    "\n",
    "**Wahrscheinlichkeitsfunktion**\n",
    "\n",
    "Damit haben wir aber noch keine Wahrscheinlichkeitsaussage im eigentlichen Sinnm denn dazu brauchen wir eine *Wahrscheinlichkeitsfunktion*, die dann je nach Maßgabe der aggregierten Einflussstärke $Z$ das Ergebnis $y = 0$ oder $y = 1$ erzeugt. Zu diesem Zweck nutzt die logistische Regression die sogenannte *Logistische Funktion*:\n",
    "\n",
    "$$p(z) = \\frac{e^z}{1 + e^z} = \\frac{1}{1 + e^{-z}}$$\n",
    "\n",
    "**Logistische Regressionsgleichung**\n",
    "\n",
    "Der logistische Regressionsansatz berechnet nun die Wahrscheinlichkeit für das Eintreten des Ereignisses $y=1$ unter Verwendung der *logistischen Funktion*. Dabei spiegeln der Parameter $\\beta_0$ und die Regressionskoeffizienten $\\beta_j$ (diese Werden häufig auch *Logit-Koeffizienten* genannt) die **Einflussstärke** der jeweils betrachteten unabhängigen Variablen $X_j$ auf die Höhe der Eintrittswahrscheinlichkeiten $P(y=1)$ wieder.\n",
    "\n",
    "**Wichtig:** Die logistische Funktion stellt somit eine Wahrscheinlichkeitsbeziehung zwischen dem Ereignis $y=1$ und den unabhängigen Variablen $X_j$ her, weshalb sie auch als *Linking-Function* bezeichnet wird.\n",
    "\n",
    "Die *logistische Regressionsgleichung* lautet dann:\n",
    "\n",
    "$$p_k(y=1) = \\frac{1}{1 + e^{-z_k}}$$\n",
    "\n",
    "mit\n",
    "\n",
    "$$z_k = \\beta_0 + \\sum_{j=1}^J \\beta_j \\cdot x_{jk} + u_k.$$\n",
    "\n",
    "wobei die z-Werte auch als **Logits** bezeichnet werden.\n",
    "\n",
    "Die so erzeugte Wahrscheinlichkeitsverteilung für das Ereignis $y=1$ weist einen s-förmigen Verlauf auf und hat die Eigenschaft, dass selbst für unendlich kleine oder auch große Werte von $Z$ sich die Wahrscheinlichkeit immer innerhalb des Intervalls [0,1] bewegt. Die logistische Funktion ist weiters immer *symmetrisch* um den Wendepunkt $P(y=1) = 0.5$.\n",
    "\n",
    "Die folgende Abbildung zeigt den Verlauf der logistischen Funktion im Intervall [-6, 6]:"
   ]
  },
  {
   "cell_type": "code",
   "execution_count": 7,
   "metadata": {},
   "outputs": [
    {
     "data": {
      "text/plain": "<Figure size 432x288 with 1 Axes>",
      "image/png": "[encoded data removed]"
     },
     "metadata": {
      "needs_background": "light"
     },
     "output_type": "display_data"
    }
   ],
   "source": [
    "x = np.array([i/10 for i in range(-60,61)])\n",
    "y = 1/(1+np.exp(-x))\n",
    "plt.plot(x, y);\n",
    "plt.xlabel('z-Werte (Logits)');\n",
    "plt.ylabel('Wahrscheinlichkeit P(y=1)');"
   ]
  },
  {
   "cell_type": "markdown",
   "metadata": {},
   "source": [
    "**Wichtig:** Die logistische Regressionsfunktion unterstellt damit einen **nicht-linearen Zusammenhang** zwischen der Eintrittswahrscheinlichkeit der binären, abhängigen Variablen $P(y=1)$ und den unabhängigen Variablen als **Modelprämisse**. Hingegen wird aber das Zustandekommen der aggregierten Einflussstärke $Z$ im Exponenten der Linking-Funktion als **linear** unterstellt."
   ]
  },
  {
   "cell_type": "markdown",
   "metadata": {},
   "source": [
    "## Vorgehensweise\n",
    "### Modellformulierung\n",
    "\n",
    "Bei einer Regression werden Je-Desto Hypothesen aufgestellt. Beachte folgenden **wesentlichen Unterschied** zwischen linearer und logistischer Regression:\n",
    "\n",
    "- *lineare Regression:* Zusammenhang zwischen den **unabhängigen** Variablen und der **abhängigen** Variablen\n",
    "- *logistische Regression:* Zusammenhang zwischen den **unabhängigen** Variablen und der **Eintrittswahrscheinlichkeit** für das Ereignis $y=1$.\n",
    "\n",
    "In unserem Beispiel bedeutet das:\n",
    "\n",
    "- lineare Regression: Je streichfähiger und haltbarer die Margarine, desto *mehr* wird davon gakauft\n",
    "- logistische Regression: Je streichfähiger und haltbarer die Margarine, desto *wahrscheinlicher* ist es, dass es zu einem Kauf kommt\n",
    "\n",
    "Die in den Hypothesen der logistischen Regression angenommenen Wirkungsbeziehungen abeh **keinen linearen** Charakter.\n",
    "\n",
    "In diesem Beispiel soll untersucht werden, mit welcher Wahrscheinlichkeit der Kauf von Margarine $(y=1)$ zu erwarten ist und in welchem Ausmaß die Kaufwahrscheinlichkeit durch die Merkmale \"Streichfähigkeit\" und \"Haltbarkeit\" beeinflusst wird. Dazu wurden die beiden Merkmale von 24 Befragten Personen auf einer Ratingskala zwischen 1 = geringe Kaufbedeutung und 7 = hohe Kaufbedeutung bewertet. In den Daten sind 12 Käufer und 12 Nichtkäufer. Die Beurteilungswerte werden als metrisch skaliert interpretiert."
   ]
  },
  {
   "cell_type": "code",
   "execution_count": 8,
   "metadata": {},
   "outputs": [
    {
     "data": {
      "text/plain": "    Kauf  Streichfaehigkeit  Haltbarkeit\n17     0                  5            2\n20     0                  6            7\n18     0                  4            2\n7      1                  2            4\n2      1                  6            5",
      "text/html": "<div>\n<style scoped>\n    .dataframe tbody tr th:only-of-type {\n        vertical-align: middle;\n    }\n\n    .dataframe tbody tr th {\n        vertical-align: top;\n    }\n\n    .dataframe thead th {\n        text-align: right;\n    }\n</style>\n<table border=\"1\" class=\"dataframe\">\n  <thead>\n    <tr style=\"text-align: right;\">\n      <th></th>\n      <th>Kauf</th>\n      <th>Streichfaehigkeit</th>\n      <th>Haltbarkeit</th>\n    </tr>\n  </thead>\n  <tbody>\n    <tr>\n      <th>17</th>\n      <td>0</td>\n      <td>5</td>\n      <td>2</td>\n    </tr>\n    <tr>\n      <th>20</th>\n      <td>0</td>\n      <td>6</td>\n      <td>7</td>\n    </tr>\n    <tr>\n      <th>18</th>\n      <td>0</td>\n      <td>4</td>\n      <td>2</td>\n    </tr>\n    <tr>\n      <th>7</th>\n      <td>1</td>\n      <td>2</td>\n      <td>4</td>\n    </tr>\n    <tr>\n      <th>2</th>\n      <td>1</td>\n      <td>6</td>\n      <td>5</td>\n    </tr>\n  </tbody>\n</table>\n</div>"
     },
     "execution_count": 8,
     "metadata": {},
     "output_type": "execute_result"
    }
   ],
   "source": [
    "df = pd.DataFrame({'Kauf': [1,1,1,1,1,1,1,1,1,1,1,1,0,0,0,0,0,0,0,0,0,0,0,0], 'Streichfaehigkeit': [2,3,6,4,3,4,3,2,5,3,3,4,5,4,7,3,4,5,4,5,6,5,6,6], 'Haltbarkeit': [3,4,5,4,2,7,5,4,6,6,3,5,4,3,5,3,4,2,2,5,7,3,4,6]})\n",
    "y = df['Kauf']\n",
    "X = df[['Streichfaehigkeit','Haltbarkeit']]\n",
    "df.sample(5)"
   ]
  },
  {
   "cell_type": "markdown",
   "metadata": {},
   "source": [
    "### Schätzung der logistischen  Regressionsfunktion\n",
    "\n",
    "Die Modellparameter der logistischen Regression werden mit der *Maximum Likelihood-Methode* geschätzt. Die Parameter $b_j$ werden dabei so geschätzt, dass die Wahrscheinlichkeit (Likelihood), die beobachteten Daten zu erhalten, maximiert wird. \n",
    "\n",
    "Im Rahmen einer empirischen Erhebung ergibt sich für jede Person entweder die Beobachtung $y=1$ oder $y=0$. Das bedeutet, dass die Parameterschätzung für die jeweils betrachtete Person entweder die Wahrscheinlichkeit $P(y=1)$ oder $P(y=0)$ ergeben sollte. Das ist genau dann der Fall, wenn für jeden Beobachtungsfall $k$ folgende Beziehung betrachtet wird:\n",
    "\n",
    "$$p_k(y) = \n",
    "\\begin{cases}\n",
    "\\Big(\\frac{1}{1+e^{-z_k}}\\Big) \\text{ für } y_k=1\\\\\n",
    "\\Big(1-\\frac{1}{1+e^{-z_k}}\\Big) \\text{ für } y_k=0\\\\\n",
    "\\end{cases}\n",
    "$$\n",
    "\n",
    "Das läßt sich auch in einer Gleichung ausdrücken:\n",
    "\n",
    "$$p_k(y) = \\underbrace{ \\Big( \\frac{1}{1 + e^{-z_k}} \\Big)^{y_k} }_{\\text{Faktor A}} \\cdot \\underbrace{\\Big( 1 - \\frac{1}{1 + e^{-z_k}} \\Big)^{y_k}}_{\\text{Faktor B}}\n",
    "$$\n",
    "\n",
    "Die Parameter $b_j$ des Regressionsmodells sind nun so zu schätzen, dass die Wahrscheinlichkeit (Likelihood) maximiert wird, dass die empirischen Beobachtungswerte ($y = 1$ bzw. $y = 0$) für möglichst alle erhobenen Fälle zu erhalten. Dabei ist zu beachten, dass die Zuweisung eines Falls zu einer bestimmten Kategorie einer **Zuordnungsvorschrift** bedarf. In der Regel wird hier ein Wahrscheinlichkeitswert von 0.5 verwebdet, d.h. für\n",
    "\n",
    "- $p_k > 0.5$ erfolgt eine Zuordnung zum Ereignis $y = 1$\n",
    "- $p_k < 0.5$ erfolgt eine Zuordnung zum Ereignis $y = 0$.\n",
    "\n",
    "Um die obige Wahrscheinlichkeit für alle Beobachtungsfälle **gleichzeitig** zu maximieren, ist der *Wahrscheinlichkeitssatz für unabhängige Ereignisse* anzuwenden. Er besagt, dass sich für unabhängige Ereignisse (hier die Beobachtungswerte der abhängigen Variable) die Wahrscheinlichkeitendes **gleichzeitigen** Eintretens der Ereignisse durch Multiplikation der Einzelereignisse ergibt ($P(A\\cap B) = P(A)\\cdot P(B)$). Damit ist als Zielfunktion das Produkt der Wahrscheinlichkeiten über alle Befragten $k = 1,\\dots,K$ zu maximieren, was durch die sogenannte **Likelihood-Funktion L** zum Ausdruck gebracht wird:\n",
    "\n",
    "$$L = \\prod_{k=1}^{K} \\Big( \\frac{1}{1 + e^{-z_k}} \\Big)^{y_k} \\cdot \\Big( 1 - \\frac{1}{1 + e^{-z_k}} \\Big)^{y_k} \\rightarrow \\max$$\n",
    "\n",
    "Eine Vereinfachung des Maximierungsproblems wird erreicht, in dem man den natürlichen Logarithmus der Likelihood-Funktion betrachetet. Dadurch erhält man die **Log-Likelihood Funktion LL**:\n",
    "$$\n",
    "LL = \\sum_{k=1}^{K} y_k \\cdot \\ln \\Big( \\frac{1}{1 + e^{-z_k}}\\Big)  + (1-y_k)\\cdot \\Big( 1 - \\frac{1}{1 + e^{-z_k}} \\Big)\n",
    "\n",
    "$$\n",
    "Parameterschätzungen, die $L$ maximieren, maximieren gleichzeitig auch $LL$. Die *(Log)Likelihood-Funktion* wird in der Regel mit dem *Newton-Raphson Algorithmus* maximiert. \n",
    "\n",
    "Für unser Margarine-Beispiel erhalten wir:"
   ]
  },
  {
   "cell_type": "code",
   "execution_count": 9,
   "metadata": {},
   "outputs": [
    {
     "name": "stdout",
     "output_type": "stream",
     "text": [
      "Optimization terminated successfully.\n",
      "         Current function value: 0.387303\n",
      "         Iterations 7\n",
      "                           Logit Regression Results                           \n",
      "==============================================================================\n",
      "Dep. Variable:                      y   No. Observations:                   24\n",
      "Model:                          Logit   Df Residuals:                       21\n",
      "Method:                           MLE   Df Model:                            2\n",
      "Date:                Thu, 11 Nov 2021   Pseudo R-squ.:                  0.4412\n",
      "Time:                        13:05:50   Log-Likelihood:                -9.2953\n",
      "converged:                       True   LL-Null:                       -16.636\n",
      "Covariance Type:            nonrobust   LLR p-value:                 0.0006489\n",
      "==============================================================================\n",
      "                 coef    std err          z      P>|z|      [0.025      0.975]\n",
      "------------------------------------------------------------------------------\n",
      "const          3.5277      2.338      1.509      0.131      -1.055       8.111\n",
      "x1            -1.9427      0.798     -2.434      0.015      -3.507      -0.378\n",
      "x2             1.1194      0.586      1.909      0.056      -0.030       2.269\n",
      "==============================================================================\n"
     ]
    }
   ],
   "source": [
    "model = sm.Logit(y.values, statsmodels.tools.tools.add_constant(X.values))\n",
    "result = model.fit()\n",
    "print(result.summary())"
   ]
  },
  {
   "cell_type": "markdown",
   "metadata": {},
   "source": [
    "Die Regressionsgleichung ist somit:\n",
    "\n",
    "$z_k = 3.5277 - 1.9427 \\cdot \\text{Streichf} + 1.1194 \\cdot \\text{Haltb}$\n",
    "\n",
    "Mit Hilfe der Regressionsschätzung lassen sich mit den Erhebungsdaten für alle 24 Befragten im ersten Schritt die aggregierten Einflussgrößen (z-Werte bzw. Logits) berechnen. Mit Hilfe der Logits können dann unter Verwendung der logistischen Funktion die personenbezogenen Wahrscheinlichkeiten für das Ereignis \"Margarinekauf\" ($y=1$) bestimmt werden:"
   ]
  },
  {
   "cell_type": "code",
   "execution_count": 10,
   "metadata": {},
   "outputs": [
    {
     "data": {
      "text/plain": "array([ 3.52770707, -1.94273433,  1.1194205 ])"
     },
     "execution_count": 10,
     "metadata": {},
     "output_type": "execute_result"
    }
   ],
   "source": [
    "result.params"
   ]
  },
  {
   "cell_type": "code",
   "execution_count": 11,
   "metadata": {},
   "outputs": [],
   "source": [
    "beta_0 = result.params[0]\n",
    "beta_1 = result.params[1]\n",
    "beta_2 = result.params[2]"
   ]
  },
  {
   "cell_type": "code",
   "execution_count": 12,
   "metadata": {},
   "outputs": [
    {
     "data": {
      "text/plain": "0     3.000500\n1     2.177186\n2    -2.531596\n3     0.234452\n4    -0.061655\n5     3.592713\n6     3.296607\n7     4.119920\n8     0.530558\n9     4.416027\n10    1.057766\n11    1.353872\n12   -1.708283\n13   -0.884969\n14   -4.474331\n15    1.057766\n16    0.234452\n17   -3.947124\n18   -2.004389\n19   -0.588862\n20   -0.292755\n21   -2.827703\n22   -3.651017\n23   -1.412176\ndtype: float64"
     },
     "execution_count": 12,
     "metadata": {},
     "output_type": "execute_result"
    }
   ],
   "source": [
    "# z-Werte bestimmen\n",
    "z = beta_0 + beta_1*X.iloc[:,0] + beta_2 * X.iloc[:,1]\n",
    "z"
   ]
  },
  {
   "cell_type": "code",
   "execution_count": 13,
   "metadata": {},
   "outputs": [],
   "source": [
    "# Anwendung der logistischen Funktion\n",
    "prob = 1/(1+np.exp(-z))"
   ]
  },
  {
   "cell_type": "code",
   "execution_count": 14,
   "metadata": {},
   "outputs": [
    {
     "data": {
      "text/plain": "<Figure size 432x288 with 1 Axes>",
      "image/png": "[encoded data removed]"
     },
     "metadata": {
      "needs_background": "light"
     },
     "output_type": "display_data"
    }
   ],
   "source": [
    "plt.plot(z, prob, 'x');\n",
    "x = np.array([i/10 for i in range(-60,61)])\n",
    "sigmoid = 1/(1+np.exp(-x))\n",
    "plt.axhline(y = 0.5, color = 'black', linestyle = '-') \n",
    "plt.axvline(x = 0, color = 'black', linestyle = '-') \n",
    "plt.plot(x, sigmoid);\n",
    "plt.text(3, 0.7, \"$y=1$\");\n",
    "plt.text(3, 0.3, \"$y=0$\");\n",
    "plt.xlabel('z-Werte (Logits)');\n",
    "plt.ylabel('Wahrscheinlichkeit P(y=1)');"
   ]
  },
  {
   "cell_type": "markdown",
   "metadata": {},
   "source": [
    "### Interpretation der Regressionskoeffizienten\n",
    "\n",
    "Die im vorangegangenen Schritt erbrachte Regressionsschätzung bereitet bei der inhaltlichen Interpretation einige Schwierigkeiten, da **kein linearer** Zusammenhang zwischen den unabhängigen Variablen $X_j$ und den über die logistische Funktion bestimmten Wahrscheinlichkeiten $p_k(y=1)$ existiert.\n",
    "\n",
    "Da die unabhängigen Variablen den Exponenten der e-Funktion bestimmen, nehmen sie zum einen nur *indirekt* (über die Wahrscheinlichkeitsberechnung) und zum anderen in *nicht-linearer* Form (durch die unterstellte logistische Funktion) Einfluss auf die Bestimmuing der Eintrittswahrscheinlichkeit für das Ereignis $y=1$.  Das hat zur Konsequenz, dass \n",
    "\n",
    "- weder die Regressionskoeffizienten untereinander vergleichbar sind,\n",
    "- noch die Wirkung der unabhängigen Variablen über die gesamte Breite ihrer Ausprägungen konstant ist.\n",
    "\n",
    "Damit ist auch eine (lineare) INterpretation der Schätzergebnisse z.B. in der Form \"Eine Verbesserung der Streichfähigkeit um eine Einheit erhöht die Wahrscheinlichkeit des Margarinekaufs um so und so viel\" - so wie bei der linearen Regression - **nicht** möglich!\n",
    "\n",
    "Eine lineare Verknüpfung wird lediglich für die *aggregierte Einflussstärke* in Form des $z$-Wertes (Logits) unterstellt. Dadurch, dass die unabhängigen Variablen $X_j$ als *Linearkombinationen* angenommen werden, der Zusammenhang zwischen der Eintrittswahrscheinlichkeit und dem Ereignis $y=1$ aber *nicht-linear* ist, folgt unmittelbar das oben genannte **Interpretationsproblem**.\n",
    "\n",
    "Durch die Betrachtung der logistischen Funktion als Wahrscheinlichkeitsverteilung wird ein **Sättigungseffekt** abgebildet (hier: maximale Eintrittswahrscheinlichkeit von 1), der dazu führt, dass Änderungen in den Extrembereichen der latenten Variablen $Z$ nicht mehr zu wesentlichen Änderungen der Eintrittswahrscheinlichkeit führen.\n",
    "\n",
    "Die folgende Abbildung macht deutlich, dass der Parameter $\\beta_0$ die **Lage** der logistischen Funktion in der Horizontalen beeinlusst:\n",
    "\n",
    "- Für positive $\\beta_0$ (hier 3) verschiebt sie sich nach links.\n",
    "- Für negative $\\beta_0$ (hier -3) findet eine Rechtsverschiebung statt.\n",
    "\n",
    "Demgegenüber beeinflussen die Regressionskoeffizienten $\\beta_j$ den **Verlauf** der logistischen Funktion in der Weise, dass \n",
    "sich die Wahrscheinlichkeitswerte für große $\\beta_j$ ($\\beta_j > 1$) sehr schnell den Randbereichen der logistischenb Funktion (0 und 1) annähern, während die Wahrscheinlichkeitswerte für kleine $\\beta_j$ ($0 < \\beta_j < 1$) in Abhängigkeit von $X$ nur sehr langsam ansteigen. \n",
    "\n",
    "Bei einem Regressionskoeffizienten $\\beta_j = 0$ liegen die sich ergebenden Wahrscheinlichkeiten für alle Beobachtungen der Unabhängigen Variablen $X_j$ bei 0.5 (da $e^0 = 1$ und somit $1/(1 + e^0) = 0.5$)"
   ]
  },
  {
   "cell_type": "code",
   "execution_count": 15,
   "metadata": {},
   "outputs": [
    {
     "data": {
      "text/plain": "<Figure size 432x288 with 1 Axes>",
      "image/png": "[encoded data removed]"
     },
     "metadata": {
      "needs_background": "light"
     },
     "output_type": "display_data"
    }
   ],
   "source": [
    "x = np.array([i/10 for i in range(-60,61)])\n",
    "z1 = x\n",
    "z2 = 3 + 0.8*x\n",
    "z3 = 0.4*x\n",
    "z4 = 1.8*x\n",
    "z5 = -3+0.8*x\n",
    "y1 = 1/(1+np.exp(-z1))\n",
    "y2 = 1/(1+np.exp(-z2))\n",
    "y3 = 1/(1+np.exp(-z3))\n",
    "y4 = 1/(1+np.exp(-z4))\n",
    "y5 = 1/(1+np.exp(-z5))\n",
    "plt.axvline(x = 0, color = 'black', linestyle = '-') \n",
    "plt.plot(x, y1, color=\"blue\");\n",
    "plt.plot(x, y2, color=\"orange\");\n",
    "plt.plot(x, y3, color=\"green\");\n",
    "plt.plot(x, y4, color=\"red\");\n",
    "plt.plot(x, y5, color=\"violet\");\n",
    "plt.text(2, 0.8, \"$z=x$\", color=\"blue\");\n",
    "plt.text(-5, 0.8, \"$z=3+0.8x$\", color=\"orange\");\n",
    "plt.text(2, 0.6, \"$z= 0.4x$\", color=\"green\");\n",
    "plt.text(1, 0.5, \"$z= 1.8x$\", color=\"red\");\n",
    "plt.text(2, 0.1, \"$z=-3+0.8x$\", color=\"violet\");"
   ]
  },
  {
   "cell_type": "markdown",
   "metadata": {},
   "source": [
    "Während für *positive Regressionskoeffizienten* $\\beta_j$ die Wahrscheinlichkeiten mit größer werdenden Beobachtungen ebenfalls - wenn auch nicht linear - ansteigen, bewirken *negative Regressionskoeffizienten* ein Absinken der Wahrscheinlichkeit $P(y=1)$ mit ansteigenden Beobachtungswerten der unabhängigen Variablen.\n",
    "\n",
    "Die folgende Abbildung zeigt ein entsprechendes Beispiel für $z = 0.8\\cdot x$ und $z = -0.8\\cdot x$:"
   ]
  },
  {
   "cell_type": "code",
   "execution_count": 16,
   "metadata": {},
   "outputs": [
    {
     "data": {
      "text/plain": "<Figure size 432x288 with 1 Axes>",
      "image/png": "[encoded data removed]"
     },
     "metadata": {
      "needs_background": "light"
     },
     "output_type": "display_data"
    }
   ],
   "source": [
    "x = np.array([i/10 for i in range(-60,61)])\n",
    "z1 = 0.8*x\n",
    "z2 = -0.8*x\n",
    "y1 = 1/(1+np.exp(-z1))\n",
    "y2 = 1/(1+np.exp(-z2))\n",
    "plt.axvline(x = 0, color = 'black', linestyle = '-') \n",
    "plt.plot(x, y1);\n",
    "plt.plot(x, y2);\n",
    "plt.text(-6, 0.8, \"$z=-0.8x$\");\n",
    "plt.text(4, 0.8, \"$z=0.8x$\");"
   ]
  },
  {
   "cell_type": "markdown",
   "metadata": {},
   "source": [
    "Insgesamt kann damit festgehalten werden, dass sich gleiche Veränderungen in den Beobachtungswerten der unabhängigen Variablen $X_j$ in verschiedenen Bereichen der logistischen Funktion *unterschiedlich* auf die Eintrittswahrscheinlichkeiten $P(y=1)$ auswirken. Das bedeutet, dass eine Änderung in der Ausprägung einer Variablen $X$ z.B. von 1 auf 2 eine andere Wahrscheinlichkeitswirkung nach sich zieht als etwa eine Erhöhung von 3 auf 4, obwohl die Veränderung von $X$ in beiden Fällen $\\Delta X=1$ beträgt.\n",
    "\n",
    "Aufgrund dieser nicht-linearen Zusammenhänge können die Schätzungen der Parameter $\\beta_j$ auch **nicht** - wie bei der linearen Regression - als **globales Maß** für die Einflussstärke der $X_j$ auf die $p_k$ gewertet werden.\n",
    "\n",
    "Entsprechend der oben aufgezeigten Zusammenhänge kann zusammenfassend festgehalten werden, dass aufgrund des logistischen Funktionsverlaufs ohne weitere Mühe nur die **Richtung des Einflusses** der unabhängigen Variablen erkennbarer ist. Für steigende $X$-Werte gilt:\n",
    "\n",
    "- **Negative** Regressionskoeffizienten führen zu einer **kleineren Wahrscheinlichkeit** für die Ausprägung $y=1$\n",
    "- **Positive** Regressionskoeffizienten führen zu einer **größeren Wahrscheinlichkeit** für das Ereignis $y=1$\n",
    "\n",
    "Ein negatives $\\beta_j$ führt ceteris paribus dazu, dass der Wert der Linearkombination $z_k = \\beta_0 + \\beta_1 x_{1k} + \\cdots + \\beta_J x_{Jk}$ bei steigenden Ausprägungen der Variablen $X_j$ kleiner wird. \n",
    "\n",
    "Demnach weist eine hohe Ausprägung der unabhängigen Variablen darauf hin, dass der Befragte $k$ eher der Gruppe der Nichtkäufer ($y=0$) angehört. Genau umgekehrt verhält es sich bei einem positiven $\\beta_j$ Wert:\n",
    "\n",
    "ABBILDUNG 5.11 nachbauen!!"
   ]
  },
  {
   "cell_type": "markdown",
   "metadata": {},
   "source": [
    "Eine Interpretationserleichterung kann nun dadurch erreicht werden, dass *nicht* die Eintrittswahrscheinlichkeit $P(y=1)$ selbst, sondern *ihr Verhältnis zur Gegenwahrscheinlichkeit* $P(y=0)$ bzw. $1 - P(y=1)$ betrachtet wird. Dieses *Wahrscheinlichkeitsverhältnis* steht für die Chance (*Odd*), das Ereignis $y=1$ im Vergleich zum Ereignis $y=0$ zu erhalten. \n",
    "\n",
    "Die **Odds der logistischen Regression** sind definiert als:\n",
    "\n",
    "$\\text{Odds}(y=1) = \\frac{p(y=1)}{1-p(y=1)}$\n",
    "\n",
    "Es gilt weiters:\n",
    "\n",
    "$p(y=1) = \\frac{e^z}{1+e^z}$\n",
    "\n",
    "$p(y=1)\\cdot(1+e^z) = e^z$\n",
    "\n",
    "$p(y=1) + p(y=1)\\cdot e^z = e^z$\n",
    "\n",
    "$p(y=1) = e^z - p(y=1)\\cdot e^z$\n",
    "\n",
    "$p(y=1) = e^z \\cdot (1-p(y=1))$\n",
    "\n",
    "$\\text{Odds: } \\frac{p(y=1)}{1-p(y=1)} = e^z$\n",
    "\n",
    "Die Odds erweitern daher den Wertebereich des Ereignisses $y=1$ auf das Intervall $[0,-\\infty]$. So korrespondiert beispielsweise mit $P(y=1)=0.8$ eine Chance von 4 (=0.8/0.2), dass das Ereignis $y=1$ eintritt, während das Chancenverhältnis für $P(y=1)=0.4$ nur bei 0.66 (=0.4/0.6) liegt.\n",
    "\n",
    "Bezogen auf unser Margarinebeispiel wäre bei einer Odd von 4 die Chance für einen Margarinekauf viermal höher als für einen Nichtkauf.\n",
    "\n",
    "Werden in einem zweiten Schritt die Odds logarithmiert, wobei üblicherweise der Logarithmus naturalis (ln) verwendet wird, so ergibt sich folgender Zusammenhang für die **Logits der logistischen Regression**:\n",
    "\n",
    "$\\ln \\Big(\\frac{p(y=1)}{1-p(y=1)}\\Big) = z\\ln(e) = z$\n",
    "\n",
    "$\\ln \\Big(\\frac{p(y=1)}{1-p(y=1)}\\Big) = \\beta_0 + \\sum_{j=1}^J \\beta_j \\cdot x_{jk} + u_k$\n",
    "\n",
    "Die logarithmierten Odds werden üblicherweise **Logits** bezeichnet und entsprechen der aggregierten Einflussstärke $Z$. Sie stellen eine Linearkombination der unabhängigen Variablen dar und erlauben damit eine Interpretation analog zur linearen Regressionsanalyse. Außerdem ist der Wertebereich der Logits auf das Intervall $[-\\infty, \\infty]$ ausgedehnt, da der Logarithmus naturalis für Werte zwischen 0 und 1 negativ wird. \n",
    "\n",
    "Die Überlegungen machen deutlich, dass die durch die Regressionskoeffizienten bestimmte aggregierte Einflussstärke auf die Eintrittswahrscheinlichkeit des Ereignisses $y=1$ (z-Werte), die Logits und die Odds **exakt** den gleichen Sachverhalt beschreiben.\n",
    "\n",
    "Sie stellen lediglich **verschiedene Möglichkeiten der Ergebnisinterpretation** dar, so dass gilt:\n",
    "\n",
    "$Z = \\text{ Logit } = \\ln(\\text{Odds})$\n",
    "\n",
    "Übertragen wir die obigen Überlegungen auf unser Rechenbeispiel, so ist eine Interpretation der Parameterschätzungen der logistischen Regression wie folgt möglich:\n",
    "\n",
    "- Für die Variable \"Streichfähigkeit\" wurde ein Regressionskoeffizient von -1.943 ermittelt, womit diese Variable - aufgrund des negativen Vorzeichens des Koeffizienten - die Kaufwahrscheinlichkeit $P(y=1)$ für Margarine **reduziert**.\n",
    "- Demgegenüber beeinflusst die Variable \"Haltbarkeit\" mit einem Regressionskoeffizienten von 1.119 die Margarine-Kaufwahrscheinlich **positiv**.\n",
    "\n",
    "Neben diesen Tendenzaussagen ist eine genauere Aussage über die Höhe der Einflussstärken der beiden Variablen auf die Eintrittswahrscheinlichkeiten mit Hilfe der Odds über die sogenannte **\"odds ratio\"** erzielbar, die auch als **Effekt-Koeffizienten** bezeichnet werden:\n",
    "\n",
    "- Erhöht sich eine unabhängige Variable um eine Einheit (also $x_j+1$), so vergrößert sich das Chancenverhältnis zu Gunsten des Ereignisses $y=1$ (Odds) um den Faktor $e^\\beta_j$.\n",
    "\n",
    "Die Wirkung des Effekt-Koeffizienten $e^{\\beta_j}$ bei Erhöhung der Variablen $x_j$ um eine Einheit ($x_j+1$) lässt sich anhand der Odds ($e^Z$) wie folgt verdeutlichen:\n",
    "\n",
    "$e^{\\beta_0 + \\beta_1 \\cdot (x+1)} =  e^{\\beta_0} \\cdot e^{\\beta_1 x}\\cdot e^{\\beta_1}$\n",
    "\n",
    "$= \\Big(e^{\\beta_0 + \\beta_1x}\\Big)\\cdot e^{\\beta_1}$\n",
    "\n",
    "$= e^{Z}\\cdot e^{\\beta_1}$\n",
    "\n",
    "$= \\text{Odds}\\cdot e^{\\beta_1}$\n",
    "\n",
    "Bezogen auf unser Rechenbeispiel steigert somit die Erhöhung der Haltbarkeit um eine Einheit die Odds um den Faktor 3.062 (=e^{1.119}), während eine Erhöhung der Streichfähigkeit die Odds nur um den Faktor 0.143 (=e^{-1.943}) verringert. Die allgemeine Wirkung der odds ratio bzw. des Effekt-Koeffizienten ist in der folgenden Abbildung zu sehen, wobei deutlich wird, dass der Effekt-Koeffizient nur Werte zwischen 0 und $+\\infty$ annehmen kann."
   ]
  },
  {
   "cell_type": "code",
   "execution_count": 17,
   "metadata": {},
   "outputs": [
    {
     "data": {
      "text/plain": "<Figure size 432x288 with 1 Axes>",
      "image/png": "[encoded data removed]"
     },
     "metadata": {
      "needs_background": "light"
     },
     "output_type": "display_data"
    }
   ],
   "source": [
    "b = np.array([i/10 for i in range(-30,31)])\n",
    "exp_b = np.exp(b)\n",
    "plt.plot(b, exp_b);\n",
    "plt.xlabel('Regressionskoeffizient beta');\n",
    "plt.ylabel('Effekt-Koeffizient exp(beta)');"
   ]
  },
  {
   "cell_type": "markdown",
   "metadata": {},
   "source": [
    "Der Zusammenhang zwischen den verschiedenen hier vorgestellten Interpretationsmöglichkeiten ist hier nochmals zusammenfassend dargestellt:\n",
    "\n",
    "| Regressions Koeffizient $\\beta$ | Effekt Koeffizient $e^{\\beta}$ | Logit $z$ | Odds | P(y=1)|\n",
    "| --- | --- | --- | --- | --- |\n",
    "| $\\beta > 0$ | $e^{\\beta} > 1$ | steigt um $\\beta$ | steigt um $e^{\\beta} > 1$ | steigt |\n",
    "| $\\beta < 0$ | $e^{\\beta} < 1$ | sinkt um $\\beta$ | sinkt um $e^{\\beta} > 1$ | fällt |"
   ]
  },
  {
   "cell_type": "markdown",
   "metadata": {},
   "source": [
    "## Prüfung des Gesamtmodells\n",
    "\n",
    "Bei der Prüfiung des Gesamtmodells stehen zwei Fragen im Vordergrund:\n",
    "\n",
    "1. Wie gut können die Parameterschätzungen in ihrer Gesamtheit das definierte Regressionsmodell abbilden?\n",
    "1. Liegen extreme Beobachtungsfälle vor, die als Ausreißer anzusehen sind und eine Eliminierung oder aber aufgrund ihres gehäuften Auftretens gegebenenfalls eine Modellveränderung erfordern?\n",
    "\n",
    "Beiden Fragen wird im Folgenden nachgegangen. Zunächst werden ausgewählte Gütemaße behandelt, die Auskunft über den Gesamtfit des analysierten Modells geben, und anschließend wird eine Ausreißerdiagnostik durchgeführt.\n",
    "\n",
    "### Gütemaße für den Regressionsansatz\n",
    "\n",
    "Bei der Beurteilung der Modellgüte eines logistischen Regressionsansatzes insgesamt (**Gesamtfit**) steht die Frage im Vordergrund, wie gut die unabhängigen Variablen in ihrer **Gesamtheit** zur Trennung der Ausprägungskategorien von $Y$ beitragen. Zur Beantwortung dieser Frage kann auf verschiedene Arten von Gütekriterien zurückgegriffen werden, die sich wie folgt strukturieren lassen: \n",
    "\n",
    "1. Gütekriterien auf der Basis der LogLikelihood-Funktion\n",
    "1. Pseudo-$R^2$-Statistiken\n",
    "1. Beurteilung der Klassifikationsergebnisse\n",
    "\n",
    "#### Gütekriterien auf Basis der LL-Funktion\n",
    "##### Analyse der Devianz bzw. des -2LogLikelihood-Wertes\n",
    "\n",
    "Der Likelihood gibt die Wahrscheinlichkeit wieder, unter den gegebenen Parameterschätzungen die empirisch erhobenen Beobachtungswerte zu erhalten. Wird an Stelle des Likelihood das -2-fache des logarithmierten Likelihood (-2LL) betrachtet, so läßt sich zeigen, dass diese Größe Approximativ einer *$\\chi^2$-Verteilung* mit $(K-J-1)$ Freiheitsgraden folgt, wobei $K$ die Zahl der Beobachtungen und $J$ die Anzahl der Parameter darstellt.\n",
    "\n",
    "Die Größe $-2LL$ wird auch als **Devianz** (Abweichung vom Idealwert) bezeichnet und kann inhaltlich mit der Fehlerquadratsumme der klassischen Regressionsanalyse verglichen werden. Sie dient weiterhin als **Gütemaß zur Überprüfung des Modellfits**.\n",
    "\n",
    "Ein perfekter Modellfit hat \n",
    "\n",
    "- einen Likelihood von 1\n",
    "- und daher eine Devianz von 0\n",
    "\n",
    "Mit Hilfe der Devianz kann folgende Hypothese getestet werden: \n",
    "\n",
    "> $H_0$: Das Modell besitzt eine perfekte Anpassung\n",
    "\n",
    "> $H_1$: Das Modell besitzt *keine* perfekte Anpassung\n",
    "\n",
    "Weist die Devianz einen **geringen** Wert auf, so kann die Nullhypothese **nicht verworfen** werden und es kann auf eine **gute Anpassung** geschlossen werden. Entsprechend impliziert eine **hohe** Irrtumswahrscheinlichkeit basierend auf einem **hohen Wert** der Devianz die **Ablehnung** der Nullhypothese (hohes Signifikanzniveau) und spricht damit für eine **schlechte Anpassung** des Gesamtmodells. \n",
    "\n",
    "Für das hier betrachtete Rechenbeispiel berechnen wir uns zunächst die LL:"
   ]
  },
  {
   "cell_type": "code",
   "execution_count": 18,
   "metadata": {},
   "outputs": [
    {
     "data": {
      "text/plain": "-9.295282622785976"
     },
     "execution_count": 18,
     "metadata": {},
     "output_type": "execute_result"
    }
   ],
   "source": [
    "LL = np.sum(y*np.log(1/(1+np.exp(-z)))+(1-y)*np.log(1- 1/(1+np.exp(-z))))\n",
    "LL"
   ]
  },
  {
   "cell_type": "markdown",
   "metadata": {},
   "source": [
    "Und die Devianz:"
   ]
  },
  {
   "cell_type": "code",
   "execution_count": 19,
   "metadata": {},
   "outputs": [
    {
     "data": {
      "text/plain": "18.590565245571952"
     },
     "execution_count": 19,
     "metadata": {},
     "output_type": "execute_result"
    }
   ],
   "source": [
    "devianz = -2*LL\n",
    "devianz"
   ]
  },
  {
   "cell_type": "markdown",
   "metadata": {},
   "source": [
    "Diesen vergleichen wir nun mit dem $\\chi^2$ Wert für 5% Irrtumswahrscheinlichkeit und $(K - J - 1) = (24 - 2 - 1) = 21$ Freiheitsgraden:"
   ]
  },
  {
   "cell_type": "code",
   "execution_count": 20,
   "metadata": {},
   "outputs": [
    {
     "data": {
      "text/plain": "32.670573340917315"
     },
     "execution_count": 20,
     "metadata": {},
     "output_type": "execute_result"
    }
   ],
   "source": [
    "sp.chi2.ppf(1-0.05,24-2-1)"
   ]
  },
  {
   "cell_type": "markdown",
   "metadata": {},
   "source": [
    "Da die Devianz kleiner ist, kann damit die Nullhypothese nicht verworfen werden, d.h. unser Modell weist in dieser Form eine sehr gute Anpassung auf.\n",
    "\n",
    "Die Devianz ist als Gütemaß in der Literatur jedoch **umstritten**: Ihr Problem liegt in der **Nichtberücksichtigung** der Verteilung der Beobachtungen auf die Gruppen!\n",
    "\n",
    "Dass die Häufigkeit des Auftretrens der jeweiligen Kategorien eine Rolle spielt, wird sofort klar, wenn im Extrem ein Datensatz mit 100 Beobachtungen betrachtet wird, von denen 99 einer Gruppe $y = 1$ angehören. Stellen wir uns ein Modell vor, in dem **keine** unabhängige Variable berücksichtigt wird, das als nur aus dem Absolutterm $\\beta_0$ besteht. \n",
    "\n",
    "Schreiben wir die $LL$-Funktion mit den Wahrscheinlichkeiten der Ereignisse ($p(y=1) = 0.99$, also \n",
    "\n",
    "$$LL = \\sum_{k=1}^K y_k \\ln p(y=1) + (1-y_k) \\ln(1-p(y=1)) = 99 \\cdot \\ln(0.99) + 1 \\cdot \\ln(1-0.99) = -5.620$$\n",
    "\n",
    "und damit sind wir schon sehr nahe bei 0, dem absoluten Maximum der LL Funktion.\n",
    "\n",
    "Liegt hingegen bei gleicher Beobachtungszahl eine Gleichverteilung der zwei Kategorien vor (50:50), dann bekommen wir einen LL-Wert von \n",
    "\n",
    "$$LL = 50 \\cdot \\ln(0.5) + 50 \\cdot \\ln(0.5) = -69.31$$\n",
    "\n",
    "Es wird offensichtlich, dass der **Abstand** des LL-Wertes von Null auf **zwei Einflüsse** zurückzuführen ist:\n",
    "\n",
    "- Zum einen wird er bestimmt von der **Trennfähigkeit** der Variablen,\n",
    "- zum anderen beeinflusst ihn aber auch die **Verteilung der Beobachtungen auf die Kategorien** der abhängigen Variablen.\n",
    "\n",
    "Für die **Devianz als Gütekriterium** hat das zur Konsequenz, dass ein Modell auf Basis eines Datensatzes mit einer sehr schiefen Verteilung zwischen den Gruppen in der Tendenz besser bewertet wird, als ein Modell mit nahezu gleich großer Gruppenstärke. Die Devianz reagiert insoweit nicht ausschließlich auf die Trennfähigkeit der betrachteten unabhängigen Variablen.\n",
    "\n",
    "##### Likelihood-Ratio Test\n",
    "\n",
    "Die mit der Devianz verbundenen Probleme versucht der sogenannte **Likelihood-Ratio-Test** (auch \"Modell $\\chi^2$-Test\" genannt) zu beheben, indem er den maximierten LL-Wert nicht mit Null, sondern mit demjenigen LL-Wert vergleicht, der sich ergibt, wenn alle Regressionskoeffizienten der unabhängigen Variablen auf Null gesetzt werden und nur noch der konstante Term betrachtet wird. Wir sprechen in diesem Fall vom **Null-Modell**. \n",
    "\n",
    "Die Devianz des Null-Modells wird dann mit der des **vollständigen Modells** (alle unabhängigen Variable werden betrachtet) verglichen. Ist die *absolute Differenz* zwischen der Devianz des Null-Modells und der des vollständigen Modells **klein**, so tragen die unabhängigen Variablen anscheinend nur **wenig** zur Unterscheidung der $y$-Zustände bei. Ist diese Differenz jedoch **groß**, so können wir von einer **hohen Erklärungskraft** der unabhängigen Variablen ausgehen. Durch den Bezug auf das Null-Modell wird der **Effekt der Gruppengröße** neutralisiert.\n",
    "\n",
    "Entsprechen den obigen Überlegungen testet der *Likelihood-Ratio-Test* (LR-Test) folgende Nullhypothese:\n",
    "\n",
    "$H_0$: Alle Regressionskoeffizienten sind gleich Null ($b_i = 0 \\forall i$)\n",
    "\n",
    "$H_1$: Alle Regressionskoeffizienten sind *ungleich* Null ($b_i \\neq 0 \\forall i$)\n",
    "\n",
    "Als Testgröße wird die absolute Differenz zwischen dem Null-Modell und dem vollständigen Modell betrachtet, die mit $J$ Freiheitsgraden ($J$ = Zahl der unabhängigen Variablen) asymptotisch $\\chi^2$-verteilt ist. Verglichen mit dem Referenzwert aus einer $\\chi^2$-Tabelle (oder aus einem Statistikprogramm) kann die **Signifikanz des Modells** beurteilt werden. \n",
    "\n",
    "Die unabhängigen Variablen haben **dann einen bedeutenden Einfluss**, wenn der **LR-Wert größer als der tabellierte $\\chi^2$-Wert** ist.\n",
    "\n",
    "Die Werte für $LL_0$ und $LL_v$ können wir aus der Summary der logistischen Regression ablesen oder über `llnull` (null model) und `llf` (full model) abrufen:"
   ]
  },
  {
   "cell_type": "code",
   "execution_count": 21,
   "metadata": {},
   "outputs": [
    {
     "name": "stdout",
     "output_type": "stream",
     "text": [
      "                           Logit Regression Results                           \n",
      "==============================================================================\n",
      "Dep. Variable:                      y   No. Observations:                   24\n",
      "Model:                          Logit   Df Residuals:                       21\n",
      "Method:                           MLE   Df Model:                            2\n",
      "Date:                Thu, 11 Nov 2021   Pseudo R-squ.:                  0.4412\n",
      "Time:                        13:05:51   Log-Likelihood:                -9.2953\n",
      "converged:                       True   LL-Null:                       -16.636\n",
      "Covariance Type:            nonrobust   LLR p-value:                 0.0006489\n",
      "==============================================================================\n",
      "                 coef    std err          z      P>|z|      [0.025      0.975]\n",
      "------------------------------------------------------------------------------\n",
      "const          3.5277      2.338      1.509      0.131      -1.055       8.111\n",
      "x1            -1.9427      0.798     -2.434      0.015      -3.507      -0.378\n",
      "x2             1.1194      0.586      1.909      0.056      -0.030       2.269\n",
      "==============================================================================\n"
     ]
    }
   ],
   "source": [
    "print(result.summary())"
   ]
  },
  {
   "cell_type": "code",
   "execution_count": 22,
   "metadata": {},
   "outputs": [
    {
     "data": {
      "text/plain": "-9.295282622785976"
     },
     "execution_count": 22,
     "metadata": {},
     "output_type": "execute_result"
    }
   ],
   "source": [
    "result.llf"
   ]
  },
  {
   "cell_type": "code",
   "execution_count": 23,
   "metadata": {},
   "outputs": [
    {
     "data": {
      "text/plain": "-16.635532333438686"
     },
     "execution_count": 23,
     "metadata": {},
     "output_type": "execute_result"
    }
   ],
   "source": [
    "result.llnull"
   ]
  },
  {
   "cell_type": "markdown",
   "metadata": {},
   "source": [
    "Den LL-Wert für das Null-Modell kann man auch aus der Summary von einer Logistischen Regression ablesen, in der als unabhängige Variable die Einheitsmatrix genommen wird:"
   ]
  },
  {
   "cell_type": "code",
   "execution_count": 24,
   "metadata": {},
   "outputs": [
    {
     "name": "stdout",
     "output_type": "stream",
     "text": [
      "Optimization terminated successfully.\n",
      "         Current function value: 0.693147\n",
      "         Iterations 1\n",
      "                           Logit Regression Results                           \n",
      "==============================================================================\n",
      "Dep. Variable:                      y   No. Observations:                   24\n",
      "Model:                          Logit   Df Residuals:                       23\n",
      "Method:                           MLE   Df Model:                            0\n",
      "Date:                Thu, 11 Nov 2021   Pseudo R-squ.:                   0.000\n",
      "Time:                        13:05:51   Log-Likelihood:                -16.636\n",
      "converged:                       True   LL-Null:                       -16.636\n",
      "Covariance Type:            nonrobust   LLR p-value:                       nan\n",
      "==============================================================================\n",
      "                 coef    std err          z      P>|z|      [0.025      0.975]\n",
      "------------------------------------------------------------------------------\n",
      "const               0      0.408          0      1.000      -0.800       0.800\n",
      "==============================================================================\n"
     ]
    }
   ],
   "source": [
    "print(sm.Logit(y.values, np.ones(24)).fit().summary())"
   ]
  },
  {
   "cell_type": "markdown",
   "metadata": {},
   "source": [
    "Wir sehen, dass in diesem Fall der Koeffizient $\\beta_0=0$ ist (wie zu erwarten). Eingesetzt in die Formel für LL ergibt sich ebenfalls der $LL_0$-Wert:"
   ]
  },
  {
   "cell_type": "code",
   "execution_count": 25,
   "metadata": {},
   "outputs": [
    {
     "data": {
      "text/plain": "-16.635532333438686"
     },
     "execution_count": 25,
     "metadata": {},
     "output_type": "execute_result"
    }
   ],
   "source": [
    "LLnull = np.sum(y*np.log(1/(1+np.exp(0)))+(1-y)*np.log(1- 1/(1+np.exp(0))))\n",
    "LLnull"
   ]
  },
  {
   "cell_type": "markdown",
   "metadata": {},
   "source": [
    "Daraus ergibt sich ein $\\chi^2$-Wert von $|-16.636 - (-9.2953)| = 7.3407$. Der tabellierte $\\chi^2$-Wert für 2 Freiheitsgrade ist"
   ]
  },
  {
   "cell_type": "code",
   "execution_count": 26,
   "metadata": {},
   "outputs": [
    {
     "data": {
      "text/plain": "5.991464547107979"
     },
     "execution_count": 26,
     "metadata": {},
     "output_type": "execute_result"
    }
   ],
   "source": [
    "sp.chi2.ppf(1-0.05,2)"
   ]
  },
  {
   "cell_type": "markdown",
   "metadata": {},
   "source": [
    "Da 7.3 > 5.99, ist die **Nullhypothese abzulehnen**, womit darauf geschlossen werden kann, dass das im Rechenbeispiel betrachtete Modell für die erhobene Datenreihe signifikant ist.\n",
    "\n",
    "Der LR-Test ist mit dem F-Test der multiplen linearen Regression vergleichbar."
   ]
  },
  {
   "cell_type": "markdown",
   "metadata": {},
   "source": [
    "### Pseudo-$R^2$-Statistiken"
   ]
  },
  {
   "cell_type": "markdown",
   "metadata": {},
   "source": [
    "Die sogenannten **Pseudo-$R^2$-Statistiken** versuchen, den Anteil der erklärten \"Variation\" des logistischen Regressionsansatzes zu quantifizieren. Sie sind deshalb vergleichbar mit dem Bestimmtheitsmaß $R^2$ der linearen Regressionsanalyse, wobei jedoch zu beachten ist, dass die Variation der logistischen Regressionsanalyse anders definiert werden muss. Auch bei den Pseudo-$R^2$-Statistiken wird auf das Verhältnis zwischen dem Likelihood des Nullmodells $LL_o$ und dem Likelihood des vollständigen Modells $LL_v$ zur Beurteilung der Güte zurückgegriffen. "
   ]
  },
  {
   "cell_type": "markdown",
   "metadata": {},
   "source": [
    "#### McFaddens-R^2"
   ]
  },
  {
   "cell_type": "markdown",
   "metadata": {},
   "source": [
    "Wie der LR-Test, so beruht auch *McFaddens-$R^2$* (McF-$R^2$) auf der Gegenüberstellung der LL-Werte des vollständigen und des Null-Modells und ist wie folgt definiert:\n",
    "\n",
    "$$McFR^2 = 1 - \\frac{LL_v}{LL_0}$$\n",
    "\n",
    "In unserem Beispiel bedeutet das: \n",
    "\n",
    "$$McFR^2 = 1 - \\frac{-9.259}{-16.636} = 0.441$$\n",
    "\n",
    "Wir können uns das auch direkt aus den Results ausgeben lassen:"
   ]
  },
  {
   "cell_type": "code",
   "execution_count": 27,
   "metadata": {},
   "outputs": [
    {
     "data": {
      "text/plain": "0.44123924401855474"
     },
     "execution_count": 27,
     "metadata": {},
     "output_type": "execute_result"
    }
   ],
   "source": [
    "result.prsquared"
   ]
  },
  {
   "cell_type": "markdown",
   "metadata": {
    "tags": []
   },
   "source": [
    "Bei einem **geringen** Unterschied zwischen den beiden Modellen ist der Quotient **nahe Null** und McF-$R^2$ folglich nahe Null. Bei einem **großen** Unterschied ist es genau umgekehrt und der Quotient **nahe Eins**, wobei das Erreichen der Eins aufgrund der Konstruktion der Statistik (bei realen Datensätzen) nahezu unmöglich ist. Als **Regel** wird bereits bei Werten ab 0.2 bzw. 0.4 von einer guten Modellanpassung gesprochen,\n",
    "\n",
    "Für unser Beispiel kann mit einem Wert von 0.441 auf einen guten Modellfit geschlossen werden. \n",
    "\n",
    "Während der **LR-Test** eine Antwort auf die Frage nach der **Signifikanz des Modells** und damit nach der **Übertragbarkeit** der Ergebnisse auf die Grundgesamtheit liefert, stellt **McF-R^2** ein Maß dar, mit dem die **Trennkraft der unabhängigen Variablen** insgesamt mit einem Wert benannt und damit (zwischen verschiedenen Modellen) **vergleichbar** gemacht werden kann."
   ]
  },
  {
   "cell_type": "markdown",
   "metadata": {},
   "source": [
    "#### Cox und Snell-R^2"
   ]
  },
  {
   "cell_type": "markdown",
   "metadata": {},
   "source": [
    "**Cox und Snell-$R^2$** kann nur **Werte kleiner 1** annehmen, d.h. es kann den Maximalwert von 1 nie erreichen und berechnet sich wie folgt:\n",
    "\n",
    "$$CS-R^2 = 1 - \\Big(\\frac{L_0}{L_v}\\Big)^{2/K}$$\n",
    "\n",
    "wobei hier $L$ die jeweilige *Likelihood* (nicht LogLikelihood!) ausdrückt. $K$ steht für den Stichprobenumfang.\n",
    "\n",
    "Für unser Beispiel gilt also:\n",
    "\n",
    "$$1 - \\Big(\\frac{e^{-16.636}}{e^{-9.295}}\\Big)^{2/24} = 0.458$$"
   ]
  },
  {
   "cell_type": "code",
   "execution_count": 28,
   "metadata": {},
   "outputs": [
    {
     "data": {
      "text/plain": "0.4575991634254869"
     },
     "execution_count": 28,
     "metadata": {},
     "output_type": "execute_result"
    }
   ],
   "source": [
    "CSR = 1 - (np.exp(-16.636)/np.exp(-9.295))**(1/12)\n",
    "CSR"
   ]
  },
  {
   "cell_type": "markdown",
   "metadata": {},
   "source": [
    "#### Nagelkerke-R^2"
   ]
  },
  {
   "cell_type": "markdown",
   "metadata": {},
   "source": [
    "**Nagelkerke**-$R^2$ ist so definiert, dass auch der Maximalwert von 1 erreicht werden kann, wodurch es - im Gegensatz zu Cox und Snell-$R^2$ - eine **eindeutige inhaltliche Interpretation** erlaubt. Dementsprechend ist diesem Gütekriterium bei der Beurteilung der **Güte eines Modells der Vorzug** zu geben.\n",
    "\n",
    "$$NR^2 = \\frac{CSR^2}{R_{max}^2}$$\n",
    "\n",
    "wobei \n",
    "\n",
    "$$R_{max}^2 = 1 - (L_0)^2/K$$\n",
    "\n",
    "Für unser Beispiel gilt:\n",
    "\n",
    "$$NR^2 = \\frac{0.458}{1 - (e^{-16.636})^{2/24}} = 0.610$$"
   ]
  },
  {
   "cell_type": "code",
   "execution_count": 29,
   "metadata": {},
   "outputs": [
    {
     "data": {
      "text/plain": "0.6101242920903808"
     },
     "execution_count": 29,
     "metadata": {},
     "output_type": "execute_result"
    }
   ],
   "source": [
    "NR = CSR/(1-np.exp(-16.636)**(2/24))\n",
    "NR"
   ]
  },
  {
   "cell_type": "markdown",
   "metadata": {},
   "source": [
    "Wird als Vergleichsmaßstab einer Beurteilung der vorliegenden Werte der Grenzwert des Bestimmtheitsmaßes der linearen Regression herangezogen, so lassen sich die **Werte von über 0.5 noch als sehr gut interpretieren**. Die Grenzziehung bei 0.5 kann damit begründet werden, dass in diesem Fall mindestens die Hälfte der Varianz der abhängigen Variablen durch die unabhängigen Größen erklärt werden kann."
   ]
  },
  {
   "cell_type": "markdown",
   "metadata": {},
   "source": [
    "### Beurteilung der Klassifikationsergebnisse"
   ]
  },
  {
   "cell_type": "markdown",
   "metadata": {},
   "source": [
    "Eine weitere Möglichkeit den Modellfit zu beurteilen, bietet die Beurteilung der Klassifikationsergebnisse. Dazu sehen wir uns die Konfusionsmatrix an:"
   ]
  },
  {
   "cell_type": "code",
   "execution_count": 30,
   "metadata": {},
   "outputs": [
    {
     "data": {
      "text/plain": "Actual      0   1\nPredicted        \n0          10   2\n1           2  10",
      "text/html": "<div>\n<style scoped>\n    .dataframe tbody tr th:only-of-type {\n        vertical-align: middle;\n    }\n\n    .dataframe tbody tr th {\n        vertical-align: top;\n    }\n\n    .dataframe thead th {\n        text-align: right;\n    }\n</style>\n<table border=\"1\" class=\"dataframe\">\n  <thead>\n    <tr style=\"text-align: right;\">\n      <th>Actual</th>\n      <th>0</th>\n      <th>1</th>\n    </tr>\n    <tr>\n      <th>Predicted</th>\n      <th></th>\n      <th></th>\n    </tr>\n  </thead>\n  <tbody>\n    <tr>\n      <th>0</th>\n      <td>10</td>\n      <td>2</td>\n    </tr>\n    <tr>\n      <th>1</th>\n      <td>2</td>\n      <td>10</td>\n    </tr>\n  </tbody>\n</table>\n</div>"
     },
     "execution_count": 30,
     "metadata": {},
     "output_type": "execute_result"
    }
   ],
   "source": [
    "conf_matrix = pd.crosstab(result.predict(statsmodels.tools.tools.add_constant(X.values)).round(0).astype('int32'), y, rownames=['Predicted'], colnames=['Actual'])\n",
    "conf_matrix"
   ]
  },
  {
   "cell_type": "markdown",
   "metadata": {},
   "source": [
    "Eine wichtige Kenngröße ist der Anteil der korrekt klassifizierten Elemente $a$, der sich aus der Summe der Diagonalelemente dividiert durch den Stichprobenumfang ergibt:"
   ]
  },
  {
   "cell_type": "code",
   "execution_count": 31,
   "metadata": {},
   "outputs": [
    {
     "data": {
      "text/plain": "0.8333333333333334"
     },
     "execution_count": 31,
     "metadata": {},
     "output_type": "execute_result"
    }
   ],
   "source": [
    "a = sum(np.diag(conf_matrix))/24\n",
    "a"
   ]
  },
  {
   "cell_type": "markdown",
   "metadata": {},
   "source": [
    "#### Press's Q-Test"
   ]
  },
  {
   "cell_type": "markdown",
   "metadata": {},
   "source": [
    "Neben der Analyse der Konfusionsmatrix kann zur Klassifikationsprüfung auch ein Test herangezogen werden. Der sogenannt **Press's Q-Test** wird üblicherweise zur Kreuzvalidierung von Klassifikationsergebnnissen eingesetzt. Die Prüfgröße folgt einer **$\\chi^2$-Verteilung** mit einem Freiheitsgrad und berechnet sich wie folgt:\n",
    "\n",
    "$$Q = \\frac{(K - (K \\cdot G \\cdot a))^2}{K(G-1)}$$\n",
    "\n",
    "mit dem Stichprobenumfang $K$, der Anzahl der Gruppen $G$ und dem Anteil der korrekt klassifizierten Elemente $a$.\n",
    "\n",
    "In unserem Beispiel haben wir:\n",
    "\n",
    "$$Q = \\frac{(24 - (24 \\cdot 2 \\cdot 0.833))^2}{24(2-1)} = 10.67$$"
   ]
  },
  {
   "cell_type": "markdown",
   "metadata": {},
   "source": [
    "Der tabellierte Wert der $\\chi^2$-Verteilung für einen Freiheitsgrad mit einem $\\alpha=0.05$ ist"
   ]
  },
  {
   "cell_type": "code",
   "execution_count": 32,
   "metadata": {},
   "outputs": [
    {
     "data": {
      "text/plain": "3.841458820694124"
     },
     "execution_count": 32,
     "metadata": {},
     "output_type": "execute_result"
    }
   ],
   "source": [
    "sp.chi2.ppf(1-0.05,1)"
   ]
  },
  {
   "cell_type": "markdown",
   "metadata": {},
   "source": [
    "Somit liegt der $Q$-Wert deutlich über dem kritischen Wert von 3.84, damit erweisen sich die Klassifikationsergebnisse als signifikant von einer zufälligen Zuordnung verschieden."
   ]
  },
  {
   "cell_type": "markdown",
   "metadata": {},
   "source": [
    "### Ausreißerdiagnostik"
   ]
  },
  {
   "cell_type": "markdown",
   "metadata": {},
   "source": [
    "Neben einer Aussage zum Gesamtfit eines logistischen Regressionsansatzes ist weiterhin von Interesse, welchen Effekt **einzelne Beobachtungen** auf die Gesamtgüte des Modells ausüben. Eine schlechte Anpassung der erhobenen Daten an die sachlogisch erwarteten Modellzusammenhänge kann dabei grundsätzlich aus **zwei Gründen** vorliegen: \n",
    "\n",
    "1. Das **Modell** ist unpassend, d.h. die unabhängigen Variablen beinflussen das Zustandekommen der $y$-Ausprägungen nicht\n",
    "1. Es gibt eine **Anzahl von Fällen** (Beobachtungen), die den vom Modell beschriebenen **Zusammenhang nicht aufweisen** und durch ihre besondere Variablenausprägung das Ergebnis **deutlich verzerren**.\n",
    "\n",
    "Der erste Fall kann nur aufgrund sachlogischer Überlegungen entschieden werden, die gegebenenfalls zu einer Neuformulierung des Modells führen. \n",
    "\n",
    "Demgegenüber ist der zweite Fall dann gegeben, wenn zwischen den empirischen Beobachtungen ($y$-Werte) und den über das Modell geschätzten Wahrscheinlichkeiten $p(y)$ große Diskrepanzen auftreten. Auskunft darüber, ob in diesem Sinne **\"Ausreißer\"** in den Beobachtungen vorliegen, geben z.B. die für jeden Fall (jede befragte Person) bestimmbaren **individuellen Residuen** (Resid), die sich für jeden Fall $k$ wie folgt berechnen:\n",
    "\n",
    "$$\\text{Resid}_k = y_k - p_k(y)$$\n",
    "\n",
    "Während die abhängige Variable $y$ im binären Fall nur die Beobachtungswerte 0 oder 1 annehmen kann, bewgen sich die geschätzten Wahrscheinlichekeitswerte $p_k(y)$ im Intervall [0,1]. Entsprechend liegen auch die Resid-Werte immer zwischen -1 und +1. \n",
    "\n",
    "Die Entscheidung, ob und welche Residuen nun einen verzerrenden Einfluss auf die Modellbildung ausüben, kann allerdings **nicht durch allgemeine statistische Maße** gestütz werden. Jedoch zeigen die diesbezüglichen Diskussionen in der Literatur, dass die Residuen in der Regel dann auf Ausreißerfälle hinweisen und Klassifikationsfehler bewirken, wenn sie (im Zwei-Gruppen-Fall) **betragsmäßig Werte von deutlich größer als 0.5** annehmen. \n",
    "\n",
    "Um solche Ausreißer besser erkennen zu können, werden die Residuen einer **Gewichtung** unterzogen. Eine Gewichtungsmöglichkeit lierfern dabei die sogenannten **standardisierten Residuen** (ZResid, auch Pearson-Residuen genannt), die sich wie folgt berechnen:\n",
    "\n",
    "$$\\text{ZResid}_k = \\frac{y_k - p(y_k = 1)}{\\sqrt{p(y_k = 1)\\cdot(1-p(y_k = 1))}}$$\n",
    "\n",
    "Je größer der Fehler im Zähler (bei Werten über 0.5), desto kleiner wird der Nenner, was insgesamt zu einem hohen ZResid-Wert führt.\n",
    "\n",
    "Definieren wir zu nächst Funktionen, um $p(y_k = 1)$, Resid und ZResid zu berechnen: "
   ]
  },
  {
   "cell_type": "code",
   "execution_count": 33,
   "metadata": {},
   "outputs": [],
   "source": [
    "def pk(z):\n",
    "    return np.exp(z)/(1+np.exp(z))\n",
    "\n",
    "def resid(y, z):\n",
    "    return y - pk(z)\n",
    "\n",
    "def zresid(y,z):\n",
    "    return (y - pk(z))/np.sqrt(pk(z)*(1-pk(z)))"
   ]
  },
  {
   "cell_type": "markdown",
   "metadata": {},
   "source": [
    "Dann erhalten wir:"
   ]
  },
  {
   "cell_type": "code",
   "execution_count": 34,
   "metadata": {},
   "outputs": [
    {
     "data": {
      "text/plain": "    yk   p(yk=1)     Resid    ZResid\n0    1  0.952597  0.047403  0.223074\n1    1  0.898182  0.101818  0.336690\n2    1  0.073673  0.926327  3.545922\n3    1  0.558346  0.441654  0.889384\n4    1  0.484591  0.515409  1.031308\n5    1  0.973214  0.026786  0.165902\n6    1  0.964312  0.035688  0.192376\n7    1  0.984014  0.015986  0.127459\n8    1  0.629613  0.370387  0.766992\n9    1  0.988062  0.011938  0.109919\n10   1  0.742263  0.257737  0.589263\n11   1  0.794762  0.205238  0.508172\n12   0  0.153387 -0.153387 -0.425649\n13   0  0.292149 -0.292149 -0.642438\n14   0  0.011269 -0.011269 -0.106761\n15   0  0.742263 -0.742263 -1.697035\n16   0  0.558346 -0.558346 -1.124373\n17   0  0.018944 -0.018944 -0.138961\n18   0  0.118743 -0.118743 -0.367073\n19   0  0.356896 -0.356896 -0.744955\n20   0  0.427329 -0.427329 -0.863831\n21   0  0.055845 -0.055845 -0.243205\n22   0  0.025308 -0.025308 -0.161136\n23   0  0.195891 -0.195891 -0.493571",
      "text/html": "<div>\n<style scoped>\n    .dataframe tbody tr th:only-of-type {\n        vertical-align: middle;\n    }\n\n    .dataframe tbody tr th {\n        vertical-align: top;\n    }\n\n    .dataframe thead th {\n        text-align: right;\n    }\n</style>\n<table border=\"1\" class=\"dataframe\">\n  <thead>\n    <tr style=\"text-align: right;\">\n      <th></th>\n      <th>yk</th>\n      <th>p(yk=1)</th>\n      <th>Resid</th>\n      <th>ZResid</th>\n    </tr>\n  </thead>\n  <tbody>\n    <tr>\n      <th>0</th>\n      <td>1</td>\n      <td>0.952597</td>\n      <td>0.047403</td>\n      <td>0.223074</td>\n    </tr>\n    <tr>\n      <th>1</th>\n      <td>1</td>\n      <td>0.898182</td>\n      <td>0.101818</td>\n      <td>0.336690</td>\n    </tr>\n    <tr>\n      <th>2</th>\n      <td>1</td>\n      <td>0.073673</td>\n      <td>0.926327</td>\n      <td>3.545922</td>\n    </tr>\n    <tr>\n      <th>3</th>\n      <td>1</td>\n      <td>0.558346</td>\n      <td>0.441654</td>\n      <td>0.889384</td>\n    </tr>\n    <tr>\n      <th>4</th>\n      <td>1</td>\n      <td>0.484591</td>\n      <td>0.515409</td>\n      <td>1.031308</td>\n    </tr>\n    <tr>\n      <th>5</th>\n      <td>1</td>\n      <td>0.973214</td>\n      <td>0.026786</td>\n      <td>0.165902</td>\n    </tr>\n    <tr>\n      <th>6</th>\n      <td>1</td>\n      <td>0.964312</td>\n      <td>0.035688</td>\n      <td>0.192376</td>\n    </tr>\n    <tr>\n      <th>7</th>\n      <td>1</td>\n      <td>0.984014</td>\n      <td>0.015986</td>\n      <td>0.127459</td>\n    </tr>\n    <tr>\n      <th>8</th>\n      <td>1</td>\n      <td>0.629613</td>\n      <td>0.370387</td>\n      <td>0.766992</td>\n    </tr>\n    <tr>\n      <th>9</th>\n      <td>1</td>\n      <td>0.988062</td>\n      <td>0.011938</td>\n      <td>0.109919</td>\n    </tr>\n    <tr>\n      <th>10</th>\n      <td>1</td>\n      <td>0.742263</td>\n      <td>0.257737</td>\n      <td>0.589263</td>\n    </tr>\n    <tr>\n      <th>11</th>\n      <td>1</td>\n      <td>0.794762</td>\n      <td>0.205238</td>\n      <td>0.508172</td>\n    </tr>\n    <tr>\n      <th>12</th>\n      <td>0</td>\n      <td>0.153387</td>\n      <td>-0.153387</td>\n      <td>-0.425649</td>\n    </tr>\n    <tr>\n      <th>13</th>\n      <td>0</td>\n      <td>0.292149</td>\n      <td>-0.292149</td>\n      <td>-0.642438</td>\n    </tr>\n    <tr>\n      <th>14</th>\n      <td>0</td>\n      <td>0.011269</td>\n      <td>-0.011269</td>\n      <td>-0.106761</td>\n    </tr>\n    <tr>\n      <th>15</th>\n      <td>0</td>\n      <td>0.742263</td>\n      <td>-0.742263</td>\n      <td>-1.697035</td>\n    </tr>\n    <tr>\n      <th>16</th>\n      <td>0</td>\n      <td>0.558346</td>\n      <td>-0.558346</td>\n      <td>-1.124373</td>\n    </tr>\n    <tr>\n      <th>17</th>\n      <td>0</td>\n      <td>0.018944</td>\n      <td>-0.018944</td>\n      <td>-0.138961</td>\n    </tr>\n    <tr>\n      <th>18</th>\n      <td>0</td>\n      <td>0.118743</td>\n      <td>-0.118743</td>\n      <td>-0.367073</td>\n    </tr>\n    <tr>\n      <th>19</th>\n      <td>0</td>\n      <td>0.356896</td>\n      <td>-0.356896</td>\n      <td>-0.744955</td>\n    </tr>\n    <tr>\n      <th>20</th>\n      <td>0</td>\n      <td>0.427329</td>\n      <td>-0.427329</td>\n      <td>-0.863831</td>\n    </tr>\n    <tr>\n      <th>21</th>\n      <td>0</td>\n      <td>0.055845</td>\n      <td>-0.055845</td>\n      <td>-0.243205</td>\n    </tr>\n    <tr>\n      <th>22</th>\n      <td>0</td>\n      <td>0.025308</td>\n      <td>-0.025308</td>\n      <td>-0.161136</td>\n    </tr>\n    <tr>\n      <th>23</th>\n      <td>0</td>\n      <td>0.195891</td>\n      <td>-0.195891</td>\n      <td>-0.493571</td>\n    </tr>\n  </tbody>\n</table>\n</div>"
     },
     "execution_count": 34,
     "metadata": {},
     "output_type": "execute_result"
    }
   ],
   "source": [
    "pd.DataFrame({'yk': y, 'p(yk=1)': pk(z), 'Resid': resid(y,z), 'ZResid': zresid(y,z)})"
   ]
  },
  {
   "cell_type": "markdown",
   "metadata": {},
   "source": [
    "Daraus wird deutlich, dass ID 2 und ID 15 die höchsten ZResid-Werte aufweisen. Bei diesen Personen führen die Parameterschätzungen zu deutlichen Fehlklassifikationen, es handelt sich um **Ausreißer**.\n",
    "\n",
    "Ausreißer-Fälle müssen vom Anwender eingehend analysiert werden, um die Ursache für die extremen Positionen zu ergründen. Prinzipiell sind **zwei Ursachen** denkbar: \n",
    "\n",
    "1. Die befragten Personen sind **tatsächlich atypisch** in ihrem Antwortverhalten. Trifft diese Vermutung zu und treten solche Fälle nur selten auf, sollten sie aus der **Analyse ausgeschlossen** werden.\n",
    "1. Die hohen Residuen weisen auf eine **schlechte Spezifikation des Modells** hin. In diesem Fall ist davon auszugehen, dass **wichtige Einflussgrößen** bei der Modellspezifikation **nicht berücksichtigt** wurden und somit eine **Erweiterung** oder **Modifikation** des Modells vorgenommen werden muss.\n",
    "\n",
    "Abschließend sei noch darauf hingewiesen, dass die Residuen der logistischen Regression **nicht** mit den Residuen im Rahmen der linearen Einfachregression verwechselt werden dürfen. Der **zentrale Unterschied** besteht darin, dass die lineare Einfachregression unmittelbar zu Schätzwerten für die empirischen Beobachtungswerte $y$ führt, während die logistische Regression deren Eintrittswahrscheinlichkeiten $P(y)$ schätzt. "
   ]
  }
 ],
 "metadata": {
  "interpreter": {
   "hash": "2844ba9b0855231960644b25734274ed565746943d06b8f800526790b893a63c"
  },
  "kernelspec": {
   "display_name": "Python 3.8.5 64-bit ('bdsm': conda)",
   "name": "python3"
  },
  "language_info": {
   "codemirror_mode": {
    "name": "ipython",
    "version": 3
   },
   "file_extension": ".py",
   "mimetype": "text/x-python",
   "name": "python",
   "nbconvert_exporter": "python",
   "pygments_lexer": "ipython3",
   "version": "3.8.5"
  },
  "toc-autonumbering": true
 },
 "nbformat": 4,
 "nbformat_minor": 4
}