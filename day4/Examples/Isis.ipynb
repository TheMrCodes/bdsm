{
 "cells": [
  {
   "cell_type": "code",
   "execution_count": 44,
   "metadata": {
    "collapsed": true
   },
   "outputs": [],
   "source": [
    "import bdsm\n",
    "import re, seaborn as sns\n",
    "import numpy as np\n",
    "import pandas as pd\n",
    "\n",
    "from matplotlib import pyplot as plt\n",
    "from mpl_toolkits.mplot3d import Axes3D\n",
    "from matplotlib.colors import ListedColormap\n",
    "from sklearn.linear_model import LogisticRegression\n",
    "from sklearn.model_selection import train_test_split\n",
    "import sklearn.metrics as metrics"
   ]
  },
  {
   "cell_type": "code",
   "execution_count": 5,
   "outputs": [
    {
     "data": {
      "text/plain": "     Sepal length  Sepal width  Petal length  Petal width  Class_cat\n0             5.1          3.5           1.4          0.2          0\n1             4.9          3.0           1.4          0.2          0\n2             4.7          3.2           1.3          0.2          0\n3             4.6          3.1           1.5          0.2          0\n4             5.0          3.6           1.4          0.2          0\n..            ...          ...           ...          ...        ...\n145           6.7          3.0           5.2          2.3          2\n146           6.3          2.5           5.0          1.9          2\n147           6.5          3.0           5.2          2.0          2\n148           6.2          3.4           5.4          2.3          2\n149           5.9          3.0           5.1          1.8          2\n\n[150 rows x 5 columns]",
      "text/html": "<div>\n<style scoped>\n    .dataframe tbody tr th:only-of-type {\n        vertical-align: middle;\n    }\n\n    .dataframe tbody tr th {\n        vertical-align: top;\n    }\n\n    .dataframe thead th {\n        text-align: right;\n    }\n</style>\n<table border=\"1\" class=\"dataframe\">\n  <thead>\n    <tr style=\"text-align: right;\">\n      <th></th>\n      <th>Sepal length</th>\n      <th>Sepal width</th>\n      <th>Petal length</th>\n      <th>Petal width</th>\n      <th>Class_cat</th>\n    </tr>\n  </thead>\n  <tbody>\n    <tr>\n      <th>0</th>\n      <td>5.1</td>\n      <td>3.5</td>\n      <td>1.4</td>\n      <td>0.2</td>\n      <td>0</td>\n    </tr>\n    <tr>\n      <th>1</th>\n      <td>4.9</td>\n      <td>3.0</td>\n      <td>1.4</td>\n      <td>0.2</td>\n      <td>0</td>\n    </tr>\n    <tr>\n      <th>2</th>\n      <td>4.7</td>\n      <td>3.2</td>\n      <td>1.3</td>\n      <td>0.2</td>\n      <td>0</td>\n    </tr>\n    <tr>\n      <th>3</th>\n      <td>4.6</td>\n      <td>3.1</td>\n      <td>1.5</td>\n      <td>0.2</td>\n      <td>0</td>\n    </tr>\n    <tr>\n      <th>4</th>\n      <td>5.0</td>\n      <td>3.6</td>\n      <td>1.4</td>\n      <td>0.2</td>\n      <td>0</td>\n    </tr>\n    <tr>\n      <th>...</th>\n      <td>...</td>\n      <td>...</td>\n      <td>...</td>\n      <td>...</td>\n      <td>...</td>\n    </tr>\n    <tr>\n      <th>145</th>\n      <td>6.7</td>\n      <td>3.0</td>\n      <td>5.2</td>\n      <td>2.3</td>\n      <td>2</td>\n    </tr>\n    <tr>\n      <th>146</th>\n      <td>6.3</td>\n      <td>2.5</td>\n      <td>5.0</td>\n      <td>1.9</td>\n      <td>2</td>\n    </tr>\n    <tr>\n      <th>147</th>\n      <td>6.5</td>\n      <td>3.0</td>\n      <td>5.2</td>\n      <td>2.0</td>\n      <td>2</td>\n    </tr>\n    <tr>\n      <th>148</th>\n      <td>6.2</td>\n      <td>3.4</td>\n      <td>5.4</td>\n      <td>2.3</td>\n      <td>2</td>\n    </tr>\n    <tr>\n      <th>149</th>\n      <td>5.9</td>\n      <td>3.0</td>\n      <td>5.1</td>\n      <td>1.8</td>\n      <td>2</td>\n    </tr>\n  </tbody>\n</table>\n<p>150 rows × 5 columns</p>\n</div>"
     },
     "execution_count": 5,
     "metadata": {},
     "output_type": "execute_result"
    }
   ],
   "source": [
    "df_iris = bdsm.iris().to_numeric()\n",
    "df_iris"
   ],
   "metadata": {
    "collapsed": false,
    "pycharm": {
     "name": "#%%\n"
    }
   }
  },
  {
   "cell_type": "code",
   "execution_count": 6,
   "outputs": [],
   "source": [
    "y = df_iris[\"Class_cat\"]\n",
    "x = df_iris.iloc[:,:4]"
   ],
   "metadata": {
    "collapsed": false,
    "pycharm": {
     "name": "#%%\n"
    }
   }
  },
  {
   "cell_type": "code",
   "execution_count": 50,
   "outputs": [
    {
     "data": {
      "text/plain": "111    2\n107    2\n132    2\n117    2\n83     1\n70     1\n145    2\n98     1\n55     1\n47     0\n126    2\n77     1\n40     0\n103    2\n123    2\n134    2\n115    2\n16     0\n92     1\n37     0\n113    2\n49     0\n91     1\n72     1\n125    2\n35     0\n105    2\n22     0\n144    2\n68     1\n137    2\n60     1\n85     1\n6      0\n15     0\n24     0\n147    2\n148    2\n90     1\n34     0\n0      0\n64     1\n41     0\n28     0\n13     0\n9      0\n146    2\n110    2\n19     0\n101    2\nName: Class_cat, dtype: int8"
     },
     "execution_count": 50,
     "metadata": {},
     "output_type": "execute_result"
    }
   ],
   "source": [
    "x_train, x_test, y_train, y_test = train_test_split(x, y, test_size=0.33, random_state=147)"
   ],
   "metadata": {
    "collapsed": false,
    "pycharm": {
     "name": "#%%\n"
    }
   }
  },
  {
   "cell_type": "code",
   "execution_count": 17,
   "outputs": [],
   "source": [
    "model = LogisticRegression()\n",
    "model.fit(x_train, y_train);"
   ],
   "metadata": {
    "collapsed": false,
    "pycharm": {
     "name": "#%%\n"
    }
   }
  },
  {
   "cell_type": "code",
   "execution_count": 66,
   "outputs": [
    {
     "name": "stdout",
     "output_type": "stream",
     "text": [
      "[2 2 2 2 2 2 2 1 1 0 2 2 0 2 2 2 2 0 1 0 2 0 1 1 2 0 2 0 2 1 2 1 1 0 0 0 2\n",
      " 2 1 0 0 1 0 0 0 0 2 2 0 2] \n",
      "\n",
      "          y_hat_cat  y_hat  y  correct\n",
      "0    Iris-virginica      2  2     True\n",
      "1    Iris-virginica      2  2     True\n",
      "2    Iris-virginica      2  2     True\n",
      "3    Iris-virginica      2  2     True\n",
      "4    Iris-virginica      2  1    False\n",
      "5    Iris-virginica      2  1    False\n",
      "6    Iris-virginica      2  2     True\n",
      "7   Iris-versicolor      1  1     True\n",
      "8   Iris-versicolor      1  1     True\n",
      "9       Iris-setosa      0  0     True\n",
      "10   Iris-virginica      2  2     True\n",
      "11   Iris-virginica      2  1    False\n",
      "12      Iris-setosa      0  0     True\n",
      "13   Iris-virginica      2  2     True\n",
      "14   Iris-virginica      2  2     True\n",
      "15   Iris-virginica      2  2     True\n",
      "16   Iris-virginica      2  2     True\n",
      "17      Iris-setosa      0  0     True\n",
      "18  Iris-versicolor      1  1     True\n",
      "19      Iris-setosa      0  0     True\n",
      "20   Iris-virginica      2  2     True\n",
      "21      Iris-setosa      0  0     True\n",
      "22  Iris-versicolor      1  1     True\n",
      "23  Iris-versicolor      1  1     True\n",
      "24   Iris-virginica      2  2     True\n",
      "25      Iris-setosa      0  0     True\n",
      "26   Iris-virginica      2  2     True\n",
      "27      Iris-setosa      0  0     True\n",
      "28   Iris-virginica      2  2     True\n",
      "29  Iris-versicolor      1  1     True\n",
      "30   Iris-virginica      2  2     True\n",
      "31  Iris-versicolor      1  1     True\n",
      "32  Iris-versicolor      1  1     True\n",
      "33      Iris-setosa      0  0     True\n",
      "34      Iris-setosa      0  0     True\n",
      "35      Iris-setosa      0  0     True\n",
      "36   Iris-virginica      2  2     True\n",
      "37   Iris-virginica      2  2     True\n",
      "38  Iris-versicolor      1  1     True\n",
      "39      Iris-setosa      0  0     True\n",
      "40      Iris-setosa      0  0     True\n",
      "41  Iris-versicolor      1  1     True\n",
      "42      Iris-setosa      0  0     True\n",
      "43      Iris-setosa      0  0     True\n",
      "44      Iris-setosa      0  0     True\n",
      "45      Iris-setosa      0  0     True\n",
      "46   Iris-virginica      2  2     True\n",
      "47   Iris-virginica      2  2     True\n",
      "48      Iris-setosa      0  0     True\n",
      "49   Iris-virginica      2  2     True \n",
      "\n",
      "classification_report: \n",
      "              precision    recall  f1-score   support\n",
      "\n",
      "           0       1.00      1.00      1.00        17\n",
      "           1       1.00      0.77      0.87        13\n",
      "           2       0.87      1.00      0.93        20\n",
      "\n",
      "    accuracy                           0.94        50\n",
      "   macro avg       0.96      0.92      0.93        50\n",
      "weighted avg       0.95      0.94      0.94        50\n",
      "\n",
      "accuracy_score: 0.94\n",
      "cohen_kappa_score: 0.9074645280690932\n"
     ]
    }
   ],
   "source": [
    "iris_categories = dict(enumerate(bdsm.iris()[\"Class\"].astype(\"category\").cat.categories))\n",
    "predicitons = model.predict(x_test)\n",
    "print(f\"{predicitons} \\n\")\n",
    "df_predicted = pd.Series(predicitons).map(iris_categories).to_frame(name='y_hat_cat')\n",
    "df_predicted[\"y_hat\"] = pd.Series(predicitons).reset_index(drop=True)\n",
    "df_predicted[\"y\"] = pd.Series(y_test).reset_index(drop=True)\n",
    "df_predicted[\"correct\"] = df_predicted[\"y_hat\"] == df_predicted[\"y\"]\n",
    "print(f\"{df_predicted} \\n\")\n",
    "\n",
    "\n",
    "print(f\"classification_report: \\n{metrics.classification_report(y_test, predicitons)}\")\n",
    "print(f\"accuracy_score: {metrics.accuracy_score(y_test, predicitons)}\")\n",
    "print(f\"cohen_kappa_score: {metrics.cohen_kappa_score(y_test, predicitons)}\")\n"
   ],
   "metadata": {
    "collapsed": false,
    "pycharm": {
     "name": "#%%\n"
    }
   }
  }
 ],
 "metadata": {
  "kernelspec": {
   "display_name": "Python 3",
   "language": "python",
   "name": "python3"
  },
  "language_info": {
   "codemirror_mode": {
    "name": "ipython",
    "version": 2
   },
   "file_extension": ".py",
   "mimetype": "text/x-python",
   "name": "python",
   "nbconvert_exporter": "python",
   "pygments_lexer": "ipython2",
   "version": "2.7.6"
  }
 },
 "nbformat": 4,
 "nbformat_minor": 0
}