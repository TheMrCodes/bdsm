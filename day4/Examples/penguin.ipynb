{
 "cells": [
  {
   "cell_type": "code",
   "execution_count": 10,
   "metadata": {
    "collapsed": true
   },
   "outputs": [],
   "source": [
    "import bdsm\n",
    "import re, seaborn as sns\n",
    "import numpy as np\n",
    "import pandas as pd\n",
    "from sklearn.linear_model import LogisticRegression\n",
    "from sklearn.model_selection import train_test_split\n",
    "import sklearn.metrics as metrics"
   ]
  },
  {
   "cell_type": "code",
   "execution_count": 11,
   "outputs": [
    {
     "data": {
      "text/plain": "     CulmenLength  CulmenDepth  FlipperLength     BodyMass  Species_cat  \\\n0       39.100000    18.700000     181.000000  3750.000000            0   \n1       39.500000    17.400000     186.000000  3800.000000            0   \n2       40.300000    18.000000     195.000000  3250.000000            0   \n3       38.791391    18.346358     189.953642  3700.662252            0   \n4       36.700000    19.300000     193.000000  3450.000000            0   \n..            ...          ...            ...          ...          ...   \n340     43.500000    18.100000     202.000000  3400.000000            1   \n341     49.600000    18.200000     193.000000  3775.000000            1   \n342     50.800000    19.000000     210.000000  4100.000000            1   \n343     50.800000    19.000000     210.000000  4100.000000            1   \n344     50.200000    18.700000     198.000000  3775.000000            1   \n\n     Island_cat  Sex_cat  \n0             2        2  \n1             2        1  \n2             2        1  \n3             2        3  \n4             2        1  \n..          ...      ...  \n340           1        1  \n341           1        2  \n342           1        2  \n343           1        2  \n344           1        1  \n\n[345 rows x 7 columns]",
      "text/html": "<div>\n<style scoped>\n    .dataframe tbody tr th:only-of-type {\n        vertical-align: middle;\n    }\n\n    .dataframe tbody tr th {\n        vertical-align: top;\n    }\n\n    .dataframe thead th {\n        text-align: right;\n    }\n</style>\n<table border=\"1\" class=\"dataframe\">\n  <thead>\n    <tr style=\"text-align: right;\">\n      <th></th>\n      <th>CulmenLength</th>\n      <th>CulmenDepth</th>\n      <th>FlipperLength</th>\n      <th>BodyMass</th>\n      <th>Species_cat</th>\n      <th>Island_cat</th>\n      <th>Sex_cat</th>\n    </tr>\n  </thead>\n  <tbody>\n    <tr>\n      <th>0</th>\n      <td>39.100000</td>\n      <td>18.700000</td>\n      <td>181.000000</td>\n      <td>3750.000000</td>\n      <td>0</td>\n      <td>2</td>\n      <td>2</td>\n    </tr>\n    <tr>\n      <th>1</th>\n      <td>39.500000</td>\n      <td>17.400000</td>\n      <td>186.000000</td>\n      <td>3800.000000</td>\n      <td>0</td>\n      <td>2</td>\n      <td>1</td>\n    </tr>\n    <tr>\n      <th>2</th>\n      <td>40.300000</td>\n      <td>18.000000</td>\n      <td>195.000000</td>\n      <td>3250.000000</td>\n      <td>0</td>\n      <td>2</td>\n      <td>1</td>\n    </tr>\n    <tr>\n      <th>3</th>\n      <td>38.791391</td>\n      <td>18.346358</td>\n      <td>189.953642</td>\n      <td>3700.662252</td>\n      <td>0</td>\n      <td>2</td>\n      <td>3</td>\n    </tr>\n    <tr>\n      <th>4</th>\n      <td>36.700000</td>\n      <td>19.300000</td>\n      <td>193.000000</td>\n      <td>3450.000000</td>\n      <td>0</td>\n      <td>2</td>\n      <td>1</td>\n    </tr>\n    <tr>\n      <th>...</th>\n      <td>...</td>\n      <td>...</td>\n      <td>...</td>\n      <td>...</td>\n      <td>...</td>\n      <td>...</td>\n      <td>...</td>\n    </tr>\n    <tr>\n      <th>340</th>\n      <td>43.500000</td>\n      <td>18.100000</td>\n      <td>202.000000</td>\n      <td>3400.000000</td>\n      <td>1</td>\n      <td>1</td>\n      <td>1</td>\n    </tr>\n    <tr>\n      <th>341</th>\n      <td>49.600000</td>\n      <td>18.200000</td>\n      <td>193.000000</td>\n      <td>3775.000000</td>\n      <td>1</td>\n      <td>1</td>\n      <td>2</td>\n    </tr>\n    <tr>\n      <th>342</th>\n      <td>50.800000</td>\n      <td>19.000000</td>\n      <td>210.000000</td>\n      <td>4100.000000</td>\n      <td>1</td>\n      <td>1</td>\n      <td>2</td>\n    </tr>\n    <tr>\n      <th>343</th>\n      <td>50.800000</td>\n      <td>19.000000</td>\n      <td>210.000000</td>\n      <td>4100.000000</td>\n      <td>1</td>\n      <td>1</td>\n      <td>2</td>\n    </tr>\n    <tr>\n      <th>344</th>\n      <td>50.200000</td>\n      <td>18.700000</td>\n      <td>198.000000</td>\n      <td>3775.000000</td>\n      <td>1</td>\n      <td>1</td>\n      <td>1</td>\n    </tr>\n  </tbody>\n</table>\n<p>345 rows × 7 columns</p>\n</div>"
     },
     "execution_count": 11,
     "metadata": {},
     "output_type": "execute_result"
    }
   ],
   "source": [
    "df_penguin = bdsm.penguins().clean().to_numeric()\n",
    "df_penguin"
   ],
   "metadata": {
    "collapsed": false,
    "pycharm": {
     "name": "#%%\n"
    }
   }
  },
  {
   "cell_type": "code",
   "execution_count": 12,
   "outputs": [
    {
     "data": {
      "text/plain": "['CulmenLength',\n 'CulmenDepth',\n 'FlipperLength',\n 'BodyMass',\n 'Species_cat',\n 'Island_cat',\n 'Sex_cat']"
     },
     "execution_count": 12,
     "metadata": {},
     "output_type": "execute_result"
    }
   ],
   "source": [
    "list(df_penguin.columns)"
   ],
   "metadata": {
    "collapsed": false,
    "pycharm": {
     "name": "#%%\n"
    }
   }
  },
  {
   "cell_type": "code",
   "execution_count": 21,
   "outputs": [
    {
     "data": {
      "text/plain": "Male       169\nFemale     165\nUnknown     10\n.            1\nName: Sex, dtype: int64"
     },
     "execution_count": 21,
     "metadata": {},
     "output_type": "execute_result"
    }
   ],
   "source": [
    "bdsm.penguins().clean()['Sex'].value_counts()"
   ],
   "metadata": {
    "collapsed": false,
    "pycharm": {
     "name": "#%%\n"
    }
   }
  },
  {
   "cell_type": "code",
   "execution_count": 13,
   "outputs": [],
   "source": [
    "x = df_penguin[['CulmenLength', 'CulmenDepth', 'FlipperLength', 'BodyMass']]\n",
    "y = df_penguin['Sex_cat']\n",
    "x_train, x_test, y_train, y_test = train_test_split(x, y, test_size=0.33, random_state=147)"
   ],
   "metadata": {
    "collapsed": false,
    "pycharm": {
     "name": "#%%\n"
    }
   }
  },
  {
   "cell_type": "code",
   "execution_count": 14,
   "outputs": [],
   "source": [
    "model = LogisticRegression(max_iter=10_000)\n",
    "model.fit(x_train, y_train);"
   ],
   "metadata": {
    "collapsed": false,
    "pycharm": {
     "name": "#%%\n"
    }
   }
  },
  {
   "cell_type": "code",
   "execution_count": 15,
   "outputs": [
    {
     "name": "stdout",
     "output_type": "stream",
     "text": [
      "classification_report: \n",
      "              precision    recall  f1-score   support\n",
      "\n",
      "           1       0.85      0.85      0.85        55\n",
      "           2       0.83      0.92      0.88        53\n",
      "           3       0.00      0.00      0.00         6\n",
      "\n",
      "    accuracy                           0.84       114\n",
      "   macro avg       0.56      0.59      0.58       114\n",
      "weighted avg       0.80      0.84      0.82       114\n",
      "\n",
      "accuracy_score: 0.8421052631578947\n",
      "cohen_kappa_score: 0.7001753360607832\n"
     ]
    },
    {
     "name": "stderr",
     "output_type": "stream",
     "text": [
      "C:\\Users\\apigl\\.virtualenvs\\bdsm-Grc_FbtC\\lib\\site-packages\\sklearn\\metrics\\_classification.py:1308: UndefinedMetricWarning: Precision and F-score are ill-defined and being set to 0.0 in labels with no predicted samples. Use `zero_division` parameter to control this behavior.\n",
      "  _warn_prf(average, modifier, msg_start, len(result))\n",
      "C:\\Users\\apigl\\.virtualenvs\\bdsm-Grc_FbtC\\lib\\site-packages\\sklearn\\metrics\\_classification.py:1308: UndefinedMetricWarning: Precision and F-score are ill-defined and being set to 0.0 in labels with no predicted samples. Use `zero_division` parameter to control this behavior.\n",
      "  _warn_prf(average, modifier, msg_start, len(result))\n",
      "C:\\Users\\apigl\\.virtualenvs\\bdsm-Grc_FbtC\\lib\\site-packages\\sklearn\\metrics\\_classification.py:1308: UndefinedMetricWarning: Precision and F-score are ill-defined and being set to 0.0 in labels with no predicted samples. Use `zero_division` parameter to control this behavior.\n",
      "  _warn_prf(average, modifier, msg_start, len(result))\n"
     ]
    }
   ],
   "source": [
    "species_categories = dict(enumerate(bdsm.penguins()['Species'].astype(\"category\").cat.categories))\n",
    "predicitons = model.predict(x_test)\n",
    "\n",
    "print(f\"classification_report: \\n{metrics.classification_report(y_test, predicitons)}\")\n",
    "print(f\"accuracy_score: {metrics.accuracy_score(y_test, predicitons)}\")\n",
    "print(f\"cohen_kappa_score: {metrics.cohen_kappa_score(y_test, predicitons)}\")"
   ],
   "metadata": {
    "collapsed": false,
    "pycharm": {
     "name": "#%%\n"
    }
   }
  },
  {
   "cell_type": "code",
   "execution_count": 16,
   "outputs": [
    {
     "name": "stdout",
     "output_type": "stream",
     "text": [
      "                                     y_hat_cat  y_hat  y  correct\n",
      "0    Chinstrap penguin (Pygoscelis antarctica)      1  1     True\n",
      "1    Chinstrap penguin (Pygoscelis antarctica)      1  1     True\n",
      "2    Chinstrap penguin (Pygoscelis antarctica)      1  1     True\n",
      "3    Chinstrap penguin (Pygoscelis antarctica)      1  1     True\n",
      "4    Chinstrap penguin (Pygoscelis antarctica)      1  1     True\n",
      "..                                         ...    ... ..      ...\n",
      "109          Gentoo penguin (Pygoscelis papua)      2  2     True\n",
      "110          Gentoo penguin (Pygoscelis papua)      2  2     True\n",
      "111          Gentoo penguin (Pygoscelis papua)      2  2     True\n",
      "112  Chinstrap penguin (Pygoscelis antarctica)      1  1     True\n",
      "113          Gentoo penguin (Pygoscelis papua)      2  1    False\n",
      "\n",
      "[114 rows x 4 columns] \n",
      "\n"
     ]
    }
   ],
   "source": [
    "# Detailed prediction data print\n",
    "# Just extras\n",
    "df_predicted = pd.Series(predicitons).map(species_categories).to_frame(name='y_hat_cat')\n",
    "df_predicted[\"y_hat\"] = pd.Series(predicitons).reset_index(drop=True)\n",
    "df_predicted[\"y\"] = pd.Series(y_test).reset_index(drop=True)\n",
    "df_predicted[\"correct\"] = df_predicted[\"y_hat\"] == df_predicted[\"y\"]\n",
    "print(f\"{df_predicted} \\n\")\n"
   ],
   "metadata": {
    "collapsed": false,
    "pycharm": {
     "name": "#%%\n"
    }
   }
  }
 ],
 "metadata": {
  "kernelspec": {
   "display_name": "Python 3",
   "language": "python",
   "name": "python3"
  },
  "language_info": {
   "codemirror_mode": {
    "name": "ipython",
    "version": 2
   },
   "file_extension": ".py",
   "mimetype": "text/x-python",
   "name": "python",
   "nbconvert_exporter": "python",
   "pygments_lexer": "ipython2",
   "version": "2.7.6"
  }
 },
 "nbformat": 4,
 "nbformat_minor": 0
}