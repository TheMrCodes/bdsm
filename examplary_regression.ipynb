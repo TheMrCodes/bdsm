{
 "cells": [
  {
   "cell_type": "markdown",
   "source": [
    "# Musternotebook: Regression\n",
    "Die dazugehörige Dokumentation der einzelnen Methoden finden sie in examplary_classification.ipynb\n",
    "\n",
    "## Imports, Variables & Settings"
   ],
   "metadata": {
    "collapsed": false
   }
  },
  {
   "cell_type": "code",
   "execution_count": 111,
   "outputs": [],
   "source": [
    "# Reset IPython Notebook Variables\n",
    "%reset -f"
   ],
   "metadata": {
    "collapsed": false,
    "pycharm": {
     "name": "#%%\n"
    }
   }
  },
  {
   "cell_type": "code",
   "execution_count": 112,
   "outputs": [],
   "source": [
    "# Imports\n",
    "import numpy as np          # Numpy as the math lib\n",
    "import pandas as pd         # Pandas for manipulating dataframes\n",
    "import bdsm                 # bsdm as general helpers\n",
    "import seaborn as sns       # seaborn for datavisualisation\n",
    "import sklearn as sk        # scikit-learn for modeling and utility\n",
    "\n",
    "from scipy import stats as stats\n",
    "\n",
    "from sklearn import svm\n",
    "from sklearn.linear_model import LinearRegression\n",
    "from sklearn.tree import DecisionTreeRegressor\n",
    "from sklearn.neighbors import KNeighborsRegressor\n",
    "from sklearn.svm import SVR\n",
    "from sklearn.ensemble import RandomForestRegressor\n",
    "\n",
    "# Set seed\n",
    "seed = 1234\n",
    "np.random.seed(seed)\n",
    "\n",
    "# Set seaborn color schema\n",
    "palette = sns.dark_palette(\"#69d\", reverse=False, as_cmap=True)"
   ],
   "metadata": {
    "collapsed": false,
    "pycharm": {
     "name": "#%%\n"
    }
   }
  },
  {
   "cell_type": "markdown",
   "source": [
    "## Data Loading"
   ],
   "metadata": {
    "collapsed": false
   }
  },
  {
   "cell_type": "code",
   "execution_count": 113,
   "outputs": [
    {
     "name": "stderr",
     "output_type": "stream",
     "text": [
      "C:\\Users\\apigl\\Repo\\Python\\bdsm\\bdsm\\datasets\\penguins.py:33: SettingWithCopyWarning: \n",
      "A value is trying to be set on a copy of a slice from a DataFrame.\n",
      "Try using .loc[row_indexer,col_indexer] = value instead\n",
      "\n",
      "See the caveats in the documentation: https://pandas.pydata.org/pandas-docs/stable/user_guide/indexing.html#returning-a-view-versus-a-copy\n",
      "  df[col] = df[col].astype('float')\n",
      "C:\\Users\\apigl\\Repo\\Python\\bdsm\\bdsm\\datasets\\penguins.py:34: SettingWithCopyWarning: \n",
      "A value is trying to be set on a copy of a slice from a DataFrame.\n",
      "Try using .loc[row_indexer,col_indexer] = value instead\n",
      "\n",
      "See the caveats in the documentation: https://pandas.pydata.org/pandas-docs/stable/user_guide/indexing.html#returning-a-view-versus-a-copy\n",
      "  df[col] = df[col].fillna(df.groupby('Species')[col].transform('mean'))\n",
      "C:\\Users\\apigl\\Repo\\Python\\bdsm\\bdsm\\datasets\\penguins.py:37: SettingWithCopyWarning: \n",
      "A value is trying to be set on a copy of a slice from a DataFrame.\n",
      "Try using .loc[row_indexer,col_indexer] = value instead\n",
      "\n",
      "See the caveats in the documentation: https://pandas.pydata.org/pandas-docs/stable/user_guide/indexing.html#returning-a-view-versus-a-copy\n",
      "  df['Sex'] = np.where(df['Sex'].isna(), 'Unknown', df['Sex'].str.title())\n",
      "C:\\Users\\apigl\\Repo\\Python\\bdsm\\bdsm\\datasets\\penguins.py:38: SettingWithCopyWarning: \n",
      "A value is trying to be set on a copy of a slice from a DataFrame.\n",
      "Try using .loc[row_indexer,col_indexer] = value instead\n",
      "\n",
      "See the caveats in the documentation: https://pandas.pydata.org/pandas-docs/stable/user_guide/indexing.html#returning-a-view-versus-a-copy\n",
      "  df['Sex'] = np.where(df['Sex'] == \".\", 'Unknown', df['Sex'].str.title())\n"
     ]
    },
    {
     "data": {
      "text/plain": "     CulmenLength  CulmenDepth  FlipperLength     BodyMass  Species_cat  \\\n0       39.100000    18.700000     181.000000  3750.000000            0   \n1       39.500000    17.400000     186.000000  3800.000000            0   \n2       40.300000    18.000000     195.000000  3250.000000            0   \n3       38.791391    18.346358     189.953642  3700.662252            0   \n4       36.700000    19.300000     193.000000  3450.000000            0   \n..            ...          ...            ...          ...          ...   \n341     55.800000    19.800000     207.000000  4000.000000            1   \n342     43.500000    18.100000     202.000000  3400.000000            1   \n343     49.600000    18.200000     193.000000  3775.000000            1   \n344     50.800000    19.000000     210.000000  4100.000000            1   \n345     50.200000    18.700000     198.000000  3775.000000            1   \n\n     Island_cat  Sex_cat  \n0             2        1  \n1             2        0  \n2             2        0  \n3             2        2  \n4             2        0  \n..          ...      ...  \n341           1        1  \n342           1        0  \n343           1        1  \n344           1        1  \n345           1        0  \n\n[344 rows x 7 columns]",
      "text/html": "<div>\n<style scoped>\n    .dataframe tbody tr th:only-of-type {\n        vertical-align: middle;\n    }\n\n    .dataframe tbody tr th {\n        vertical-align: top;\n    }\n\n    .dataframe thead th {\n        text-align: right;\n    }\n</style>\n<table border=\"1\" class=\"dataframe\">\n  <thead>\n    <tr style=\"text-align: right;\">\n      <th></th>\n      <th>CulmenLength</th>\n      <th>CulmenDepth</th>\n      <th>FlipperLength</th>\n      <th>BodyMass</th>\n      <th>Species_cat</th>\n      <th>Island_cat</th>\n      <th>Sex_cat</th>\n    </tr>\n  </thead>\n  <tbody>\n    <tr>\n      <th>0</th>\n      <td>39.100000</td>\n      <td>18.700000</td>\n      <td>181.000000</td>\n      <td>3750.000000</td>\n      <td>0</td>\n      <td>2</td>\n      <td>1</td>\n    </tr>\n    <tr>\n      <th>1</th>\n      <td>39.500000</td>\n      <td>17.400000</td>\n      <td>186.000000</td>\n      <td>3800.000000</td>\n      <td>0</td>\n      <td>2</td>\n      <td>0</td>\n    </tr>\n    <tr>\n      <th>2</th>\n      <td>40.300000</td>\n      <td>18.000000</td>\n      <td>195.000000</td>\n      <td>3250.000000</td>\n      <td>0</td>\n      <td>2</td>\n      <td>0</td>\n    </tr>\n    <tr>\n      <th>3</th>\n      <td>38.791391</td>\n      <td>18.346358</td>\n      <td>189.953642</td>\n      <td>3700.662252</td>\n      <td>0</td>\n      <td>2</td>\n      <td>2</td>\n    </tr>\n    <tr>\n      <th>4</th>\n      <td>36.700000</td>\n      <td>19.300000</td>\n      <td>193.000000</td>\n      <td>3450.000000</td>\n      <td>0</td>\n      <td>2</td>\n      <td>0</td>\n    </tr>\n    <tr>\n      <th>...</th>\n      <td>...</td>\n      <td>...</td>\n      <td>...</td>\n      <td>...</td>\n      <td>...</td>\n      <td>...</td>\n      <td>...</td>\n    </tr>\n    <tr>\n      <th>341</th>\n      <td>55.800000</td>\n      <td>19.800000</td>\n      <td>207.000000</td>\n      <td>4000.000000</td>\n      <td>1</td>\n      <td>1</td>\n      <td>1</td>\n    </tr>\n    <tr>\n      <th>342</th>\n      <td>43.500000</td>\n      <td>18.100000</td>\n      <td>202.000000</td>\n      <td>3400.000000</td>\n      <td>1</td>\n      <td>1</td>\n      <td>0</td>\n    </tr>\n    <tr>\n      <th>343</th>\n      <td>49.600000</td>\n      <td>18.200000</td>\n      <td>193.000000</td>\n      <td>3775.000000</td>\n      <td>1</td>\n      <td>1</td>\n      <td>1</td>\n    </tr>\n    <tr>\n      <th>344</th>\n      <td>50.800000</td>\n      <td>19.000000</td>\n      <td>210.000000</td>\n      <td>4100.000000</td>\n      <td>1</td>\n      <td>1</td>\n      <td>1</td>\n    </tr>\n    <tr>\n      <th>345</th>\n      <td>50.200000</td>\n      <td>18.700000</td>\n      <td>198.000000</td>\n      <td>3775.000000</td>\n      <td>1</td>\n      <td>1</td>\n      <td>0</td>\n    </tr>\n  </tbody>\n</table>\n<p>344 rows × 7 columns</p>\n</div>"
     },
     "execution_count": 113,
     "metadata": {},
     "output_type": "execute_result"
    }
   ],
   "source": [
    "# From special library\n",
    "df_data = bdsm.datasets.penguins().clean().to_numeric()\n",
    "df_data"
   ],
   "metadata": {
    "collapsed": false,
    "pycharm": {
     "name": "#%%\n"
    }
   }
  },
  {
   "cell_type": "markdown",
   "source": [
    "# Standardisierung des gesamten datasets"
   ],
   "metadata": {
    "collapsed": false
   }
  },
  {
   "cell_type": "code",
   "execution_count": 114,
   "outputs": [
    {
     "name": "stdout",
     "output_type": "stream",
     "text": [
      "Mean:\n",
      "CulmenLength       43.917431\n",
      "CulmenDepth        17.148339\n",
      "FlipperLength     200.930641\n",
      "BodyMass         4202.839182\n",
      "Species_cat         0.918605\n",
      "Island_cat          0.662791\n",
      "Sex_cat             0.552326\n",
      "dtype: float64\n",
      "Std:\n",
      "CulmenLength       5.454118\n",
      "CulmenDepth        1.973561\n",
      "FlipperLength     14.060613\n",
      "BodyMass         801.461347\n",
      "Species_cat        0.893320\n",
      "Island_cat         0.726194\n",
      "Sex_cat            0.558680\n",
      "dtype: float64\n"
     ]
    }
   ],
   "source": [
    "print(\"Mean:\")\n",
    "print(df_data.mean(axis=0))\n",
    "print(\"Std:\")\n",
    "print(df_data.std(axis=0))\n",
    "df_data = stats.zscore(df_data)"
   ],
   "metadata": {
    "collapsed": false,
    "pycharm": {
     "name": "#%%\n"
    }
   }
  },
  {
   "cell_type": "markdown",
   "source": [
    "### Data Split\n",
    "Bestimmen von data und labels"
   ],
   "metadata": {
    "collapsed": false
   }
  },
  {
   "cell_type": "code",
   "execution_count": 115,
   "outputs": [],
   "source": [
    "data, labels = df_data[[\"CulmenLength\", \"CulmenDepth\", \"FlipperLength\", \"Species_cat\", \"Island_cat\", \"Sex_cat\"]], df_data[\"BodyMass\"]"
   ],
   "metadata": {
    "collapsed": false,
    "pycharm": {
     "name": "#%%\n"
    }
   }
  },
  {
   "cell_type": "markdown",
   "source": [
    "Korrelation überprüfen"
   ],
   "metadata": {
    "collapsed": false
   }
  },
  {
   "cell_type": "markdown",
   "source": [
    "### Train / Validation / Test Datasets"
   ],
   "metadata": {
    "collapsed": false
   }
  },
  {
   "cell_type": "code",
   "execution_count": 116,
   "outputs": [
    {
     "name": "stdout",
     "output_type": "stream",
     "text": [
      "train/validation: 240/72\n"
     ]
    }
   ],
   "source": [
    "x_train, x_tmp, y_train, y_tmp = sk.model_selection.train_test_split(data, labels, test_size = 0.30, random_state=seed)\n",
    "x_valid, x_test, y_valid, y_test = sk.model_selection.train_test_split(x_tmp, y_tmp, test_size = 0.30, random_state=seed)\n",
    "print(f\"train/validation: {len(x_train)}/{len(x_valid)}\")"
   ],
   "metadata": {
    "collapsed": false,
    "pycharm": {
     "name": "#%%\n"
    }
   }
  },
  {
   "cell_type": "markdown",
   "source": [
    "### Models\n",
    "#### Linear Regression"
   ],
   "metadata": {
    "collapsed": false
   }
  },
  {
   "cell_type": "code",
   "execution_count": 117,
   "outputs": [
    {
     "name": "stdout",
     "output_type": "stream",
     "text": [
      "R-squared:  0.7522885002020309\n",
      "Mean Squared Error:  0.2514817973699433\n"
     ]
    }
   ],
   "source": [
    "model = LinearRegression()\n",
    "model.fit(x_train, y_train)\n",
    "y_pred = model.predict(x_valid)\n",
    "print(\"R-squared: \", model.score(x_valid, y_valid))\n",
    "print(\"Mean Squared Error: \", sk.metrics.mean_squared_error(y_pred, y_valid))"
   ],
   "metadata": {
    "collapsed": false,
    "pycharm": {
     "name": "#%%\n"
    }
   }
  },
  {
   "cell_type": "markdown",
   "source": [
    "#### Decision Tree"
   ],
   "metadata": {
    "collapsed": false
   }
  },
  {
   "cell_type": "code",
   "execution_count": 118,
   "outputs": [
    {
     "name": "stdout",
     "output_type": "stream",
     "text": [
      "R-squared:  0.6677160590149094\n",
      "Mean Squared Error:  0.33734147499915085\n"
     ]
    }
   ],
   "source": [
    "model = DecisionTreeRegressor(random_state=seed)\n",
    "model.fit(x_train, y_train)\n",
    "y_pred = model.predict(x_valid)\n",
    "print(\"R-squared: \", model.score(x_valid, y_valid))\n",
    "print(\"Mean Squared Error: \", sk.metrics.mean_squared_error(y_pred, y_valid))"
   ],
   "metadata": {
    "collapsed": false,
    "pycharm": {
     "name": "#%%\n"
    }
   }
  },
  {
   "cell_type": "markdown",
   "source": [
    "### KNN"
   ],
   "metadata": {
    "collapsed": false
   }
  },
  {
   "cell_type": "code",
   "execution_count": 119,
   "outputs": [
    {
     "name": "stdout",
     "output_type": "stream",
     "text": [
      "R-squared:  0.8520966046848659\n",
      "Mean Squared Error:  0.15015456174341135\n"
     ]
    }
   ],
   "source": [
    "model = KNeighborsRegressor(n_neighbors=3)\n",
    "model.fit(x_train, y_train)\n",
    "y_pred = model.predict(x_valid)\n",
    "print(\"R-squared: \", model.score(x_valid, y_valid))\n",
    "print(\"Mean Squared Error: \", sk.metrics.mean_squared_error(y_pred, y_valid))"
   ],
   "metadata": {
    "collapsed": false,
    "pycharm": {
     "name": "#%%\n"
    }
   }
  },
  {
   "cell_type": "markdown",
   "source": [
    "#### Support Vector Regression (SVR)"
   ],
   "metadata": {
    "collapsed": false
   }
  },
  {
   "cell_type": "code",
   "execution_count": 120,
   "outputs": [
    {
     "name": "stdout",
     "output_type": "stream",
     "text": [
      "R-squared:  0.8350158339405682\n",
      "Mean Squared Error:  0.16749531068216994\n"
     ]
    }
   ],
   "source": [
    "model = SVR(C=0.9)\n",
    "model.fit(x_train, y_train)\n",
    "y_pred = model.predict(x_valid)\n",
    "print(\"R-squared: \", model.score(x_valid, y_valid))\n",
    "print(\"Mean Squared Error: \", sk.metrics.mean_squared_error(y_pred, y_valid))"
   ],
   "metadata": {
    "collapsed": false,
    "pycharm": {
     "name": "#%%\n"
    }
   }
  },
  {
   "cell_type": "markdown",
   "source": [
    "#### Random Forest"
   ],
   "metadata": {
    "collapsed": false
   }
  },
  {
   "cell_type": "code",
   "execution_count": 121,
   "outputs": [
    {
     "name": "stdout",
     "output_type": "stream",
     "text": [
      "R-squared:  0.8078547669631535\n",
      "Mean Squared Error:  0.19506978319368662\n"
     ]
    }
   ],
   "source": [
    "model = RandomForestRegressor(\n",
    "    n_estimators=100,\n",
    "    max_leaf_nodes=16,\n",
    "    n_jobs=-1,\n",
    "    random_state=seed\n",
    ")\n",
    "model.fit(x_train, y_train)\n",
    "y_pred = model.predict(x_valid)\n",
    "print(\"R-squared: \", model.score(x_valid, y_valid))\n",
    "print(\"Mean Squared Error: \", sk.metrics.mean_squared_error(y_pred, y_valid))"
   ],
   "metadata": {
    "collapsed": false,
    "pycharm": {
     "name": "#%%\n"
    }
   }
  }
 ],
 "metadata": {
  "kernelspec": {
   "display_name": "Python 3",
   "language": "python",
   "name": "python3"
  },
  "language_info": {
   "codemirror_mode": {
    "name": "ipython",
    "version": 2
   },
   "file_extension": ".py",
   "mimetype": "text/x-python",
   "name": "python",
   "nbconvert_exporter": "python",
   "pygments_lexer": "ipython2",
   "version": "2.7.6"
  }
 },
 "nbformat": 4,
 "nbformat_minor": 0
}