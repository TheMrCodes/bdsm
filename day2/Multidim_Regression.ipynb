{
 "cells": [
  {
   "cell_type": "code",
   "execution_count": 58,
   "metadata": {
    "collapsed": true
   },
   "outputs": [],
   "source": [
    "import numpy as np\n",
    "import bdsm\n",
    "import statsmodels.formula.api as smf\n",
    "from patsy.builtins import Q\n",
    "import patsy\n",
    "\n",
    "from collections.abc import Iterable"
   ]
  },
  {
   "cell_type": "code",
   "execution_count": 10,
   "outputs": [],
   "source": [
    "abalones_ds = bdsm.abalones()"
   ],
   "metadata": {
    "collapsed": false,
    "pycharm": {
     "name": "#%%\n"
    }
   }
  },
  {
   "cell_type": "code",
   "execution_count": 14,
   "outputs": [
    {
     "data": {
      "text/plain": "      Length  Diameter  Height  Whole weight  Shucked weight  Viscera weight  \\\n0      0.455     0.365   0.095        0.5140          0.2245          0.1010   \n1      0.350     0.265   0.090        0.2255          0.0995          0.0485   \n3      0.440     0.365   0.125        0.5160          0.2155          0.1140   \n8      0.475     0.370   0.125        0.5095          0.2165          0.1125   \n11     0.430     0.350   0.110        0.4060          0.1675          0.0810   \n...      ...       ...     ...           ...             ...             ...   \n4170   0.550     0.430   0.130        0.8395          0.3155          0.1955   \n4171   0.560     0.430   0.155        0.8675          0.4000          0.1720   \n4173   0.590     0.440   0.135        0.9660          0.4390          0.2145   \n4174   0.600     0.475   0.205        1.1760          0.5255          0.2875   \n4176   0.710     0.555   0.195        1.9485          0.9455          0.3765   \n\n      Shell weight  Rings  \n0           0.1500     15  \n1           0.0700      7  \n3           0.1550     10  \n8           0.1650      9  \n11          0.1350     10  \n...            ...    ...  \n4170        0.2405     10  \n4171        0.2290      8  \n4173        0.2605     10  \n4174        0.3080      9  \n4176        0.4950     12  \n\n[1528 rows x 8 columns]",
      "text/html": "<div>\n<style scoped>\n    .dataframe tbody tr th:only-of-type {\n        vertical-align: middle;\n    }\n\n    .dataframe tbody tr th {\n        vertical-align: top;\n    }\n\n    .dataframe thead th {\n        text-align: right;\n    }\n</style>\n<table border=\"1\" class=\"dataframe\">\n  <thead>\n    <tr style=\"text-align: right;\">\n      <th></th>\n      <th>Length</th>\n      <th>Diameter</th>\n      <th>Height</th>\n      <th>Whole weight</th>\n      <th>Shucked weight</th>\n      <th>Viscera weight</th>\n      <th>Shell weight</th>\n      <th>Rings</th>\n    </tr>\n  </thead>\n  <tbody>\n    <tr>\n      <th>0</th>\n      <td>0.455</td>\n      <td>0.365</td>\n      <td>0.095</td>\n      <td>0.5140</td>\n      <td>0.2245</td>\n      <td>0.1010</td>\n      <td>0.1500</td>\n      <td>15</td>\n    </tr>\n    <tr>\n      <th>1</th>\n      <td>0.350</td>\n      <td>0.265</td>\n      <td>0.090</td>\n      <td>0.2255</td>\n      <td>0.0995</td>\n      <td>0.0485</td>\n      <td>0.0700</td>\n      <td>7</td>\n    </tr>\n    <tr>\n      <th>3</th>\n      <td>0.440</td>\n      <td>0.365</td>\n      <td>0.125</td>\n      <td>0.5160</td>\n      <td>0.2155</td>\n      <td>0.1140</td>\n      <td>0.1550</td>\n      <td>10</td>\n    </tr>\n    <tr>\n      <th>8</th>\n      <td>0.475</td>\n      <td>0.370</td>\n      <td>0.125</td>\n      <td>0.5095</td>\n      <td>0.2165</td>\n      <td>0.1125</td>\n      <td>0.1650</td>\n      <td>9</td>\n    </tr>\n    <tr>\n      <th>11</th>\n      <td>0.430</td>\n      <td>0.350</td>\n      <td>0.110</td>\n      <td>0.4060</td>\n      <td>0.1675</td>\n      <td>0.0810</td>\n      <td>0.1350</td>\n      <td>10</td>\n    </tr>\n    <tr>\n      <th>...</th>\n      <td>...</td>\n      <td>...</td>\n      <td>...</td>\n      <td>...</td>\n      <td>...</td>\n      <td>...</td>\n      <td>...</td>\n      <td>...</td>\n    </tr>\n    <tr>\n      <th>4170</th>\n      <td>0.550</td>\n      <td>0.430</td>\n      <td>0.130</td>\n      <td>0.8395</td>\n      <td>0.3155</td>\n      <td>0.1955</td>\n      <td>0.2405</td>\n      <td>10</td>\n    </tr>\n    <tr>\n      <th>4171</th>\n      <td>0.560</td>\n      <td>0.430</td>\n      <td>0.155</td>\n      <td>0.8675</td>\n      <td>0.4000</td>\n      <td>0.1720</td>\n      <td>0.2290</td>\n      <td>8</td>\n    </tr>\n    <tr>\n      <th>4173</th>\n      <td>0.590</td>\n      <td>0.440</td>\n      <td>0.135</td>\n      <td>0.9660</td>\n      <td>0.4390</td>\n      <td>0.2145</td>\n      <td>0.2605</td>\n      <td>10</td>\n    </tr>\n    <tr>\n      <th>4174</th>\n      <td>0.600</td>\n      <td>0.475</td>\n      <td>0.205</td>\n      <td>1.1760</td>\n      <td>0.5255</td>\n      <td>0.2875</td>\n      <td>0.3080</td>\n      <td>9</td>\n    </tr>\n    <tr>\n      <th>4176</th>\n      <td>0.710</td>\n      <td>0.555</td>\n      <td>0.195</td>\n      <td>1.9485</td>\n      <td>0.9455</td>\n      <td>0.3765</td>\n      <td>0.4950</td>\n      <td>12</td>\n    </tr>\n  </tbody>\n</table>\n<p>1528 rows × 8 columns</p>\n</div>"
     },
     "execution_count": 14,
     "metadata": {},
     "output_type": "execute_result"
    }
   ],
   "source": [
    "df_abalones_sex = abalones_ds.for_regression(sex = 'M')\n",
    "df_abalones_sex"
   ],
   "metadata": {
    "collapsed": false,
    "pycharm": {
     "name": "#%%\n"
    }
   }
  },
  {
   "cell_type": "code",
   "execution_count": 45,
   "outputs": [],
   "source": [
    "def gen_lm_string(dependent: Iterable[str], dimensions: Iterable[str]):\n",
    "    if isinstance(dependent, str):\n",
    "        dependent = [dependent]\n",
    "    if isinstance(dimensions, str):\n",
    "        dimensions = [dimensions]\n",
    "\n",
    "    depStr = ' + '.join([f\"Q('{it}')\" for it in dependent])\n",
    "    print(depStr)\n",
    "    dimStr = ' + '.join([f\"Q('{it}')\" for it in dimensions if it not in dependent])\n",
    "    return f\"{depStr} ~ {dimStr}\""
   ],
   "metadata": {
    "collapsed": false,
    "pycharm": {
     "name": "#%%\n"
    }
   }
  },
  {
   "cell_type": "code",
   "execution_count": 50,
   "outputs": [
    {
     "data": {
      "text/plain": "<class 'statsmodels.iolib.summary.Summary'>\n\"\"\"\n                            OLS Regression Results                            \n==============================================================================\nDep. Variable:             Q('Rings')   R-squared:                       0.440\nModel:                            OLS   Adj. R-squared:                  0.437\nMethod:                 Least Squares   F-statistic:                     198.9\nDate:                Tue, 09 Nov 2021   Prob (F-statistic):          2.87e-187\nTime:                        10:30:33   Log-Likelihood:                -3417.2\nNo. Observations:                1528   AIC:                             6848.\nDf Residuals:                    1521   BIC:                             6886.\nDf Model:                           6                                         \nCovariance Type:            nonrobust                                         \n=======================================================================================\n                          coef    std err          t      P>|t|      [0.025      0.975]\n---------------------------------------------------------------------------------------\nIntercept               5.1616      0.519      9.954      0.000       4.144       6.179\nQ('Diameter')           4.6011      1.810      2.542      0.011       1.050       8.152\nQ('Height')            14.9013      3.411      4.369      0.000       8.211      21.592\nQ('Whole weight')       8.6668      1.136      7.628      0.000       6.438      10.895\nQ('Shucked weight')   -18.8064      1.256    -14.978      0.000     -21.269     -16.343\nQ('Viscera weight')   -10.1989      1.988     -5.131      0.000     -14.098      -6.300\nQ('Shell weight')      10.6912      1.778      6.012      0.000       7.203      14.179\n==============================================================================\nOmnibus:                      257.136   Durbin-Watson:                   1.476\nProb(Omnibus):                  0.000   Jarque-Bera (JB):              544.490\nSkew:                           0.972   Prob(JB):                    5.83e-119\nKurtosis:                       5.184   Cond. No.                         99.0\n==============================================================================\n\nNotes:\n[1] Standard Errors assume that the covariance matrix of the errors is correctly specified.\n\"\"\"",
      "text/html": "<table class=\"simpletable\">\n<caption>OLS Regression Results</caption>\n<tr>\n  <th>Dep. Variable:</th>       <td>Q('Rings')</td>    <th>  R-squared:         </th> <td>   0.440</td> \n</tr>\n<tr>\n  <th>Model:</th>                   <td>OLS</td>       <th>  Adj. R-squared:    </th> <td>   0.437</td> \n</tr>\n<tr>\n  <th>Method:</th>             <td>Least Squares</td>  <th>  F-statistic:       </th> <td>   198.9</td> \n</tr>\n<tr>\n  <th>Date:</th>             <td>Tue, 09 Nov 2021</td> <th>  Prob (F-statistic):</th> <td>2.87e-187</td>\n</tr>\n<tr>\n  <th>Time:</th>                 <td>10:30:33</td>     <th>  Log-Likelihood:    </th> <td> -3417.2</td> \n</tr>\n<tr>\n  <th>No. Observations:</th>      <td>  1528</td>      <th>  AIC:               </th> <td>   6848.</td> \n</tr>\n<tr>\n  <th>Df Residuals:</th>          <td>  1521</td>      <th>  BIC:               </th> <td>   6886.</td> \n</tr>\n<tr>\n  <th>Df Model:</th>              <td>     6</td>      <th>                     </th>     <td> </td>    \n</tr>\n<tr>\n  <th>Covariance Type:</th>      <td>nonrobust</td>    <th>                     </th>     <td> </td>    \n</tr>\n</table>\n<table class=\"simpletable\">\n<tr>\n           <td></td>              <th>coef</th>     <th>std err</th>      <th>t</th>      <th>P>|t|</th>  <th>[0.025</th>    <th>0.975]</th>  \n</tr>\n<tr>\n  <th>Intercept</th>           <td>    5.1616</td> <td>    0.519</td> <td>    9.954</td> <td> 0.000</td> <td>    4.144</td> <td>    6.179</td>\n</tr>\n<tr>\n  <th>Q('Diameter')</th>       <td>    4.6011</td> <td>    1.810</td> <td>    2.542</td> <td> 0.011</td> <td>    1.050</td> <td>    8.152</td>\n</tr>\n<tr>\n  <th>Q('Height')</th>         <td>   14.9013</td> <td>    3.411</td> <td>    4.369</td> <td> 0.000</td> <td>    8.211</td> <td>   21.592</td>\n</tr>\n<tr>\n  <th>Q('Whole weight')</th>   <td>    8.6668</td> <td>    1.136</td> <td>    7.628</td> <td> 0.000</td> <td>    6.438</td> <td>   10.895</td>\n</tr>\n<tr>\n  <th>Q('Shucked weight')</th> <td>  -18.8064</td> <td>    1.256</td> <td>  -14.978</td> <td> 0.000</td> <td>  -21.269</td> <td>  -16.343</td>\n</tr>\n<tr>\n  <th>Q('Viscera weight')</th> <td>  -10.1989</td> <td>    1.988</td> <td>   -5.131</td> <td> 0.000</td> <td>  -14.098</td> <td>   -6.300</td>\n</tr>\n<tr>\n  <th>Q('Shell weight')</th>   <td>   10.6912</td> <td>    1.778</td> <td>    6.012</td> <td> 0.000</td> <td>    7.203</td> <td>   14.179</td>\n</tr>\n</table>\n<table class=\"simpletable\">\n<tr>\n  <th>Omnibus:</th>       <td>257.136</td> <th>  Durbin-Watson:     </th> <td>   1.476</td> \n</tr>\n<tr>\n  <th>Prob(Omnibus):</th> <td> 0.000</td>  <th>  Jarque-Bera (JB):  </th> <td> 544.490</td> \n</tr>\n<tr>\n  <th>Skew:</th>          <td> 0.972</td>  <th>  Prob(JB):          </th> <td>5.83e-119</td>\n</tr>\n<tr>\n  <th>Kurtosis:</th>      <td> 5.184</td>  <th>  Cond. No.          </th> <td>    99.0</td> \n</tr>\n</table><br/><br/>Notes:<br/>[1] Standard Errors assume that the covariance matrix of the errors is correctly specified."
     },
     "execution_count": 50,
     "metadata": {},
     "output_type": "execute_result"
    }
   ],
   "source": [
    "exclude = [\"Rings\", \"Length\"]\n",
    "columns = [it for it in df_abalones_sex.columns if it not in exclude]\n",
    "\n",
    "res = smf.ols(gen_lm_string(\"Rings\", columns), data=df_abalones_sex).fit()\n",
    "res.summary()"
   ],
   "metadata": {
    "collapsed": false,
    "pycharm": {
     "name": "#%%\n"
    }
   }
  },
  {
   "cell_type": "markdown",
   "source": [
    "## Forward Select"
   ],
   "metadata": {
    "collapsed": false,
    "pycharm": {
     "name": "#%% md\n"
    }
   }
  },
  {
   "cell_type": "code",
   "execution_count": 186,
   "outputs": [
    {
     "data": {
      "text/plain": "['Shell weight',\n 'Shucked weight',\n 'Whole weight',\n 'Height',\n 'Viscera weight',\n 'Diameter']"
     },
     "execution_count": 186,
     "metadata": {},
     "output_type": "execute_result"
    }
   ],
   "source": [
    "def feature_selection(data, label, all_columns):\n",
    "    all_columns = [it for it in all_columns if it not in label]\n",
    "    toAdd = []\n",
    "\n",
    "    while True:\n",
    "        exclude = [label]\n",
    "        exclude.extend(toAdd)\n",
    "        columns = [it for it in all_columns if it not in exclude]\n",
    "\n",
    "        def calc_rss(dependent: Iterable[str], dimensions: Iterable[str], pvalue_threshold = 0.05):\n",
    "            res = smf.ols(gen_lm_string(dependent, dimensions), data=data).fit()\n",
    "\n",
    "            y_hat = res.predict()\n",
    "            y = data[label].to_numpy()\n",
    "            RSS = np.sum((y - y_hat)**2)\n",
    "            pvalue = res.pvalues[-1]\n",
    "            if pvalue <= pvalue_threshold:\n",
    "                return {\n",
    "                    \"dimension\": list(dimensions)[-1],\n",
    "                    \"pvalue\": pvalue,\n",
    "                    \"RSS\": RSS,\n",
    "                }\n",
    "            return None\n",
    "\n",
    "        nextValues = []\n",
    "        for l in columns:\n",
    "            toAddDims = toAdd.copy()\n",
    "            toAddDims.append(l)\n",
    "            obj = calc_rss(\"Rings\", toAddDims)\n",
    "            if obj is not None: nextValues.append(obj)\n",
    "        nextValues.sort(key=lambda it: it[\"RSS\"], reverse=True)\n",
    "        if len(nextValues) == 0:\n",
    "            return toAdd\n",
    "        obj = nextValues.pop()\n",
    "        toAdd.append(obj[\"dimension\"])\n",
    "\n",
    "features = feature_selection(df_abalones_sex, \"Rings\", df_abalones_sex.columns)\n",
    "features"
   ],
   "metadata": {
    "collapsed": false,
    "pycharm": {
     "name": "#%%\n"
    }
   }
  },
  {
   "cell_type": "code",
   "execution_count": 185,
   "outputs": [
    {
     "data": {
      "text/plain": "<class 'statsmodels.iolib.summary.Summary'>\n\"\"\"\n                            OLS Regression Results                            \n==============================================================================\nDep. Variable:             Q('Rings')   R-squared:                       0.440\nModel:                            OLS   Adj. R-squared:                  0.437\nMethod:                 Least Squares   F-statistic:                     198.9\nDate:                Tue, 09 Nov 2021   Prob (F-statistic):          2.87e-187\nTime:                        11:52:02   Log-Likelihood:                -3417.2\nNo. Observations:                1528   AIC:                             6848.\nDf Residuals:                    1521   BIC:                             6886.\nDf Model:                           6                                         \nCovariance Type:            nonrobust                                         \n=======================================================================================\n                          coef    std err          t      P>|t|      [0.025      0.975]\n---------------------------------------------------------------------------------------\nIntercept               5.1616      0.519      9.954      0.000       4.144       6.179\nQ('Shell weight')      10.6912      1.778      6.012      0.000       7.203      14.179\nQ('Shucked weight')   -18.8064      1.256    -14.978      0.000     -21.269     -16.343\nQ('Whole weight')       8.6668      1.136      7.628      0.000       6.438      10.895\nQ('Height')            14.9013      3.411      4.369      0.000       8.211      21.592\nQ('Viscera weight')   -10.1989      1.988     -5.131      0.000     -14.098      -6.300\nQ('Diameter')           4.6011      1.810      2.542      0.011       1.050       8.152\n==============================================================================\nOmnibus:                      257.136   Durbin-Watson:                   1.476\nProb(Omnibus):                  0.000   Jarque-Bera (JB):              544.490\nSkew:                           0.972   Prob(JB):                    5.83e-119\nKurtosis:                       5.184   Cond. No.                         99.0\n==============================================================================\n\nNotes:\n[1] Standard Errors assume that the covariance matrix of the errors is correctly specified.\n\"\"\"",
      "text/html": "<table class=\"simpletable\">\n<caption>OLS Regression Results</caption>\n<tr>\n  <th>Dep. Variable:</th>       <td>Q('Rings')</td>    <th>  R-squared:         </th> <td>   0.440</td> \n</tr>\n<tr>\n  <th>Model:</th>                   <td>OLS</td>       <th>  Adj. R-squared:    </th> <td>   0.437</td> \n</tr>\n<tr>\n  <th>Method:</th>             <td>Least Squares</td>  <th>  F-statistic:       </th> <td>   198.9</td> \n</tr>\n<tr>\n  <th>Date:</th>             <td>Tue, 09 Nov 2021</td> <th>  Prob (F-statistic):</th> <td>2.87e-187</td>\n</tr>\n<tr>\n  <th>Time:</th>                 <td>11:52:02</td>     <th>  Log-Likelihood:    </th> <td> -3417.2</td> \n</tr>\n<tr>\n  <th>No. Observations:</th>      <td>  1528</td>      <th>  AIC:               </th> <td>   6848.</td> \n</tr>\n<tr>\n  <th>Df Residuals:</th>          <td>  1521</td>      <th>  BIC:               </th> <td>   6886.</td> \n</tr>\n<tr>\n  <th>Df Model:</th>              <td>     6</td>      <th>                     </th>     <td> </td>    \n</tr>\n<tr>\n  <th>Covariance Type:</th>      <td>nonrobust</td>    <th>                     </th>     <td> </td>    \n</tr>\n</table>\n<table class=\"simpletable\">\n<tr>\n           <td></td>              <th>coef</th>     <th>std err</th>      <th>t</th>      <th>P>|t|</th>  <th>[0.025</th>    <th>0.975]</th>  \n</tr>\n<tr>\n  <th>Intercept</th>           <td>    5.1616</td> <td>    0.519</td> <td>    9.954</td> <td> 0.000</td> <td>    4.144</td> <td>    6.179</td>\n</tr>\n<tr>\n  <th>Q('Shell weight')</th>   <td>   10.6912</td> <td>    1.778</td> <td>    6.012</td> <td> 0.000</td> <td>    7.203</td> <td>   14.179</td>\n</tr>\n<tr>\n  <th>Q('Shucked weight')</th> <td>  -18.8064</td> <td>    1.256</td> <td>  -14.978</td> <td> 0.000</td> <td>  -21.269</td> <td>  -16.343</td>\n</tr>\n<tr>\n  <th>Q('Whole weight')</th>   <td>    8.6668</td> <td>    1.136</td> <td>    7.628</td> <td> 0.000</td> <td>    6.438</td> <td>   10.895</td>\n</tr>\n<tr>\n  <th>Q('Height')</th>         <td>   14.9013</td> <td>    3.411</td> <td>    4.369</td> <td> 0.000</td> <td>    8.211</td> <td>   21.592</td>\n</tr>\n<tr>\n  <th>Q('Viscera weight')</th> <td>  -10.1989</td> <td>    1.988</td> <td>   -5.131</td> <td> 0.000</td> <td>  -14.098</td> <td>   -6.300</td>\n</tr>\n<tr>\n  <th>Q('Diameter')</th>       <td>    4.6011</td> <td>    1.810</td> <td>    2.542</td> <td> 0.011</td> <td>    1.050</td> <td>    8.152</td>\n</tr>\n</table>\n<table class=\"simpletable\">\n<tr>\n  <th>Omnibus:</th>       <td>257.136</td> <th>  Durbin-Watson:     </th> <td>   1.476</td> \n</tr>\n<tr>\n  <th>Prob(Omnibus):</th> <td> 0.000</td>  <th>  Jarque-Bera (JB):  </th> <td> 544.490</td> \n</tr>\n<tr>\n  <th>Skew:</th>          <td> 0.972</td>  <th>  Prob(JB):          </th> <td>5.83e-119</td>\n</tr>\n<tr>\n  <th>Kurtosis:</th>      <td> 5.184</td>  <th>  Cond. No.          </th> <td>    99.0</td> \n</tr>\n</table><br/><br/>Notes:<br/>[1] Standard Errors assume that the covariance matrix of the errors is correctly specified."
     },
     "execution_count": 185,
     "metadata": {},
     "output_type": "execute_result"
    }
   ],
   "source": [
    "res = smf.ols(gen_lm_string([\"Rings\"], features), data=df_abalones_sex).fit()\n",
    "res.summary()\n"
   ],
   "metadata": {
    "collapsed": false,
    "pycharm": {
     "name": "#%%\n"
    }
   }
  }
 ],
 "metadata": {
  "kernelspec": {
   "display_name": "Python 3",
   "language": "python",
   "name": "python3"
  },
  "language_info": {
   "codemirror_mode": {
    "name": "ipython",
    "version": 2
   },
   "file_extension": ".py",
   "mimetype": "text/x-python",
   "name": "python",
   "nbconvert_exporter": "python",
   "pygments_lexer": "ipython2",
   "version": "2.7.6"
  }
 },
 "nbformat": 4,
 "nbformat_minor": 0
}