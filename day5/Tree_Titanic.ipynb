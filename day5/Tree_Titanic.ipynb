{
 "cells": [
  {
   "cell_type": "code",
   "execution_count": 52,
   "outputs": [],
   "source": [
    "import graphviz\n",
    "import numpy as np\n",
    "import pandas as pd\n",
    "\n",
    "import sklearn\n",
    "from sklearn import tree\n",
    "from sklearn.model_selection import train_test_split\n",
    "from sklearn.tree import DecisionTreeClassifier\n",
    "\n",
    "import bdsm\n",
    "from bdsm.metrics import confusion_matrix\n"
   ],
   "metadata": {
    "collapsed": false,
    "pycharm": {
     "name": "#%%\n"
    }
   }
  },
  {
   "cell_type": "code",
   "execution_count": 59,
   "outputs": [
    {
     "data": {
      "text/plain": "     PassengerId Survived  Pclass  \\\n0            343       No       2   \n1             76       No       3   \n2            641       No       3   \n3            568       No       3   \n4            672       No       1   \n..           ...      ...     ...   \n886          779       No       3   \n887          435       No       1   \n888          342      Yes       1   \n889          633      Yes       1   \n890          111       No       1   \n\n                                            Name     Sex   Age  SibSp  Parch  \\\n0                     Collander, Mr. Erik Gustaf    male  28.0      0      0   \n1                        Moen, Mr. Sigurd Hansen    male  25.0      0      0   \n2                         Jensen, Mr. Hans Peder    male  20.0      0      0   \n3    Palsson, Mrs. Nils (Alma Cornelia Berglund)  female  29.0      0      4   \n4                         Davidson, Mr. Thornton    male  31.0      1      0   \n..                                           ...     ...   ...    ...    ...   \n886                      Kilgannon, Mr. Thomas J    male   NaN      0      0   \n887                    Silvey, Mr. William Baird    male  50.0      1      0   \n888               Fortune, Miss. Alice Elizabeth  female  24.0      3      2   \n889                    Stahelin-Maeglin, Dr. Max    male  32.0      0      0   \n890               Porter, Mr. Walter Chamberlain    male  47.0      0      0   \n\n         Ticket      Fare        Cabin Embarked  \n0        248740   13.0000          NaN        S  \n1        348123    7.6500        F G73        S  \n2        350050    7.8542          NaN        S  \n3        349909   21.0750          NaN        S  \n4    F.C. 12750   52.0000          B71        S  \n..          ...       ...          ...      ...  \n886       36865    7.7375          NaN        Q  \n887       13507   55.9000          E44        S  \n888       19950  263.0000  C23 C25 C27        S  \n889       13214   30.5000          B50        C  \n890      110465   52.0000         C110        S  \n\n[891 rows x 12 columns]",
      "text/html": "<div>\n<style scoped>\n    .dataframe tbody tr th:only-of-type {\n        vertical-align: middle;\n    }\n\n    .dataframe tbody tr th {\n        vertical-align: top;\n    }\n\n    .dataframe thead th {\n        text-align: right;\n    }\n</style>\n<table border=\"1\" class=\"dataframe\">\n  <thead>\n    <tr style=\"text-align: right;\">\n      <th></th>\n      <th>PassengerId</th>\n      <th>Survived</th>\n      <th>Pclass</th>\n      <th>Name</th>\n      <th>Sex</th>\n      <th>Age</th>\n      <th>SibSp</th>\n      <th>Parch</th>\n      <th>Ticket</th>\n      <th>Fare</th>\n      <th>Cabin</th>\n      <th>Embarked</th>\n    </tr>\n  </thead>\n  <tbody>\n    <tr>\n      <th>0</th>\n      <td>343</td>\n      <td>No</td>\n      <td>2</td>\n      <td>Collander, Mr. Erik Gustaf</td>\n      <td>male</td>\n      <td>28.0</td>\n      <td>0</td>\n      <td>0</td>\n      <td>248740</td>\n      <td>13.0000</td>\n      <td>NaN</td>\n      <td>S</td>\n    </tr>\n    <tr>\n      <th>1</th>\n      <td>76</td>\n      <td>No</td>\n      <td>3</td>\n      <td>Moen, Mr. Sigurd Hansen</td>\n      <td>male</td>\n      <td>25.0</td>\n      <td>0</td>\n      <td>0</td>\n      <td>348123</td>\n      <td>7.6500</td>\n      <td>F G73</td>\n      <td>S</td>\n    </tr>\n    <tr>\n      <th>2</th>\n      <td>641</td>\n      <td>No</td>\n      <td>3</td>\n      <td>Jensen, Mr. Hans Peder</td>\n      <td>male</td>\n      <td>20.0</td>\n      <td>0</td>\n      <td>0</td>\n      <td>350050</td>\n      <td>7.8542</td>\n      <td>NaN</td>\n      <td>S</td>\n    </tr>\n    <tr>\n      <th>3</th>\n      <td>568</td>\n      <td>No</td>\n      <td>3</td>\n      <td>Palsson, Mrs. Nils (Alma Cornelia Berglund)</td>\n      <td>female</td>\n      <td>29.0</td>\n      <td>0</td>\n      <td>4</td>\n      <td>349909</td>\n      <td>21.0750</td>\n      <td>NaN</td>\n      <td>S</td>\n    </tr>\n    <tr>\n      <th>4</th>\n      <td>672</td>\n      <td>No</td>\n      <td>1</td>\n      <td>Davidson, Mr. Thornton</td>\n      <td>male</td>\n      <td>31.0</td>\n      <td>1</td>\n      <td>0</td>\n      <td>F.C. 12750</td>\n      <td>52.0000</td>\n      <td>B71</td>\n      <td>S</td>\n    </tr>\n    <tr>\n      <th>...</th>\n      <td>...</td>\n      <td>...</td>\n      <td>...</td>\n      <td>...</td>\n      <td>...</td>\n      <td>...</td>\n      <td>...</td>\n      <td>...</td>\n      <td>...</td>\n      <td>...</td>\n      <td>...</td>\n      <td>...</td>\n    </tr>\n    <tr>\n      <th>886</th>\n      <td>779</td>\n      <td>No</td>\n      <td>3</td>\n      <td>Kilgannon, Mr. Thomas J</td>\n      <td>male</td>\n      <td>NaN</td>\n      <td>0</td>\n      <td>0</td>\n      <td>36865</td>\n      <td>7.7375</td>\n      <td>NaN</td>\n      <td>Q</td>\n    </tr>\n    <tr>\n      <th>887</th>\n      <td>435</td>\n      <td>No</td>\n      <td>1</td>\n      <td>Silvey, Mr. William Baird</td>\n      <td>male</td>\n      <td>50.0</td>\n      <td>1</td>\n      <td>0</td>\n      <td>13507</td>\n      <td>55.9000</td>\n      <td>E44</td>\n      <td>S</td>\n    </tr>\n    <tr>\n      <th>888</th>\n      <td>342</td>\n      <td>Yes</td>\n      <td>1</td>\n      <td>Fortune, Miss. Alice Elizabeth</td>\n      <td>female</td>\n      <td>24.0</td>\n      <td>3</td>\n      <td>2</td>\n      <td>19950</td>\n      <td>263.0000</td>\n      <td>C23 C25 C27</td>\n      <td>S</td>\n    </tr>\n    <tr>\n      <th>889</th>\n      <td>633</td>\n      <td>Yes</td>\n      <td>1</td>\n      <td>Stahelin-Maeglin, Dr. Max</td>\n      <td>male</td>\n      <td>32.0</td>\n      <td>0</td>\n      <td>0</td>\n      <td>13214</td>\n      <td>30.5000</td>\n      <td>B50</td>\n      <td>C</td>\n    </tr>\n    <tr>\n      <th>890</th>\n      <td>111</td>\n      <td>No</td>\n      <td>1</td>\n      <td>Porter, Mr. Walter Chamberlain</td>\n      <td>male</td>\n      <td>47.0</td>\n      <td>0</td>\n      <td>0</td>\n      <td>110465</td>\n      <td>52.0000</td>\n      <td>C110</td>\n      <td>S</td>\n    </tr>\n  </tbody>\n</table>\n<p>891 rows × 12 columns</p>\n</div>"
     },
     "execution_count": 59,
     "metadata": {},
     "output_type": "execute_result"
    }
   ],
   "source": [
    "bdsm.titanic()"
   ],
   "metadata": {
    "collapsed": false,
    "pycharm": {
     "name": "#%%\n"
    }
   }
  },
  {
   "cell_type": "code",
   "execution_count": 30,
   "outputs": [
    {
     "data": {
      "text/plain": "     PassengerId  Pclass        Age  SibSp  Parch      Fare  Survived_cat  \\\n0            343       2  28.000000      0      0   13.0000             0   \n1             76       3  25.000000      0      0    7.6500             0   \n2            641       3  20.000000      0      0    7.8542             0   \n3            568       3  29.000000      0      4   21.0750             0   \n4            672       1  31.000000      1      0   52.0000             0   \n..           ...     ...        ...    ...    ...       ...           ...   \n886          779       3  29.699118      0      0    7.7375             0   \n887          435       1  50.000000      1      0   55.9000             0   \n888          342       1  24.000000      3      2  263.0000             1   \n889          633       1  32.000000      0      0   30.5000             1   \n890          111       1  47.000000      0      0   52.0000             0   \n\n     Sex_cat  Embarked_cat  \n0          1             2  \n1          1             2  \n2          1             2  \n3          0             2  \n4          1             2  \n..       ...           ...  \n886        1             1  \n887        1             2  \n888        0             2  \n889        1             0  \n890        1             2  \n\n[891 rows x 9 columns]",
      "text/html": "<div>\n<style scoped>\n    .dataframe tbody tr th:only-of-type {\n        vertical-align: middle;\n    }\n\n    .dataframe tbody tr th {\n        vertical-align: top;\n    }\n\n    .dataframe thead th {\n        text-align: right;\n    }\n</style>\n<table border=\"1\" class=\"dataframe\">\n  <thead>\n    <tr style=\"text-align: right;\">\n      <th></th>\n      <th>PassengerId</th>\n      <th>Pclass</th>\n      <th>Age</th>\n      <th>SibSp</th>\n      <th>Parch</th>\n      <th>Fare</th>\n      <th>Survived_cat</th>\n      <th>Sex_cat</th>\n      <th>Embarked_cat</th>\n    </tr>\n  </thead>\n  <tbody>\n    <tr>\n      <th>0</th>\n      <td>343</td>\n      <td>2</td>\n      <td>28.000000</td>\n      <td>0</td>\n      <td>0</td>\n      <td>13.0000</td>\n      <td>0</td>\n      <td>1</td>\n      <td>2</td>\n    </tr>\n    <tr>\n      <th>1</th>\n      <td>76</td>\n      <td>3</td>\n      <td>25.000000</td>\n      <td>0</td>\n      <td>0</td>\n      <td>7.6500</td>\n      <td>0</td>\n      <td>1</td>\n      <td>2</td>\n    </tr>\n    <tr>\n      <th>2</th>\n      <td>641</td>\n      <td>3</td>\n      <td>20.000000</td>\n      <td>0</td>\n      <td>0</td>\n      <td>7.8542</td>\n      <td>0</td>\n      <td>1</td>\n      <td>2</td>\n    </tr>\n    <tr>\n      <th>3</th>\n      <td>568</td>\n      <td>3</td>\n      <td>29.000000</td>\n      <td>0</td>\n      <td>4</td>\n      <td>21.0750</td>\n      <td>0</td>\n      <td>0</td>\n      <td>2</td>\n    </tr>\n    <tr>\n      <th>4</th>\n      <td>672</td>\n      <td>1</td>\n      <td>31.000000</td>\n      <td>1</td>\n      <td>0</td>\n      <td>52.0000</td>\n      <td>0</td>\n      <td>1</td>\n      <td>2</td>\n    </tr>\n    <tr>\n      <th>...</th>\n      <td>...</td>\n      <td>...</td>\n      <td>...</td>\n      <td>...</td>\n      <td>...</td>\n      <td>...</td>\n      <td>...</td>\n      <td>...</td>\n      <td>...</td>\n    </tr>\n    <tr>\n      <th>886</th>\n      <td>779</td>\n      <td>3</td>\n      <td>29.699118</td>\n      <td>0</td>\n      <td>0</td>\n      <td>7.7375</td>\n      <td>0</td>\n      <td>1</td>\n      <td>1</td>\n    </tr>\n    <tr>\n      <th>887</th>\n      <td>435</td>\n      <td>1</td>\n      <td>50.000000</td>\n      <td>1</td>\n      <td>0</td>\n      <td>55.9000</td>\n      <td>0</td>\n      <td>1</td>\n      <td>2</td>\n    </tr>\n    <tr>\n      <th>888</th>\n      <td>342</td>\n      <td>1</td>\n      <td>24.000000</td>\n      <td>3</td>\n      <td>2</td>\n      <td>263.0000</td>\n      <td>1</td>\n      <td>0</td>\n      <td>2</td>\n    </tr>\n    <tr>\n      <th>889</th>\n      <td>633</td>\n      <td>1</td>\n      <td>32.000000</td>\n      <td>0</td>\n      <td>0</td>\n      <td>30.5000</td>\n      <td>1</td>\n      <td>1</td>\n      <td>0</td>\n    </tr>\n    <tr>\n      <th>890</th>\n      <td>111</td>\n      <td>1</td>\n      <td>47.000000</td>\n      <td>0</td>\n      <td>0</td>\n      <td>52.0000</td>\n      <td>0</td>\n      <td>1</td>\n      <td>2</td>\n    </tr>\n  </tbody>\n</table>\n<p>891 rows × 9 columns</p>\n</div>"
     },
     "execution_count": 30,
     "metadata": {},
     "output_type": "execute_result"
    }
   ],
   "source": [
    "df = bdsm.titanic().clean().to_numeric()\n",
    "df"
   ],
   "metadata": {
    "collapsed": false,
    "pycharm": {
     "name": "#%%\n"
    }
   }
  },
  {
   "cell_type": "code",
   "execution_count": 31,
   "outputs": [
    {
     "data": {
      "text/plain": "     Pclass        Age  SibSp  Parch      Fare  Sex_cat  Embarked_cat\n0         2  28.000000      0      0   13.0000        1             2\n1         3  25.000000      0      0    7.6500        1             2\n2         3  20.000000      0      0    7.8542        1             2\n3         3  29.000000      0      4   21.0750        0             2\n4         1  31.000000      1      0   52.0000        1             2\n..      ...        ...    ...    ...       ...      ...           ...\n886       3  29.699118      0      0    7.7375        1             1\n887       1  50.000000      1      0   55.9000        1             2\n888       1  24.000000      3      2  263.0000        0             2\n889       1  32.000000      0      0   30.5000        1             0\n890       1  47.000000      0      0   52.0000        1             2\n\n[891 rows x 7 columns]",
      "text/html": "<div>\n<style scoped>\n    .dataframe tbody tr th:only-of-type {\n        vertical-align: middle;\n    }\n\n    .dataframe tbody tr th {\n        vertical-align: top;\n    }\n\n    .dataframe thead th {\n        text-align: right;\n    }\n</style>\n<table border=\"1\" class=\"dataframe\">\n  <thead>\n    <tr style=\"text-align: right;\">\n      <th></th>\n      <th>Pclass</th>\n      <th>Age</th>\n      <th>SibSp</th>\n      <th>Parch</th>\n      <th>Fare</th>\n      <th>Sex_cat</th>\n      <th>Embarked_cat</th>\n    </tr>\n  </thead>\n  <tbody>\n    <tr>\n      <th>0</th>\n      <td>2</td>\n      <td>28.000000</td>\n      <td>0</td>\n      <td>0</td>\n      <td>13.0000</td>\n      <td>1</td>\n      <td>2</td>\n    </tr>\n    <tr>\n      <th>1</th>\n      <td>3</td>\n      <td>25.000000</td>\n      <td>0</td>\n      <td>0</td>\n      <td>7.6500</td>\n      <td>1</td>\n      <td>2</td>\n    </tr>\n    <tr>\n      <th>2</th>\n      <td>3</td>\n      <td>20.000000</td>\n      <td>0</td>\n      <td>0</td>\n      <td>7.8542</td>\n      <td>1</td>\n      <td>2</td>\n    </tr>\n    <tr>\n      <th>3</th>\n      <td>3</td>\n      <td>29.000000</td>\n      <td>0</td>\n      <td>4</td>\n      <td>21.0750</td>\n      <td>0</td>\n      <td>2</td>\n    </tr>\n    <tr>\n      <th>4</th>\n      <td>1</td>\n      <td>31.000000</td>\n      <td>1</td>\n      <td>0</td>\n      <td>52.0000</td>\n      <td>1</td>\n      <td>2</td>\n    </tr>\n    <tr>\n      <th>...</th>\n      <td>...</td>\n      <td>...</td>\n      <td>...</td>\n      <td>...</td>\n      <td>...</td>\n      <td>...</td>\n      <td>...</td>\n    </tr>\n    <tr>\n      <th>886</th>\n      <td>3</td>\n      <td>29.699118</td>\n      <td>0</td>\n      <td>0</td>\n      <td>7.7375</td>\n      <td>1</td>\n      <td>1</td>\n    </tr>\n    <tr>\n      <th>887</th>\n      <td>1</td>\n      <td>50.000000</td>\n      <td>1</td>\n      <td>0</td>\n      <td>55.9000</td>\n      <td>1</td>\n      <td>2</td>\n    </tr>\n    <tr>\n      <th>888</th>\n      <td>1</td>\n      <td>24.000000</td>\n      <td>3</td>\n      <td>2</td>\n      <td>263.0000</td>\n      <td>0</td>\n      <td>2</td>\n    </tr>\n    <tr>\n      <th>889</th>\n      <td>1</td>\n      <td>32.000000</td>\n      <td>0</td>\n      <td>0</td>\n      <td>30.5000</td>\n      <td>1</td>\n      <td>0</td>\n    </tr>\n    <tr>\n      <th>890</th>\n      <td>1</td>\n      <td>47.000000</td>\n      <td>0</td>\n      <td>0</td>\n      <td>52.0000</td>\n      <td>1</td>\n      <td>2</td>\n    </tr>\n  </tbody>\n</table>\n<p>891 rows × 7 columns</p>\n</div>"
     },
     "execution_count": 31,
     "metadata": {},
     "output_type": "execute_result"
    }
   ],
   "source": [
    "df[['Pclass', 'Age', 'SibSp', 'Parch', 'Fare', 'Sex_cat', 'Embarked_cat']]"
   ],
   "metadata": {
    "collapsed": false,
    "pycharm": {
     "name": "#%%\n"
    }
   }
  },
  {
   "cell_type": "code",
   "execution_count": 32,
   "outputs": [],
   "source": [
    "X = df[['Pclass', 'Age', 'SibSp', 'Parch', 'Fare', 'Sex_cat', 'Embarked_cat']]\n",
    "y = df[\"Survived_cat\"]\n",
    "X_train, X_test, y_train, y_test = train_test_split(X, y, test_size = 0.33,random_state=147)\n"
   ],
   "metadata": {
    "collapsed": false,
    "pycharm": {
     "name": "#%%\n"
    }
   }
  },
  {
   "cell_type": "markdown",
   "source": [
    "### Training"
   ],
   "metadata": {
    "collapsed": false
   }
  },
  {
   "cell_type": "code",
   "execution_count": 33,
   "outputs": [
    {
     "data": {
      "text/plain": "DecisionTreeClassifier(max_depth=4, min_samples_leaf=2, random_state=147)"
     },
     "execution_count": 33,
     "metadata": {},
     "output_type": "execute_result"
    }
   ],
   "source": [
    "model = DecisionTreeClassifier(criterion=\"gini\", random_state=147,max_depth=4, min_samples_leaf=2)\n",
    "model.fit(X_train,y_train)"
   ],
   "metadata": {
    "collapsed": false,
    "pycharm": {
     "name": "#%%\n"
    }
   }
  },
  {
   "cell_type": "markdown",
   "source": [
    "### Vorhersage"
   ],
   "metadata": {
    "collapsed": false
   }
  },
  {
   "cell_type": "code",
   "execution_count": 34,
   "outputs": [],
   "source": [
    "y_pred = model.predict(X_test)"
   ],
   "metadata": {
    "collapsed": false,
    "pycharm": {
     "name": "#%%\n"
    }
   }
  },
  {
   "cell_type": "code",
   "execution_count": 35,
   "outputs": [
    {
     "data": {
      "text/plain": "Actual       0   1\nPredicted         \n0          173  35\n1           14  73",
      "text/html": "<div>\n<style scoped>\n    .dataframe tbody tr th:only-of-type {\n        vertical-align: middle;\n    }\n\n    .dataframe tbody tr th {\n        vertical-align: top;\n    }\n\n    .dataframe thead th {\n        text-align: right;\n    }\n</style>\n<table border=\"1\" class=\"dataframe\">\n  <thead>\n    <tr style=\"text-align: right;\">\n      <th>Actual</th>\n      <th>0</th>\n      <th>1</th>\n    </tr>\n    <tr>\n      <th>Predicted</th>\n      <th></th>\n      <th></th>\n    </tr>\n  </thead>\n  <tbody>\n    <tr>\n      <th>0</th>\n      <td>173</td>\n      <td>35</td>\n    </tr>\n    <tr>\n      <th>1</th>\n      <td>14</td>\n      <td>73</td>\n    </tr>\n  </tbody>\n</table>\n</div>"
     },
     "execution_count": 35,
     "metadata": {},
     "output_type": "execute_result"
    }
   ],
   "source": [
    "confusion_matrix(y_pred, y_test)"
   ],
   "metadata": {
    "collapsed": false,
    "pycharm": {
     "name": "#%%\n"
    }
   }
  },
  {
   "cell_type": "code",
   "execution_count": 57,
   "outputs": [
    {
     "name": "stdout",
     "output_type": "stream",
     "text": [
      "              precision    recall  f1-score   support\n",
      "\n",
      "           0       0.83      0.93      0.88       187\n",
      "           1       0.84      0.68      0.75       108\n",
      "\n",
      "    accuracy                           0.83       295\n",
      "   macro avg       0.84      0.80      0.81       295\n",
      "weighted avg       0.83      0.83      0.83       295\n",
      "\n"
     ]
    }
   ],
   "source": [
    "print(sklearn.metrics.classification_report(y_test, y_pred))"
   ],
   "metadata": {
    "collapsed": false,
    "pycharm": {
     "name": "#%%\n"
    }
   }
  },
  {
   "cell_type": "markdown",
   "source": [
    "### Visualisierung"
   ],
   "metadata": {
    "collapsed": false
   }
  },
  {
   "cell_type": "code",
   "execution_count": 42,
   "outputs": [],
   "source": [
    "label_str = {0: \"No\", 1: \"Yes\"}\n",
    "labels = [label_str[it] for it in list(df[\"Survived_cat\"].unique())]\n",
    "features = list(X.columns)"
   ],
   "metadata": {
    "collapsed": false,
    "pycharm": {
     "name": "#%%\n"
    }
   }
  },
  {
   "cell_type": "code",
   "execution_count": 43,
   "outputs": [
    {
     "data": {
      "text/plain": "['Pclass', 'Age', 'SibSp', 'Parch', 'Fare', 'Sex_cat', 'Embarked_cat']"
     },
     "execution_count": 43,
     "metadata": {},
     "output_type": "execute_result"
    }
   ],
   "source": [
    "features"
   ],
   "metadata": {
    "collapsed": false,
    "pycharm": {
     "name": "#%%\n"
    }
   }
  },
  {
   "cell_type": "code",
   "execution_count": 44,
   "outputs": [
    {
     "data": {
      "text/plain": "<graphviz.sources.Source at 0x22fb930d550>",
      "image/svg+xml": "<?xml version=\"1.0\" encoding=\"UTF-8\" standalone=\"no\"?>\n<!DOCTYPE svg PUBLIC \"-//W3C//DTD SVG 1.1//EN\"\n \"http://www.w3.org/Graphics/SVG/1.1/DTD/svg11.dtd\">\n<!-- Generated by graphviz version 2.48.0 (20210717.1556)\n -->\n<!-- Title: Tree Pages: 1 -->\n<svg width=\"1474pt\" height=\"552pt\"\n viewBox=\"0.00 0.00 1474.00 552.00\" xmlns=\"http://www.w3.org/2000/svg\" xmlns:xlink=\"http://www.w3.org/1999/xlink\">\n<g id=\"graph0\" class=\"graph\" transform=\"scale(1 1) rotate(0) translate(4 548)\">\n<title>Tree</title>\n<polygon fill=\"white\" stroke=\"transparent\" points=\"-4,4 -4,-548 1470,-548 1470,4 -4,4\"/>\n<!-- 0 -->\n<g id=\"node1\" class=\"node\">\n<title>0</title>\n<path fill=\"#f6d2b9\" stroke=\"black\" d=\"M648.5,-544C648.5,-544 542.5,-544 542.5,-544 536.5,-544 530.5,-538 530.5,-532 530.5,-532 530.5,-473 530.5,-473 530.5,-467 536.5,-461 542.5,-461 542.5,-461 648.5,-461 648.5,-461 654.5,-461 660.5,-467 660.5,-473 660.5,-473 660.5,-532 660.5,-532 660.5,-538 654.5,-544 648.5,-544\"/>\n<text text-anchor=\"start\" x=\"551.5\" y=\"-528.8\" font-family=\"Helvetica,sans-Serif\" font-size=\"14.00\">Sex_cat ≤ 0.5</text>\n<text text-anchor=\"start\" x=\"558\" y=\"-513.8\" font-family=\"Helvetica,sans-Serif\" font-size=\"14.00\">gini = 0.477</text>\n<text text-anchor=\"start\" x=\"548\" y=\"-498.8\" font-family=\"Helvetica,sans-Serif\" font-size=\"14.00\">samples = 596</text>\n<text text-anchor=\"start\" x=\"538.5\" y=\"-483.8\" font-family=\"Helvetica,sans-Serif\" font-size=\"14.00\">value = [362, 234]</text>\n<text text-anchor=\"start\" x=\"562\" y=\"-468.8\" font-family=\"Helvetica,sans-Serif\" font-size=\"14.00\">class = No</text>\n</g>\n<!-- 1 -->\n<g id=\"node2\" class=\"node\">\n<title>1</title>\n<path fill=\"#79bded\" stroke=\"black\" d=\"M517.5,-425C517.5,-425 419.5,-425 419.5,-425 413.5,-425 407.5,-419 407.5,-413 407.5,-413 407.5,-354 407.5,-354 407.5,-348 413.5,-342 419.5,-342 419.5,-342 517.5,-342 517.5,-342 523.5,-342 529.5,-348 529.5,-354 529.5,-354 529.5,-413 529.5,-413 529.5,-419 523.5,-425 517.5,-425\"/>\n<text text-anchor=\"start\" x=\"429\" y=\"-409.8\" font-family=\"Helvetica,sans-Serif\" font-size=\"14.00\">Pclass ≤ 2.5</text>\n<text text-anchor=\"start\" x=\"435\" y=\"-394.8\" font-family=\"Helvetica,sans-Serif\" font-size=\"14.00\">gini = 0.37</text>\n<text text-anchor=\"start\" x=\"421\" y=\"-379.8\" font-family=\"Helvetica,sans-Serif\" font-size=\"14.00\">samples = 204</text>\n<text text-anchor=\"start\" x=\"415.5\" y=\"-364.8\" font-family=\"Helvetica,sans-Serif\" font-size=\"14.00\">value = [50, 154]</text>\n<text text-anchor=\"start\" x=\"431.5\" y=\"-349.8\" font-family=\"Helvetica,sans-Serif\" font-size=\"14.00\">class = Yes</text>\n</g>\n<!-- 0&#45;&gt;1 -->\n<g id=\"edge1\" class=\"edge\">\n<title>0&#45;&gt;1</title>\n<path fill=\"none\" stroke=\"black\" d=\"M551.44,-460.91C541.29,-451.56 530.41,-441.54 519.98,-431.93\"/>\n<polygon fill=\"black\" stroke=\"black\" points=\"522.21,-429.22 512.48,-425.02 517.47,-434.37 522.21,-429.22\"/>\n<text text-anchor=\"middle\" x=\"513.51\" y=\"-446.3\" font-family=\"Helvetica,sans-Serif\" font-size=\"14.00\">True</text>\n</g>\n<!-- 14 -->\n<g id=\"node15\" class=\"node\">\n<title>14</title>\n<path fill=\"#eca16c\" stroke=\"black\" d=\"M822.5,-425C822.5,-425 724.5,-425 724.5,-425 718.5,-425 712.5,-419 712.5,-413 712.5,-413 712.5,-354 712.5,-354 712.5,-348 718.5,-342 724.5,-342 724.5,-342 822.5,-342 822.5,-342 828.5,-342 834.5,-348 834.5,-354 834.5,-354 834.5,-413 834.5,-413 834.5,-419 828.5,-425 822.5,-425\"/>\n<text text-anchor=\"start\" x=\"742.5\" y=\"-409.8\" font-family=\"Helvetica,sans-Serif\" font-size=\"14.00\">Age ≤ 6.5</text>\n<text text-anchor=\"start\" x=\"736\" y=\"-394.8\" font-family=\"Helvetica,sans-Serif\" font-size=\"14.00\">gini = 0.325</text>\n<text text-anchor=\"start\" x=\"726\" y=\"-379.8\" font-family=\"Helvetica,sans-Serif\" font-size=\"14.00\">samples = 392</text>\n<text text-anchor=\"start\" x=\"720.5\" y=\"-364.8\" font-family=\"Helvetica,sans-Serif\" font-size=\"14.00\">value = [312, 80]</text>\n<text text-anchor=\"start\" x=\"740\" y=\"-349.8\" font-family=\"Helvetica,sans-Serif\" font-size=\"14.00\">class = No</text>\n</g>\n<!-- 0&#45;&gt;14 -->\n<g id=\"edge14\" class=\"edge\">\n<title>0&#45;&gt;14</title>\n<path fill=\"none\" stroke=\"black\" d=\"M657.26,-460.91C672.34,-450.99 688.57,-440.32 703.99,-430.19\"/>\n<polygon fill=\"black\" stroke=\"black\" points=\"706.02,-433.04 712.45,-424.63 702.18,-427.19 706.02,-433.04\"/>\n<text text-anchor=\"middle\" x=\"707.39\" y=\"-445.41\" font-family=\"Helvetica,sans-Serif\" font-size=\"14.00\">False</text>\n</g>\n<!-- 2 -->\n<g id=\"node3\" class=\"node\">\n<title>2</title>\n<path fill=\"#44a3e6\" stroke=\"black\" d=\"M220,-306C220,-306 131,-306 131,-306 125,-306 119,-300 119,-294 119,-294 119,-235 119,-235 119,-229 125,-223 131,-223 131,-223 220,-223 220,-223 226,-223 232,-229 232,-235 232,-235 232,-294 232,-294 232,-300 226,-306 220,-306\"/>\n<text text-anchor=\"start\" x=\"144.5\" y=\"-290.8\" font-family=\"Helvetica,sans-Serif\" font-size=\"14.00\">Age ≤ 2.5</text>\n<text text-anchor=\"start\" x=\"138\" y=\"-275.8\" font-family=\"Helvetica,sans-Serif\" font-size=\"14.00\">gini = 0.101</text>\n<text text-anchor=\"start\" x=\"128\" y=\"-260.8\" font-family=\"Helvetica,sans-Serif\" font-size=\"14.00\">samples = 112</text>\n<text text-anchor=\"start\" x=\"127\" y=\"-245.8\" font-family=\"Helvetica,sans-Serif\" font-size=\"14.00\">value = [6, 106]</text>\n<text text-anchor=\"start\" x=\"138.5\" y=\"-230.8\" font-family=\"Helvetica,sans-Serif\" font-size=\"14.00\">class = Yes</text>\n</g>\n<!-- 1&#45;&gt;2 -->\n<g id=\"edge2\" class=\"edge\">\n<title>1&#45;&gt;2</title>\n<path fill=\"none\" stroke=\"black\" d=\"M407.43,-358.12C358.91,-338.74 291.15,-311.68 241.4,-291.82\"/>\n<polygon fill=\"black\" stroke=\"black\" points=\"242.6,-288.53 232.02,-288.07 240.01,-295.03 242.6,-288.53\"/>\n</g>\n<!-- 7 -->\n<g id=\"node8\" class=\"node\">\n<title>7</title>\n<path fill=\"#eff7fd\" stroke=\"black\" d=\"M528.5,-306C528.5,-306 408.5,-306 408.5,-306 402.5,-306 396.5,-300 396.5,-294 396.5,-294 396.5,-235 396.5,-235 396.5,-229 402.5,-223 408.5,-223 408.5,-223 528.5,-223 528.5,-223 534.5,-223 540.5,-229 540.5,-235 540.5,-235 540.5,-294 540.5,-294 540.5,-300 534.5,-306 528.5,-306\"/>\n<text text-anchor=\"start\" x=\"404.5\" y=\"-290.8\" font-family=\"Helvetica,sans-Serif\" font-size=\"14.00\">Embarked_cat ≤ 1.5</text>\n<text text-anchor=\"start\" x=\"431\" y=\"-275.8\" font-family=\"Helvetica,sans-Serif\" font-size=\"14.00\">gini = 0.499</text>\n<text text-anchor=\"start\" x=\"425\" y=\"-260.8\" font-family=\"Helvetica,sans-Serif\" font-size=\"14.00\">samples = 92</text>\n<text text-anchor=\"start\" x=\"420\" y=\"-245.8\" font-family=\"Helvetica,sans-Serif\" font-size=\"14.00\">value = [44, 48]</text>\n<text text-anchor=\"start\" x=\"431.5\" y=\"-230.8\" font-family=\"Helvetica,sans-Serif\" font-size=\"14.00\">class = Yes</text>\n</g>\n<!-- 1&#45;&gt;7 -->\n<g id=\"edge7\" class=\"edge\">\n<title>1&#45;&gt;7</title>\n<path fill=\"none\" stroke=\"black\" d=\"M468.5,-341.91C468.5,-333.65 468.5,-324.86 468.5,-316.3\"/>\n<polygon fill=\"black\" stroke=\"black\" points=\"472,-316.02 468.5,-306.02 465,-316.02 472,-316.02\"/>\n</g>\n<!-- 3 -->\n<g id=\"node4\" class=\"node\">\n<title>3</title>\n<path fill=\"#ffffff\" stroke=\"black\" d=\"M89,-179.5C89,-179.5 16,-179.5 16,-179.5 10,-179.5 4,-173.5 4,-167.5 4,-167.5 4,-123.5 4,-123.5 4,-117.5 10,-111.5 16,-111.5 16,-111.5 89,-111.5 89,-111.5 95,-111.5 101,-117.5 101,-123.5 101,-123.5 101,-167.5 101,-167.5 101,-173.5 95,-179.5 89,-179.5\"/>\n<text text-anchor=\"start\" x=\"23.5\" y=\"-164.3\" font-family=\"Helvetica,sans-Serif\" font-size=\"14.00\">gini = 0.5</text>\n<text text-anchor=\"start\" x=\"13\" y=\"-149.3\" font-family=\"Helvetica,sans-Serif\" font-size=\"14.00\">samples = 2</text>\n<text text-anchor=\"start\" x=\"12\" y=\"-134.3\" font-family=\"Helvetica,sans-Serif\" font-size=\"14.00\">value = [1, 1]</text>\n<text text-anchor=\"start\" x=\"19\" y=\"-119.3\" font-family=\"Helvetica,sans-Serif\" font-size=\"14.00\">class = No</text>\n</g>\n<!-- 2&#45;&gt;3 -->\n<g id=\"edge3\" class=\"edge\">\n<title>2&#45;&gt;3</title>\n<path fill=\"none\" stroke=\"black\" d=\"M132.83,-222.91C120.53,-211.21 107.12,-198.46 94.85,-186.78\"/>\n<polygon fill=\"black\" stroke=\"black\" points=\"97.03,-184.02 87.37,-179.67 92.2,-189.1 97.03,-184.02\"/>\n</g>\n<!-- 4 -->\n<g id=\"node5\" class=\"node\">\n<title>4</title>\n<path fill=\"#42a2e6\" stroke=\"black\" d=\"M220,-187C220,-187 131,-187 131,-187 125,-187 119,-181 119,-175 119,-175 119,-116 119,-116 119,-110 125,-104 131,-104 131,-104 220,-104 220,-104 226,-104 232,-110 232,-116 232,-116 232,-175 232,-175 232,-181 226,-187 220,-187\"/>\n<text text-anchor=\"start\" x=\"130.5\" y=\"-171.8\" font-family=\"Helvetica,sans-Serif\" font-size=\"14.00\">Fare ≤ 28.856</text>\n<text text-anchor=\"start\" x=\"138\" y=\"-156.8\" font-family=\"Helvetica,sans-Serif\" font-size=\"14.00\">gini = 0.087</text>\n<text text-anchor=\"start\" x=\"128\" y=\"-141.8\" font-family=\"Helvetica,sans-Serif\" font-size=\"14.00\">samples = 110</text>\n<text text-anchor=\"start\" x=\"127\" y=\"-126.8\" font-family=\"Helvetica,sans-Serif\" font-size=\"14.00\">value = [5, 105]</text>\n<text text-anchor=\"start\" x=\"138.5\" y=\"-111.8\" font-family=\"Helvetica,sans-Serif\" font-size=\"14.00\">class = Yes</text>\n</g>\n<!-- 2&#45;&gt;4 -->\n<g id=\"edge4\" class=\"edge\">\n<title>2&#45;&gt;4</title>\n<path fill=\"none\" stroke=\"black\" d=\"M175.5,-222.91C175.5,-214.65 175.5,-205.86 175.5,-197.3\"/>\n<polygon fill=\"black\" stroke=\"black\" points=\"179,-197.02 175.5,-187.02 172,-197.02 179,-197.02\"/>\n</g>\n<!-- 5 -->\n<g id=\"node6\" class=\"node\">\n<title>5</title>\n<path fill=\"#52aae8\" stroke=\"black\" d=\"M93,-68C93,-68 12,-68 12,-68 6,-68 0,-62 0,-56 0,-56 0,-12 0,-12 0,-6 6,0 12,0 12,0 93,0 93,0 99,0 105,-6 105,-12 105,-12 105,-56 105,-56 105,-62 99,-68 93,-68\"/>\n<text text-anchor=\"start\" x=\"15\" y=\"-52.8\" font-family=\"Helvetica,sans-Serif\" font-size=\"14.00\">gini = 0.201</text>\n<text text-anchor=\"start\" x=\"9\" y=\"-37.8\" font-family=\"Helvetica,sans-Serif\" font-size=\"14.00\">samples = 44</text>\n<text text-anchor=\"start\" x=\"8\" y=\"-22.8\" font-family=\"Helvetica,sans-Serif\" font-size=\"14.00\">value = [5, 39]</text>\n<text text-anchor=\"start\" x=\"15.5\" y=\"-7.8\" font-family=\"Helvetica,sans-Serif\" font-size=\"14.00\">class = Yes</text>\n</g>\n<!-- 4&#45;&gt;5 -->\n<g id=\"edge5\" class=\"edge\">\n<title>4&#45;&gt;5</title>\n<path fill=\"none\" stroke=\"black\" d=\"M129.7,-103.73C119.15,-94.33 107.93,-84.35 97.42,-74.99\"/>\n<polygon fill=\"black\" stroke=\"black\" points=\"99.7,-72.33 89.91,-68.3 95.05,-77.56 99.7,-72.33\"/>\n</g>\n<!-- 6 -->\n<g id=\"node7\" class=\"node\">\n<title>6</title>\n<path fill=\"#399de5\" stroke=\"black\" d=\"M216,-68C216,-68 135,-68 135,-68 129,-68 123,-62 123,-56 123,-56 123,-12 123,-12 123,-6 129,0 135,0 135,0 216,0 216,0 222,0 228,-6 228,-12 228,-12 228,-56 228,-56 228,-62 222,-68 216,-68\"/>\n<text text-anchor=\"start\" x=\"146.5\" y=\"-52.8\" font-family=\"Helvetica,sans-Serif\" font-size=\"14.00\">gini = 0.0</text>\n<text text-anchor=\"start\" x=\"132\" y=\"-37.8\" font-family=\"Helvetica,sans-Serif\" font-size=\"14.00\">samples = 66</text>\n<text text-anchor=\"start\" x=\"131\" y=\"-22.8\" font-family=\"Helvetica,sans-Serif\" font-size=\"14.00\">value = [0, 66]</text>\n<text text-anchor=\"start\" x=\"138.5\" y=\"-7.8\" font-family=\"Helvetica,sans-Serif\" font-size=\"14.00\">class = Yes</text>\n</g>\n<!-- 4&#45;&gt;6 -->\n<g id=\"edge6\" class=\"edge\">\n<title>4&#45;&gt;6</title>\n<path fill=\"none\" stroke=\"black\" d=\"M175.5,-103.73C175.5,-95.52 175.5,-86.86 175.5,-78.56\"/>\n<polygon fill=\"black\" stroke=\"black\" points=\"179,-78.3 175.5,-68.3 172,-78.3 179,-78.3\"/>\n</g>\n<!-- 8 -->\n<g id=\"node9\" class=\"node\">\n<title>8</title>\n<path fill=\"#76bbed\" stroke=\"black\" d=\"M454,-187C454,-187 373,-187 373,-187 367,-187 361,-181 361,-175 361,-175 361,-116 361,-116 361,-110 367,-104 373,-104 373,-104 454,-104 454,-104 460,-104 466,-110 466,-116 466,-116 466,-175 466,-175 466,-181 460,-187 454,-187\"/>\n<text text-anchor=\"start\" x=\"378.5\" y=\"-171.8\" font-family=\"Helvetica,sans-Serif\" font-size=\"14.00\">Age ≤ 30.1</text>\n<text text-anchor=\"start\" x=\"380\" y=\"-156.8\" font-family=\"Helvetica,sans-Serif\" font-size=\"14.00\">gini = 0.36</text>\n<text text-anchor=\"start\" x=\"370\" y=\"-141.8\" font-family=\"Helvetica,sans-Serif\" font-size=\"14.00\">samples = 34</text>\n<text text-anchor=\"start\" x=\"369\" y=\"-126.8\" font-family=\"Helvetica,sans-Serif\" font-size=\"14.00\">value = [8, 26]</text>\n<text text-anchor=\"start\" x=\"376.5\" y=\"-111.8\" font-family=\"Helvetica,sans-Serif\" font-size=\"14.00\">class = Yes</text>\n</g>\n<!-- 7&#45;&gt;8 -->\n<g id=\"edge8\" class=\"edge\">\n<title>7&#45;&gt;8</title>\n<path fill=\"none\" stroke=\"black\" d=\"M449.42,-222.91C445.37,-214.29 441.04,-205.09 436.85,-196.17\"/>\n<polygon fill=\"black\" stroke=\"black\" points=\"439.97,-194.58 432.55,-187.02 433.64,-197.56 439.97,-194.58\"/>\n</g>\n<!-- 11 -->\n<g id=\"node12\" class=\"node\">\n<title>11</title>\n<path fill=\"#f5ceb2\" stroke=\"black\" d=\"M585,-187C585,-187 496,-187 496,-187 490,-187 484,-181 484,-175 484,-175 484,-116 484,-116 484,-110 490,-104 496,-104 496,-104 585,-104 585,-104 591,-104 597,-110 597,-116 597,-116 597,-175 597,-175 597,-181 591,-187 585,-187\"/>\n<text text-anchor=\"start\" x=\"504\" y=\"-171.8\" font-family=\"Helvetica,sans-Serif\" font-size=\"14.00\">Fare ≤ 20.8</text>\n<text text-anchor=\"start\" x=\"503\" y=\"-156.8\" font-family=\"Helvetica,sans-Serif\" font-size=\"14.00\">gini = 0.471</text>\n<text text-anchor=\"start\" x=\"497\" y=\"-141.8\" font-family=\"Helvetica,sans-Serif\" font-size=\"14.00\">samples = 58</text>\n<text text-anchor=\"start\" x=\"492\" y=\"-126.8\" font-family=\"Helvetica,sans-Serif\" font-size=\"14.00\">value = [36, 22]</text>\n<text text-anchor=\"start\" x=\"507\" y=\"-111.8\" font-family=\"Helvetica,sans-Serif\" font-size=\"14.00\">class = No</text>\n</g>\n<!-- 7&#45;&gt;11 -->\n<g id=\"edge11\" class=\"edge\">\n<title>7&#45;&gt;11</title>\n<path fill=\"none\" stroke=\"black\" d=\"M493.48,-222.91C498.9,-214.1 504.68,-204.7 510.28,-195.61\"/>\n<polygon fill=\"black\" stroke=\"black\" points=\"513.3,-197.37 515.56,-187.02 507.34,-193.7 513.3,-197.37\"/>\n</g>\n<!-- 9 -->\n<g id=\"node10\" class=\"node\">\n<title>9</title>\n<path fill=\"#67b4eb\" stroke=\"black\" d=\"M339,-68C339,-68 258,-68 258,-68 252,-68 246,-62 246,-56 246,-56 246,-12 246,-12 246,-6 252,0 258,0 258,0 339,0 339,0 345,0 351,-6 351,-12 351,-12 351,-56 351,-56 351,-62 345,-68 339,-68\"/>\n<text text-anchor=\"start\" x=\"261\" y=\"-52.8\" font-family=\"Helvetica,sans-Serif\" font-size=\"14.00\">gini = 0.305</text>\n<text text-anchor=\"start\" x=\"255\" y=\"-37.8\" font-family=\"Helvetica,sans-Serif\" font-size=\"14.00\">samples = 32</text>\n<text text-anchor=\"start\" x=\"254\" y=\"-22.8\" font-family=\"Helvetica,sans-Serif\" font-size=\"14.00\">value = [6, 26]</text>\n<text text-anchor=\"start\" x=\"261.5\" y=\"-7.8\" font-family=\"Helvetica,sans-Serif\" font-size=\"14.00\">class = Yes</text>\n</g>\n<!-- 8&#45;&gt;9 -->\n<g id=\"edge9\" class=\"edge\">\n<title>8&#45;&gt;9</title>\n<path fill=\"none\" stroke=\"black\" d=\"M370.68,-103.73C360.91,-94.42 350.53,-84.54 340.78,-75.26\"/>\n<polygon fill=\"black\" stroke=\"black\" points=\"343.13,-72.66 333.47,-68.3 338.3,-77.73 343.13,-72.66\"/>\n</g>\n<!-- 10 -->\n<g id=\"node11\" class=\"node\">\n<title>10</title>\n<path fill=\"#e58139\" stroke=\"black\" d=\"M454,-68C454,-68 381,-68 381,-68 375,-68 369,-62 369,-56 369,-56 369,-12 369,-12 369,-6 375,0 381,0 381,0 454,0 454,0 460,0 466,-6 466,-12 466,-12 466,-56 466,-56 466,-62 460,-68 454,-68\"/>\n<text text-anchor=\"start\" x=\"388.5\" y=\"-52.8\" font-family=\"Helvetica,sans-Serif\" font-size=\"14.00\">gini = 0.0</text>\n<text text-anchor=\"start\" x=\"378\" y=\"-37.8\" font-family=\"Helvetica,sans-Serif\" font-size=\"14.00\">samples = 2</text>\n<text text-anchor=\"start\" x=\"377\" y=\"-22.8\" font-family=\"Helvetica,sans-Serif\" font-size=\"14.00\">value = [2, 0]</text>\n<text text-anchor=\"start\" x=\"384\" y=\"-7.8\" font-family=\"Helvetica,sans-Serif\" font-size=\"14.00\">class = No</text>\n</g>\n<!-- 8&#45;&gt;10 -->\n<g id=\"edge10\" class=\"edge\">\n<title>8&#45;&gt;10</title>\n<path fill=\"none\" stroke=\"black\" d=\"M414.99,-103.73C415.29,-95.52 415.61,-86.86 415.91,-78.56\"/>\n<polygon fill=\"black\" stroke=\"black\" points=\"419.42,-78.42 416.28,-68.3 412.42,-78.17 419.42,-78.42\"/>\n</g>\n<!-- 12 -->\n<g id=\"node13\" class=\"node\">\n<title>12</title>\n<path fill=\"#fef9f6\" stroke=\"black\" d=\"M585,-68C585,-68 496,-68 496,-68 490,-68 484,-62 484,-56 484,-56 484,-12 484,-12 484,-6 490,0 496,0 496,0 585,0 585,0 591,0 597,-6 597,-12 597,-12 597,-56 597,-56 597,-62 591,-68 585,-68\"/>\n<text text-anchor=\"start\" x=\"511.5\" y=\"-52.8\" font-family=\"Helvetica,sans-Serif\" font-size=\"14.00\">gini = 0.5</text>\n<text text-anchor=\"start\" x=\"497\" y=\"-37.8\" font-family=\"Helvetica,sans-Serif\" font-size=\"14.00\">samples = 41</text>\n<text text-anchor=\"start\" x=\"492\" y=\"-22.8\" font-family=\"Helvetica,sans-Serif\" font-size=\"14.00\">value = [21, 20]</text>\n<text text-anchor=\"start\" x=\"507\" y=\"-7.8\" font-family=\"Helvetica,sans-Serif\" font-size=\"14.00\">class = No</text>\n</g>\n<!-- 11&#45;&gt;12 -->\n<g id=\"edge12\" class=\"edge\">\n<title>11&#45;&gt;12</title>\n<path fill=\"none\" stroke=\"black\" d=\"M540.5,-103.73C540.5,-95.52 540.5,-86.86 540.5,-78.56\"/>\n<polygon fill=\"black\" stroke=\"black\" points=\"544,-78.3 540.5,-68.3 537,-78.3 544,-78.3\"/>\n</g>\n<!-- 13 -->\n<g id=\"node14\" class=\"node\">\n<title>13</title>\n<path fill=\"#e89253\" stroke=\"black\" d=\"M708,-68C708,-68 627,-68 627,-68 621,-68 615,-62 615,-56 615,-56 615,-12 615,-12 615,-6 621,0 627,0 627,0 708,0 708,0 714,0 720,-6 720,-12 720,-12 720,-56 720,-56 720,-62 714,-68 708,-68\"/>\n<text text-anchor=\"start\" x=\"630\" y=\"-52.8\" font-family=\"Helvetica,sans-Serif\" font-size=\"14.00\">gini = 0.208</text>\n<text text-anchor=\"start\" x=\"624\" y=\"-37.8\" font-family=\"Helvetica,sans-Serif\" font-size=\"14.00\">samples = 17</text>\n<text text-anchor=\"start\" x=\"623\" y=\"-22.8\" font-family=\"Helvetica,sans-Serif\" font-size=\"14.00\">value = [15, 2]</text>\n<text text-anchor=\"start\" x=\"634\" y=\"-7.8\" font-family=\"Helvetica,sans-Serif\" font-size=\"14.00\">class = No</text>\n</g>\n<!-- 11&#45;&gt;13 -->\n<g id=\"edge13\" class=\"edge\">\n<title>11&#45;&gt;13</title>\n<path fill=\"none\" stroke=\"black\" d=\"M587.79,-103.73C598.69,-94.33 610.26,-84.35 621.12,-74.99\"/>\n<polygon fill=\"black\" stroke=\"black\" points=\"623.59,-77.48 628.88,-68.3 619.02,-72.18 623.59,-77.48\"/>\n</g>\n<!-- 15 -->\n<g id=\"node16\" class=\"node\">\n<title>15</title>\n<path fill=\"#80c0ee\" stroke=\"black\" d=\"M814,-306C814,-306 733,-306 733,-306 727,-306 721,-300 721,-294 721,-294 721,-235 721,-235 721,-229 727,-223 733,-223 733,-223 814,-223 814,-223 820,-223 826,-229 826,-235 826,-235 826,-294 826,-294 826,-300 820,-306 814,-306\"/>\n<text text-anchor=\"start\" x=\"736\" y=\"-290.8\" font-family=\"Helvetica,sans-Serif\" font-size=\"14.00\">SibSp ≤ 2.5</text>\n<text text-anchor=\"start\" x=\"736\" y=\"-275.8\" font-family=\"Helvetica,sans-Serif\" font-size=\"14.00\">gini = 0.388</text>\n<text text-anchor=\"start\" x=\"730\" y=\"-260.8\" font-family=\"Helvetica,sans-Serif\" font-size=\"14.00\">samples = 19</text>\n<text text-anchor=\"start\" x=\"729\" y=\"-245.8\" font-family=\"Helvetica,sans-Serif\" font-size=\"14.00\">value = [5, 14]</text>\n<text text-anchor=\"start\" x=\"736.5\" y=\"-230.8\" font-family=\"Helvetica,sans-Serif\" font-size=\"14.00\">class = Yes</text>\n</g>\n<!-- 14&#45;&gt;15 -->\n<g id=\"edge15\" class=\"edge\">\n<title>14&#45;&gt;15</title>\n<path fill=\"none\" stroke=\"black\" d=\"M773.5,-341.91C773.5,-333.65 773.5,-324.86 773.5,-316.3\"/>\n<polygon fill=\"black\" stroke=\"black\" points=\"777,-316.02 773.5,-306.02 770,-316.02 777,-316.02\"/>\n</g>\n<!-- 20 -->\n<g id=\"node21\" class=\"node\">\n<title>20</title>\n<path fill=\"#eb9c64\" stroke=\"black\" d=\"M1127.5,-306C1127.5,-306 1029.5,-306 1029.5,-306 1023.5,-306 1017.5,-300 1017.5,-294 1017.5,-294 1017.5,-235 1017.5,-235 1017.5,-229 1023.5,-223 1029.5,-223 1029.5,-223 1127.5,-223 1127.5,-223 1133.5,-223 1139.5,-229 1139.5,-235 1139.5,-235 1139.5,-294 1139.5,-294 1139.5,-300 1133.5,-306 1127.5,-306\"/>\n<text text-anchor=\"start\" x=\"1033.5\" y=\"-290.8\" font-family=\"Helvetica,sans-Serif\" font-size=\"14.00\">Fare ≤ 26.269</text>\n<text text-anchor=\"start\" x=\"1041\" y=\"-275.8\" font-family=\"Helvetica,sans-Serif\" font-size=\"14.00\">gini = 0.291</text>\n<text text-anchor=\"start\" x=\"1031\" y=\"-260.8\" font-family=\"Helvetica,sans-Serif\" font-size=\"14.00\">samples = 373</text>\n<text text-anchor=\"start\" x=\"1025.5\" y=\"-245.8\" font-family=\"Helvetica,sans-Serif\" font-size=\"14.00\">value = [307, 66]</text>\n<text text-anchor=\"start\" x=\"1045\" y=\"-230.8\" font-family=\"Helvetica,sans-Serif\" font-size=\"14.00\">class = No</text>\n</g>\n<!-- 14&#45;&gt;20 -->\n<g id=\"edge20\" class=\"edge\">\n<title>14&#45;&gt;20</title>\n<path fill=\"none\" stroke=\"black\" d=\"M834.85,-358.96C884.8,-339.8 955.35,-312.74 1007.69,-292.66\"/>\n<polygon fill=\"black\" stroke=\"black\" points=\"1009.16,-295.85 1017.24,-289 1006.65,-289.31 1009.16,-295.85\"/>\n</g>\n<!-- 16 -->\n<g id=\"node17\" class=\"node\">\n<title>16</title>\n<path fill=\"#399de5\" stroke=\"black\" d=\"M755,-179.5C755,-179.5 674,-179.5 674,-179.5 668,-179.5 662,-173.5 662,-167.5 662,-167.5 662,-123.5 662,-123.5 662,-117.5 668,-111.5 674,-111.5 674,-111.5 755,-111.5 755,-111.5 761,-111.5 767,-117.5 767,-123.5 767,-123.5 767,-167.5 767,-167.5 767,-173.5 761,-179.5 755,-179.5\"/>\n<text text-anchor=\"start\" x=\"685.5\" y=\"-164.3\" font-family=\"Helvetica,sans-Serif\" font-size=\"14.00\">gini = 0.0</text>\n<text text-anchor=\"start\" x=\"671\" y=\"-149.3\" font-family=\"Helvetica,sans-Serif\" font-size=\"14.00\">samples = 13</text>\n<text text-anchor=\"start\" x=\"670\" y=\"-134.3\" font-family=\"Helvetica,sans-Serif\" font-size=\"14.00\">value = [0, 13]</text>\n<text text-anchor=\"start\" x=\"677.5\" y=\"-119.3\" font-family=\"Helvetica,sans-Serif\" font-size=\"14.00\">class = Yes</text>\n</g>\n<!-- 15&#45;&gt;16 -->\n<g id=\"edge16\" class=\"edge\">\n<title>15&#45;&gt;16</title>\n<path fill=\"none\" stroke=\"black\" d=\"M753.03,-222.91C747.47,-211.87 741.43,-199.9 735.82,-188.77\"/>\n<polygon fill=\"black\" stroke=\"black\" points=\"738.85,-187.02 731.23,-179.67 732.6,-190.17 738.85,-187.02\"/>\n</g>\n<!-- 17 -->\n<g id=\"node18\" class=\"node\">\n<title>17</title>\n<path fill=\"#ea9a61\" stroke=\"black\" d=\"M870,-187C870,-187 797,-187 797,-187 791,-187 785,-181 785,-175 785,-175 785,-116 785,-116 785,-110 791,-104 797,-104 797,-104 870,-104 870,-104 876,-104 882,-110 882,-116 882,-116 882,-175 882,-175 882,-181 876,-187 870,-187\"/>\n<text text-anchor=\"start\" x=\"802.5\" y=\"-171.8\" font-family=\"Helvetica,sans-Serif\" font-size=\"14.00\">Age ≤ 2.5</text>\n<text text-anchor=\"start\" x=\"796\" y=\"-156.8\" font-family=\"Helvetica,sans-Serif\" font-size=\"14.00\">gini = 0.278</text>\n<text text-anchor=\"start\" x=\"794\" y=\"-141.8\" font-family=\"Helvetica,sans-Serif\" font-size=\"14.00\">samples = 6</text>\n<text text-anchor=\"start\" x=\"793\" y=\"-126.8\" font-family=\"Helvetica,sans-Serif\" font-size=\"14.00\">value = [5, 1]</text>\n<text text-anchor=\"start\" x=\"800\" y=\"-111.8\" font-family=\"Helvetica,sans-Serif\" font-size=\"14.00\">class = No</text>\n</g>\n<!-- 15&#45;&gt;17 -->\n<g id=\"edge17\" class=\"edge\">\n<title>15&#45;&gt;17</title>\n<path fill=\"none\" stroke=\"black\" d=\"M794.32,-222.91C798.74,-214.29 803.45,-205.09 808.03,-196.17\"/>\n<polygon fill=\"black\" stroke=\"black\" points=\"811.27,-197.52 812.72,-187.02 805.04,-194.32 811.27,-197.52\"/>\n</g>\n<!-- 18 -->\n<g id=\"node19\" class=\"node\">\n<title>18</title>\n<path fill=\"#e58139\" stroke=\"black\" d=\"M823,-68C823,-68 750,-68 750,-68 744,-68 738,-62 738,-56 738,-56 738,-12 738,-12 738,-6 744,0 750,0 750,0 823,0 823,0 829,0 835,-6 835,-12 835,-12 835,-56 835,-56 835,-62 829,-68 823,-68\"/>\n<text text-anchor=\"start\" x=\"757.5\" y=\"-52.8\" font-family=\"Helvetica,sans-Serif\" font-size=\"14.00\">gini = 0.0</text>\n<text text-anchor=\"start\" x=\"747\" y=\"-37.8\" font-family=\"Helvetica,sans-Serif\" font-size=\"14.00\">samples = 4</text>\n<text text-anchor=\"start\" x=\"746\" y=\"-22.8\" font-family=\"Helvetica,sans-Serif\" font-size=\"14.00\">value = [4, 0]</text>\n<text text-anchor=\"start\" x=\"753\" y=\"-7.8\" font-family=\"Helvetica,sans-Serif\" font-size=\"14.00\">class = No</text>\n</g>\n<!-- 17&#45;&gt;18 -->\n<g id=\"edge18\" class=\"edge\">\n<title>17&#45;&gt;18</title>\n<path fill=\"none\" stroke=\"black\" d=\"M816,-103.73C812.36,-95.24 808.51,-86.28 804.84,-77.73\"/>\n<polygon fill=\"black\" stroke=\"black\" points=\"807.95,-76.11 800.79,-68.3 801.52,-78.87 807.95,-76.11\"/>\n</g>\n<!-- 19 -->\n<g id=\"node20\" class=\"node\">\n<title>19</title>\n<path fill=\"#ffffff\" stroke=\"black\" d=\"M938,-68C938,-68 865,-68 865,-68 859,-68 853,-62 853,-56 853,-56 853,-12 853,-12 853,-6 859,0 865,0 865,0 938,0 938,0 944,0 950,-6 950,-12 950,-12 950,-56 950,-56 950,-62 944,-68 938,-68\"/>\n<text text-anchor=\"start\" x=\"872.5\" y=\"-52.8\" font-family=\"Helvetica,sans-Serif\" font-size=\"14.00\">gini = 0.5</text>\n<text text-anchor=\"start\" x=\"862\" y=\"-37.8\" font-family=\"Helvetica,sans-Serif\" font-size=\"14.00\">samples = 2</text>\n<text text-anchor=\"start\" x=\"861\" y=\"-22.8\" font-family=\"Helvetica,sans-Serif\" font-size=\"14.00\">value = [1, 1]</text>\n<text text-anchor=\"start\" x=\"868\" y=\"-7.8\" font-family=\"Helvetica,sans-Serif\" font-size=\"14.00\">class = No</text>\n</g>\n<!-- 17&#45;&gt;19 -->\n<g id=\"edge19\" class=\"edge\">\n<title>17&#45;&gt;19</title>\n<path fill=\"none\" stroke=\"black\" d=\"M858.82,-103.73C864.26,-94.97 870.01,-85.7 875.48,-76.91\"/>\n<polygon fill=\"black\" stroke=\"black\" points=\"878.52,-78.64 880.82,-68.3 872.57,-74.95 878.52,-78.64\"/>\n</g>\n<!-- 21 -->\n<g id=\"node22\" class=\"node\">\n<title>21</title>\n<path fill=\"#e99355\" stroke=\"black\" d=\"M1138.5,-187C1138.5,-187 1018.5,-187 1018.5,-187 1012.5,-187 1006.5,-181 1006.5,-175 1006.5,-175 1006.5,-116 1006.5,-116 1006.5,-110 1012.5,-104 1018.5,-104 1018.5,-104 1138.5,-104 1138.5,-104 1144.5,-104 1150.5,-110 1150.5,-116 1150.5,-116 1150.5,-175 1150.5,-175 1150.5,-181 1144.5,-187 1138.5,-187\"/>\n<text text-anchor=\"start\" x=\"1014.5\" y=\"-171.8\" font-family=\"Helvetica,sans-Serif\" font-size=\"14.00\">Embarked_cat ≤ 0.5</text>\n<text text-anchor=\"start\" x=\"1041\" y=\"-156.8\" font-family=\"Helvetica,sans-Serif\" font-size=\"14.00\">gini = 0.214</text>\n<text text-anchor=\"start\" x=\"1031\" y=\"-141.8\" font-family=\"Helvetica,sans-Serif\" font-size=\"14.00\">samples = 262</text>\n<text text-anchor=\"start\" x=\"1025.5\" y=\"-126.8\" font-family=\"Helvetica,sans-Serif\" font-size=\"14.00\">value = [230, 32]</text>\n<text text-anchor=\"start\" x=\"1045\" y=\"-111.8\" font-family=\"Helvetica,sans-Serif\" font-size=\"14.00\">class = No</text>\n</g>\n<!-- 20&#45;&gt;21 -->\n<g id=\"edge21\" class=\"edge\">\n<title>20&#45;&gt;21</title>\n<path fill=\"none\" stroke=\"black\" d=\"M1078.5,-222.91C1078.5,-214.65 1078.5,-205.86 1078.5,-197.3\"/>\n<polygon fill=\"black\" stroke=\"black\" points=\"1082,-197.02 1078.5,-187.02 1075,-197.02 1082,-197.02\"/>\n</g>\n<!-- 24 -->\n<g id=\"node25\" class=\"node\">\n<title>24</title>\n<path fill=\"#f0b990\" stroke=\"black\" d=\"M1328,-187C1328,-187 1239,-187 1239,-187 1233,-187 1227,-181 1227,-175 1227,-175 1227,-116 1227,-116 1227,-110 1233,-104 1239,-104 1239,-104 1328,-104 1328,-104 1334,-104 1340,-110 1340,-116 1340,-116 1340,-175 1340,-175 1340,-181 1334,-187 1328,-187\"/>\n<text text-anchor=\"start\" x=\"1238.5\" y=\"-171.8\" font-family=\"Helvetica,sans-Serif\" font-size=\"14.00\">Fare ≤ 27.135</text>\n<text text-anchor=\"start\" x=\"1246\" y=\"-156.8\" font-family=\"Helvetica,sans-Serif\" font-size=\"14.00\">gini = 0.425</text>\n<text text-anchor=\"start\" x=\"1236\" y=\"-141.8\" font-family=\"Helvetica,sans-Serif\" font-size=\"14.00\">samples = 111</text>\n<text text-anchor=\"start\" x=\"1235\" y=\"-126.8\" font-family=\"Helvetica,sans-Serif\" font-size=\"14.00\">value = [77, 34]</text>\n<text text-anchor=\"start\" x=\"1250\" y=\"-111.8\" font-family=\"Helvetica,sans-Serif\" font-size=\"14.00\">class = No</text>\n</g>\n<!-- 20&#45;&gt;24 -->\n<g id=\"edge24\" class=\"edge\">\n<title>20&#45;&gt;24</title>\n<path fill=\"none\" stroke=\"black\" d=\"M1139.73,-228.55C1164.43,-214.46 1192.96,-198.18 1218.06,-183.85\"/>\n<polygon fill=\"black\" stroke=\"black\" points=\"1219.84,-186.86 1226.79,-178.87 1216.37,-180.78 1219.84,-186.86\"/>\n</g>\n<!-- 22 -->\n<g id=\"node23\" class=\"node\">\n<title>22</title>\n<path fill=\"#eeab7b\" stroke=\"black\" d=\"M1061,-68C1061,-68 980,-68 980,-68 974,-68 968,-62 968,-56 968,-56 968,-12 968,-12 968,-6 974,0 980,0 980,0 1061,0 1061,0 1067,0 1073,-6 1073,-12 1073,-12 1073,-56 1073,-56 1073,-62 1067,-68 1061,-68\"/>\n<text text-anchor=\"start\" x=\"983\" y=\"-52.8\" font-family=\"Helvetica,sans-Serif\" font-size=\"14.00\">gini = 0.375</text>\n<text text-anchor=\"start\" x=\"977\" y=\"-37.8\" font-family=\"Helvetica,sans-Serif\" font-size=\"14.00\">samples = 32</text>\n<text text-anchor=\"start\" x=\"976\" y=\"-22.8\" font-family=\"Helvetica,sans-Serif\" font-size=\"14.00\">value = [24, 8]</text>\n<text text-anchor=\"start\" x=\"987\" y=\"-7.8\" font-family=\"Helvetica,sans-Serif\" font-size=\"14.00\">class = No</text>\n</g>\n<!-- 21&#45;&gt;22 -->\n<g id=\"edge22\" class=\"edge\">\n<title>21&#45;&gt;22</title>\n<path fill=\"none\" stroke=\"black\" d=\"M1056.9,-103.73C1052.31,-95.06 1047.46,-85.9 1042.84,-77.18\"/>\n<polygon fill=\"black\" stroke=\"black\" points=\"1045.91,-75.5 1038.14,-68.3 1039.73,-78.77 1045.91,-75.5\"/>\n</g>\n<!-- 23 -->\n<g id=\"node24\" class=\"node\">\n<title>23</title>\n<path fill=\"#e89050\" stroke=\"black\" d=\"M1201.5,-68C1201.5,-68 1103.5,-68 1103.5,-68 1097.5,-68 1091.5,-62 1091.5,-56 1091.5,-56 1091.5,-12 1091.5,-12 1091.5,-6 1097.5,0 1103.5,0 1103.5,0 1201.5,0 1201.5,0 1207.5,0 1213.5,-6 1213.5,-12 1213.5,-12 1213.5,-56 1213.5,-56 1213.5,-62 1207.5,-68 1201.5,-68\"/>\n<text text-anchor=\"start\" x=\"1115\" y=\"-52.8\" font-family=\"Helvetica,sans-Serif\" font-size=\"14.00\">gini = 0.187</text>\n<text text-anchor=\"start\" x=\"1105\" y=\"-37.8\" font-family=\"Helvetica,sans-Serif\" font-size=\"14.00\">samples = 230</text>\n<text text-anchor=\"start\" x=\"1099.5\" y=\"-22.8\" font-family=\"Helvetica,sans-Serif\" font-size=\"14.00\">value = [206, 24]</text>\n<text text-anchor=\"start\" x=\"1119\" y=\"-7.8\" font-family=\"Helvetica,sans-Serif\" font-size=\"14.00\">class = No</text>\n</g>\n<!-- 21&#45;&gt;23 -->\n<g id=\"edge23\" class=\"edge\">\n<title>21&#45;&gt;23</title>\n<path fill=\"none\" stroke=\"black\" d=\"M1106.05,-103.73C1112.03,-94.88 1118.37,-85.51 1124.37,-76.63\"/>\n<polygon fill=\"black\" stroke=\"black\" points=\"1127.3,-78.54 1130,-68.3 1121.5,-74.63 1127.3,-78.54\"/>\n</g>\n<!-- 25 -->\n<g id=\"node26\" class=\"node\">\n<title>25</title>\n<path fill=\"#9ccef2\" stroke=\"black\" d=\"M1323,-68C1323,-68 1244,-68 1244,-68 1238,-68 1232,-62 1232,-56 1232,-56 1232,-12 1232,-12 1232,-6 1238,0 1244,0 1244,0 1323,0 1323,0 1329,0 1335,-6 1335,-12 1335,-12 1335,-56 1335,-56 1335,-62 1329,-68 1323,-68\"/>\n<text text-anchor=\"start\" x=\"1246\" y=\"-52.8\" font-family=\"Helvetica,sans-Serif\" font-size=\"14.00\">gini = 0.444</text>\n<text text-anchor=\"start\" x=\"1240\" y=\"-37.8\" font-family=\"Helvetica,sans-Serif\" font-size=\"14.00\">samples = 12</text>\n<text text-anchor=\"start\" x=\"1243\" y=\"-22.8\" font-family=\"Helvetica,sans-Serif\" font-size=\"14.00\">value = [4, 8]</text>\n<text text-anchor=\"start\" x=\"1246.5\" y=\"-7.8\" font-family=\"Helvetica,sans-Serif\" font-size=\"14.00\">class = Yes</text>\n</g>\n<!-- 24&#45;&gt;25 -->\n<g id=\"edge25\" class=\"edge\">\n<title>24&#45;&gt;25</title>\n<path fill=\"none\" stroke=\"black\" d=\"M1283.5,-103.73C1283.5,-95.52 1283.5,-86.86 1283.5,-78.56\"/>\n<polygon fill=\"black\" stroke=\"black\" points=\"1287,-78.3 1283.5,-68.3 1280,-78.3 1287,-78.3\"/>\n</g>\n<!-- 26 -->\n<g id=\"node27\" class=\"node\">\n<title>26</title>\n<path fill=\"#eeae80\" stroke=\"black\" d=\"M1454,-68C1454,-68 1365,-68 1365,-68 1359,-68 1353,-62 1353,-56 1353,-56 1353,-12 1353,-12 1353,-6 1359,0 1365,0 1365,0 1454,0 1454,0 1460,0 1466,-6 1466,-12 1466,-12 1466,-56 1466,-56 1466,-62 1460,-68 1454,-68\"/>\n<text text-anchor=\"start\" x=\"1372\" y=\"-52.8\" font-family=\"Helvetica,sans-Serif\" font-size=\"14.00\">gini = 0.387</text>\n<text text-anchor=\"start\" x=\"1366\" y=\"-37.8\" font-family=\"Helvetica,sans-Serif\" font-size=\"14.00\">samples = 99</text>\n<text text-anchor=\"start\" x=\"1361\" y=\"-22.8\" font-family=\"Helvetica,sans-Serif\" font-size=\"14.00\">value = [73, 26]</text>\n<text text-anchor=\"start\" x=\"1376\" y=\"-7.8\" font-family=\"Helvetica,sans-Serif\" font-size=\"14.00\">class = No</text>\n</g>\n<!-- 24&#45;&gt;26 -->\n<g id=\"edge26\" class=\"edge\">\n<title>24&#45;&gt;26</title>\n<path fill=\"none\" stroke=\"black\" d=\"M1330.42,-103.73C1341.23,-94.33 1352.71,-84.35 1363.49,-74.99\"/>\n<polygon fill=\"black\" stroke=\"black\" points=\"1365.93,-77.5 1371.18,-68.3 1361.34,-72.22 1365.93,-77.5\"/>\n</g>\n</g>\n</svg>\n"
     },
     "execution_count": 44,
     "metadata": {},
     "output_type": "execute_result"
    }
   ],
   "source": [
    "data = tree.export_graphviz(model,\n",
    "                            out_file=None,\n",
    "                            feature_names=features,\n",
    "                            class_names=labels,\n",
    "                            filled=True,\n",
    "                            rounded=True,\n",
    "                            special_characters=True)\n",
    "graph = graphviz.Source(data)\n",
    "\n",
    "graph"
   ],
   "metadata": {
    "collapsed": false,
    "pycharm": {
     "name": "#%%\n"
    }
   }
  },
  {
   "cell_type": "markdown",
   "source": [
    "## Hyperparameter\n",
    "\n",
    "https://scikit-learn.org/stable/modules/tree.html#classification"
   ],
   "metadata": {
    "collapsed": false
   }
  },
  {
   "cell_type": "markdown",
   "source": [
    "### Criterion\n",
    "\n",
    "Die Aufteilung bei einem Knoten erfolgt in sklearn entweder mit\n",
    "\n",
    "- Gini Index (*impurity*)\n",
    "- Information Gain (entropy)\n",
    "\n",
    "Die Impurity ist ein Maß, wie homogen die Labels bei einem Node sind. Der Informationsgewinn (*information gain*) verwendet die Entropie als Maß und ein Split erfolgt so, dass der Informationsgewinn möglichst groß wird. Der Gini Index hingegen splittet so, dass die kleinsten Unreinheiten (impurities) entstehen.\n",
    "\n",
    "In der Praxis liefern beide Maßzahlen annähernd gleich gute Ergebnisse, der Gini Index verwendet allerdings keinen Logarithmus zur Berrechnung und ist daher schneller."
   ],
   "metadata": {
    "collapsed": false
   }
  },
  {
   "cell_type": "markdown",
   "source": [
    "### Splitter\n",
    "\n",
    "Hier kann man zwischen **best** und **random** wählen.\n",
    "\n",
    "- best: berechnet die besten Features für den Split, liefert besseres Ergebnis\n",
    "- random: wählt random Features, braucht weniger Rechenzeit, hilft bei Overfitting"
   ],
   "metadata": {
    "collapsed": false
   }
  },
  {
   "cell_type": "markdown",
   "source": [
    "### max_depth\n",
    "\n",
    "Die theoretische Tiefe eines Baums ist von der Anzahl der Trainingssamples abhängig (und nicht von der Anzahl der Features, da an den gleichen Features mehrmals gesplittet werden kann). Jedoch führen tiefere Bäume zu **Overfitting**.\n",
    "\n",
    "- None: Der Baum wird solange gesplitted, bis alle Blätter pur sind oder weniger labels als in min_samples_leaf definiert sind haben.\n",
    "\n",
    "> **Wichtig**: Manche Hyperparameter haben Abhängigkeiten untereinander!\n",
    "\n",
    "Allgemein gilt, **je tiefer** ein Baum wird, **desto komplexer** wird das Modell (man hat mehr Splits) und es ist mehr Information über die Trainingsdaten im Modell enthalten. Das ist einer der Gründe für Overfitting!\n",
    "\n",
    "Wenn das Model overfittet, ist die Reduktion der max_depth eine weitere Maßnahme dagegen."
   ],
   "metadata": {
    "collapsed": false,
    "pycharm": {
     "name": "#%% md\n"
    }
   }
  }
 ],
 "metadata": {
  "kernelspec": {
   "display_name": "Python 3",
   "language": "python",
   "name": "python3"
  },
  "language_info": {
   "codemirror_mode": {
    "name": "ipython",
    "version": 2
   },
   "file_extension": ".py",
   "mimetype": "text/x-python",
   "name": "python",
   "nbconvert_exporter": "python",
   "pygments_lexer": "ipython2",
   "version": "2.7.6"
  }
 },
 "nbformat": 4,
 "nbformat_minor": 0
}