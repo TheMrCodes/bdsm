{
 "cells": [
  {
   "cell_type": "markdown",
   "metadata": {
    "collapsed": true,
    "pycharm": {
     "name": "#%% md\n"
    }
   },
   "source": [
    "# Musternotebook: Klassifizierung\n",
    "\n",
    "Das Ziel dieses Notebooks ist es eine Musterlösung für die Aufbereitung eines Klassifikationsproblems bereitzustellen.\n",
    "Hierzu werden zuerst die Schritte erläutert und diese dann auf ein Beispiel Datenset angewendet.\n",
    "\n",
    "**Disclaimer:**\n",
    "In diesem Notebook werden einige Werte und Verfahren mit mehreren Worten, die sich in der Bedeutung kaum,\n",
    "bis gar nicht unterscheiden, aber in ihrem Context Variieren beschrieben. Weiteres werden Verfahren teils in ihrer \n",
    "englischen wie auch in ihrer deutschen Beschreibung benamst. Dies beruht darauf, dass das Notebook\n",
    "auf Verständnis und nicht perfekte Genauigkeit in der Wortwahl ausgelegt ist. Ich bitte um ihr Verständnis. <br/>\n",
    "Beispiele:\n",
    " - Dataset / DataFrame / Datensatz\n",
    " - Spalte (eines Datasets) / Feature / Dimension\n",
    "\n",
    "\n",
    "## Struktur\n",
    "### Imports, Variables & Settings\n",
    " - Random Seed\n",
    " - Seaborn/Matplot Color schema\n",
    " - Sonstige Configs (np, pandas, etc)\n",
    " - Helper Functions / imports für utilities\n",
    "\n",
    "### Daten Laden / Migrieren\n",
    "Daten von verschiedenen Datenquellen laden / importieren und migrieren (zusammenführen)\n",
    "\n",
    "### Vorverarbeitung\n",
    "#### Data Cleaning / Daten Bereinigung\n",
    " - Datentypen konvertieren\n",
    " - Auffällige Werte löschen\n",
    " - Null Values entfernen / ausfüllen / interpolieren etc.\n",
    " - Explorative Dataanalysis (EDA) Kennzeichen, Verteilungen, Wertebereiche anschauen (auch Grafisch)\n",
    "\n",
    "\n",
    "#### Feature Reduction / Dimension-reduktion\n",
    " - Bestimmen des / der Labels und Teilen in Input (x) und Output (y) Dataset. <br/>\n",
    "    **Notiz:** Alle folgende Schritte die auf die Selection von Features aus sind,\n",
    "    werden nur auf das Input Dataset angewendet.\n",
    " - 'Feature selection' in Form manuellem aussortieren von unnützen Spalten (tB. zu viele NaN Werte, nichts aussagend)\n",
    " - Correlations-Matrix und Variance Inflation Factor (VIF) Analyse <br/>\n",
    "   **Notiz:** Alle Features mit einem VIF Wert von über 10 haben eine hohe Multikollinearität und sollten entfernt werden.\n",
    " - Weitere Feature selection Verfahren.\n",
    "\n",
    " **Wichtig:** Aufschreiben der reduzierten features, nachdem diese bei neuen Echtdaten auch entfernt werden müssen.\n",
    "\n",
    "\n",
    "### Train / Validation / Test Datasets\n",
    "  #### Test - Dataset\n",
    "  Das Test Dataset ist ein set das dazu verwendet wird das finale Model zu validieren und mit anderen Modelen vergleichbar zu machen.\n",
    "  In einem Kaggle Wettbewerb zB. wird das Testset bis nach Ende geheim gehalten und dient zum Vergleich der Modelle und zur Erstellung der Rangliste.\n",
    "\n",
    "  #### Train / Validation Split\n",
    "  Train- und Validationset dienen zur Modellierung, Testen und Hyperparameter tuning.\n",
    "  Deren Verhältnis (Ratio) liegt je nach dataset und model größe zwischen 70/30 und 80/20.\n",
    "\n",
    "\n",
    "### Transformierung / Dimension-reduktion\n",
    "   - Ausreißer analyse nach Train/Test-Split (Nicht immer möglich / gewünscht)\n",
    "      wegen\n",
    "       - Verzerrung der Standardisierung / Normalisierung\n",
    "       - Test der Robustheit des Models gegen Ausreißer\n",
    "   - Standardisierung / Normalisierung\n",
    "   - LDA / PCA\n",
    "   - VIF Dimension-reduktion\n",
    "\n",
    "\n",
    "### Modelle für Klassifikationsprobleme:\n",
    "\n",
    "#### Logistische Regression\n",
    " - VIF notwendig\n",
    " - Nummerischer Input\n",
    " - Kategoriale unabhängige Variable\n",
    " - Standardisierung: Empfohlen\n",
    "\n",
    "#### kNN\n",
    " - Standardisierung: ja\n",
    " - LDA/PCA: ja - bei vielen Dimensionen notwendig\n",
    " - Kategoriale unabhängige Variable möglich\n",
    " - Abhängige Variablen encodieren: ja\n",
    " - möglichst wenige Dimensionen\n",
    "\n",
    "#### Decision Tree\n",
    " - Nullable\n",
    " - Standardisierung: nein, Interpretierbarkeit geht dadurch verloren\n",
    " - LDA/PCA: ja wenn die Beschreibbarkeit nicht wichtig ist\n",
    " - Kategoriale unabhängige Variable möglich (scikit-learn encoding)\n",
    " - Abhängige Variablen encodieren: nein (scikit-learn encoding)\n",
    "\n",
    "#### SVC\n",
    " - Standardisierung: ja\n",
    " - bei nicht linearen Trennungen richtigen Kernel wählen (rbf, ..)\n",
    " - Kategoriale UV möglich (scikit-learn encoding)\n",
    " - AV encodieren: ja\n",
    " - Parameter C - Breite der Trennung (wie viel Ungenauigkeit wird zugelassen)\n",
    "\n",
    "\n",
    "### Kombinierte Klassifikatoren:\n",
    "\n",
    "  #### Bagging (= B ootstrap Agg regation) / Pasting\n",
    "  Kern Verfahren des Random Forest es selektiert jeweils nur ein Subset (teil der Sätze) und trainiert damit Decision Trees. Dieses Verfahren kann mit (Bagging) und ohne Zurücklegen (Pasting) erfolgen. Danach wird über einen Mehrheitsbeschluss da Ergebnis geschlossen.\n",
    "\n",
    "  **Out-Of-Bag Score:**\n",
    "  Der OoB Score kann beim Bagging berechnet werden hierbei werden alle nach der beim Subset auswahl über bleibenden Datensätze verwendet um einen Accuracy Score zu berechnen. Sie werden somit als Extra (Validation Set verwendet)\n",
    "\n",
    "  #### Random Forest\n",
    "   - Bagging ist das Kernverfahren des Random Forest als Model wird hierbei Decision Tree verwendet.\n",
    "   - Deshalb: Selbe Eigenschaften wie Decision Tree\n",
    "\n",
    "  #### Voting Classifier\n",
    "  Beim Voting Classifier werden mehrere Modele verwendet um die Klassification zu berechnen dabei wird ein Mehrheitsentschluss der Ergebnisse aller Modele verwendet.\n",
    "\n",
    "### Regression:\n",
    "Für so ziemlich allen oben genannten Klassifikatoren gibt es eine Regressions-Variante hier sind ein paar davon:\n",
    "\n",
    "#### Linear Regression\n",
    " - VIF notwendig (Feature selection)\n",
    " - Nummerischer Input\n",
    " - Unabhängige Variable möglich\n",
    " - Standardisierung: nein, da sonst die Interpretierbarkeit verloren geht (bei binär) | mehrere Klassen evtl.\n",
    "\n",
    "#### Decision Tree regression\n",
    "Selbe Eigenschaften wie der Decision Tree Classifier jedoch werden nummerische / ordinal skalierte Daten vorhergesagt.\n",
    "\n",
    "#### SVR - Support Vector Regression\n",
    "Selbe Eigenschaften wie der Support Vector Classifier jedoch werden nummerische Daten vorhergesagt.\n",
    "\n",
    "\n",
    "### Hyperparameter Tuning\n",
    "   #### Grid Search (Scikit-learn GridSearchCV)\n",
    "   Grid Search probiert alle ihm übergebenen Parameter eines Modells aus und returniert diejenigen die das beste Ergebnis liefern. Um das Ergebnis zu erhalten, muss `gs.best_params_` aufgerufen werden.\n",
    "\n",
    "   #### Randomized Parameter Optimization (Scikit-learn RandomizedSearchCV)\n",
    "   Randomized Parameter Optimization\n",
    "\n",
    "   **Notiz:** Grid und Randomized Search verwenden intern eine Cross validation, um die Ergebnisse zu verbessern, die Anzahl\n",
    "\n",
    "\n",
    "## Unsupervised\n",
    "\n",
    "### Modelle\n",
    "#### K-Means Clustering\n",
    " - Eigenschaften:\n",
    "    - Distanzbasiert\n",
    "    - Künstliche Labels\n",
    "    - Stark abhängig von Startposition\n",
    " - k - Anzahl der Cluster\n",
    " - Wird verwendet um: Zusammengehörigkeit erklären\n",
    " - Ellbogen-Methode: mehrere k ausprobieren und nach k / Durchschnittliche Cluster Streuung Plotten und nach dem \"Knick\" der Ellboge suchen.\n"
   ]
  },
  {
   "cell_type": "markdown",
   "source": [
    "## Imports, Variables & Settings"
   ],
   "metadata": {
    "collapsed": false
   }
  },
  {
   "cell_type": "code",
   "execution_count": 1,
   "outputs": [],
   "source": [
    "# Reset IPython Notebook Variables\n",
    "%reset -f"
   ],
   "metadata": {
    "collapsed": false,
    "pycharm": {
     "name": "#%%\n"
    }
   }
  },
  {
   "cell_type": "code",
   "execution_count": 2,
   "outputs": [],
   "source": [
    "# Imports\n",
    "import numpy as np          # Numpy as the math lib\n",
    "import pandas as pd         # Pandas for manipulating dataframes\n",
    "import bdsm                 # bsdm as general helpers\n",
    "import seaborn as sns       # seaborn for datavisualisation\n",
    "import sklearn as sk        # scikit-learn for modeling and utility\n",
    "\n",
    "from scipy.stats import zscore\n",
    "\n",
    "from sklearn import svm\n",
    "from sklearn.tree import DecisionTreeClassifier\n",
    "from sklearn.linear_model import LogisticRegression\n",
    "from sklearn.neighbors import KNeighborsClassifier\n",
    "from sklearn.svm import SVC\n",
    "from sklearn.ensemble import RandomForestClassifier\n",
    "\n",
    "# Set seed\n",
    "seed = 1234\n",
    "np.random.seed(seed)\n",
    "\n",
    "# Set seaborn color schema\n",
    "palette = sns.dark_palette(\"#69d\", reverse=False, as_cmap=True)"
   ],
   "metadata": {
    "collapsed": false,
    "pycharm": {
     "name": "#%%\n"
    }
   }
  },
  {
   "cell_type": "markdown",
   "source": [
    "## Data Loading"
   ],
   "metadata": {
    "collapsed": false
   }
  },
  {
   "cell_type": "code",
   "execution_count": 3,
   "outputs": [
    {
     "data": {
      "text/plain": "    StudyName SampleNumber                                    Species  Region  \\\n0     PAL0708            1        Adelie Penguin (Pygoscelis adeliae)  Anvers   \n1     PAL0708            2        Adelie Penguin (Pygoscelis adeliae)  Anvers   \n2     PAL0708            3        Adelie Penguin (Pygoscelis adeliae)  Anvers   \n3     PAL0708            4        Adelie Penguin (Pygoscelis adeliae)  Anvers   \n4     PAL0708            5        Adelie Penguin (Pygoscelis adeliae)  Anvers   \n..        ...          ...                                        ...     ...   \n341   PAL0910           64  Chinstrap penguin (Pygoscelis antarctica)  Anvers   \n342   PAL0910           65  Chinstrap penguin (Pygoscelis antarctica)  Anvers   \n343   PAL0910           66  Chinstrap penguin (Pygoscelis antarctica)  Anvers   \n344   PAL0910           67  Chinstrap penguin (Pygoscelis antarctica)  Anvers   \n345   PAL0910           68  Chinstrap penguin (Pygoscelis antarctica)  Anvers   \n\n        Island               Stage IndividualID ClutchCompletion     DateEgg  \\\n0    Torgersen  Adult, 1 Egg Stage         N1A1              Yes  2007-11-11   \n1    Torgersen  Adult, 1 Egg Stage         N1A2              Yes  2007-11-11   \n2    Torgersen  Adult, 1 Egg Stage         N2A1              Yes  2007-11-16   \n3    Torgersen  Adult, 1 Egg Stage         N2A2              Yes  2007-11-16   \n4    Torgersen  Adult, 1 Egg Stage         N3A1              Yes  2007-11-16   \n..         ...                 ...          ...              ...         ...   \n341      Dream  Adult, 1 Egg Stage        N98A2              Yes  2009-11-19   \n342      Dream  Adult, 1 Egg Stage        N99A1               No  2009-11-21   \n343      Dream  Adult, 1 Egg Stage        N99A2               No  2009-11-21   \n344      Dream  Adult, 1 Egg Stage       N100A1              Yes  2009-11-21   \n345      Dream  Adult, 1 Egg Stage       N100A2              Yes  2009-11-21   \n\n    CulmenLength CulmenDepth FlipperLength BodyMass     Sex Delta15N  \\\n0           39.1        18.7           181     3750    MALE      NaN   \n1           39.5        17.4           186     3800  FEMALE  8.94956   \n2           40.3        18.0           195     3250  FEMALE  8.36821   \n3            NaN         NaN           NaN      NaN     NaN      NaN   \n4           36.7        19.3           193     3450  FEMALE  8.76651   \n..           ...         ...           ...      ...     ...      ...   \n341         55.8        19.8           207     4000    MALE  9.70465   \n342         43.5        18.1           202     3400  FEMALE  9.37608   \n343         49.6        18.2           193     3775    MALE  9.46180   \n344         50.8        19.0           210     4100    MALE  9.98044   \n345         50.2        18.7           198     3775  FEMALE  9.39305   \n\n      Delta13C                               Comments  \n0          NaN         Not enough blood for isotopes.  \n1    -24.69454                                    NaN  \n2    -25.33302                                    NaN  \n3          NaN                     Adult not sampled.  \n4    -25.32426                                    NaN  \n..         ...                                    ...  \n341  -24.53494                                    NaN  \n342  -24.40753  Nest never observed with full clutch.  \n343  -24.70615  Nest never observed with full clutch.  \n344  -24.68741                                    NaN  \n345  -24.25255                                    NaN  \n\n[346 rows x 17 columns]",
      "text/html": "<div>\n<style scoped>\n    .dataframe tbody tr th:only-of-type {\n        vertical-align: middle;\n    }\n\n    .dataframe tbody tr th {\n        vertical-align: top;\n    }\n\n    .dataframe thead th {\n        text-align: right;\n    }\n</style>\n<table border=\"1\" class=\"dataframe\">\n  <thead>\n    <tr style=\"text-align: right;\">\n      <th></th>\n      <th>StudyName</th>\n      <th>SampleNumber</th>\n      <th>Species</th>\n      <th>Region</th>\n      <th>Island</th>\n      <th>Stage</th>\n      <th>IndividualID</th>\n      <th>ClutchCompletion</th>\n      <th>DateEgg</th>\n      <th>CulmenLength</th>\n      <th>CulmenDepth</th>\n      <th>FlipperLength</th>\n      <th>BodyMass</th>\n      <th>Sex</th>\n      <th>Delta15N</th>\n      <th>Delta13C</th>\n      <th>Comments</th>\n    </tr>\n  </thead>\n  <tbody>\n    <tr>\n      <th>0</th>\n      <td>PAL0708</td>\n      <td>1</td>\n      <td>Adelie Penguin (Pygoscelis adeliae)</td>\n      <td>Anvers</td>\n      <td>Torgersen</td>\n      <td>Adult, 1 Egg Stage</td>\n      <td>N1A1</td>\n      <td>Yes</td>\n      <td>2007-11-11</td>\n      <td>39.1</td>\n      <td>18.7</td>\n      <td>181</td>\n      <td>3750</td>\n      <td>MALE</td>\n      <td>NaN</td>\n      <td>NaN</td>\n      <td>Not enough blood for isotopes.</td>\n    </tr>\n    <tr>\n      <th>1</th>\n      <td>PAL0708</td>\n      <td>2</td>\n      <td>Adelie Penguin (Pygoscelis adeliae)</td>\n      <td>Anvers</td>\n      <td>Torgersen</td>\n      <td>Adult, 1 Egg Stage</td>\n      <td>N1A2</td>\n      <td>Yes</td>\n      <td>2007-11-11</td>\n      <td>39.5</td>\n      <td>17.4</td>\n      <td>186</td>\n      <td>3800</td>\n      <td>FEMALE</td>\n      <td>8.94956</td>\n      <td>-24.69454</td>\n      <td>NaN</td>\n    </tr>\n    <tr>\n      <th>2</th>\n      <td>PAL0708</td>\n      <td>3</td>\n      <td>Adelie Penguin (Pygoscelis adeliae)</td>\n      <td>Anvers</td>\n      <td>Torgersen</td>\n      <td>Adult, 1 Egg Stage</td>\n      <td>N2A1</td>\n      <td>Yes</td>\n      <td>2007-11-16</td>\n      <td>40.3</td>\n      <td>18.0</td>\n      <td>195</td>\n      <td>3250</td>\n      <td>FEMALE</td>\n      <td>8.36821</td>\n      <td>-25.33302</td>\n      <td>NaN</td>\n    </tr>\n    <tr>\n      <th>3</th>\n      <td>PAL0708</td>\n      <td>4</td>\n      <td>Adelie Penguin (Pygoscelis adeliae)</td>\n      <td>Anvers</td>\n      <td>Torgersen</td>\n      <td>Adult, 1 Egg Stage</td>\n      <td>N2A2</td>\n      <td>Yes</td>\n      <td>2007-11-16</td>\n      <td>NaN</td>\n      <td>NaN</td>\n      <td>NaN</td>\n      <td>NaN</td>\n      <td>NaN</td>\n      <td>NaN</td>\n      <td>NaN</td>\n      <td>Adult not sampled.</td>\n    </tr>\n    <tr>\n      <th>4</th>\n      <td>PAL0708</td>\n      <td>5</td>\n      <td>Adelie Penguin (Pygoscelis adeliae)</td>\n      <td>Anvers</td>\n      <td>Torgersen</td>\n      <td>Adult, 1 Egg Stage</td>\n      <td>N3A1</td>\n      <td>Yes</td>\n      <td>2007-11-16</td>\n      <td>36.7</td>\n      <td>19.3</td>\n      <td>193</td>\n      <td>3450</td>\n      <td>FEMALE</td>\n      <td>8.76651</td>\n      <td>-25.32426</td>\n      <td>NaN</td>\n    </tr>\n    <tr>\n      <th>...</th>\n      <td>...</td>\n      <td>...</td>\n      <td>...</td>\n      <td>...</td>\n      <td>...</td>\n      <td>...</td>\n      <td>...</td>\n      <td>...</td>\n      <td>...</td>\n      <td>...</td>\n      <td>...</td>\n      <td>...</td>\n      <td>...</td>\n      <td>...</td>\n      <td>...</td>\n      <td>...</td>\n      <td>...</td>\n    </tr>\n    <tr>\n      <th>341</th>\n      <td>PAL0910</td>\n      <td>64</td>\n      <td>Chinstrap penguin (Pygoscelis antarctica)</td>\n      <td>Anvers</td>\n      <td>Dream</td>\n      <td>Adult, 1 Egg Stage</td>\n      <td>N98A2</td>\n      <td>Yes</td>\n      <td>2009-11-19</td>\n      <td>55.8</td>\n      <td>19.8</td>\n      <td>207</td>\n      <td>4000</td>\n      <td>MALE</td>\n      <td>9.70465</td>\n      <td>-24.53494</td>\n      <td>NaN</td>\n    </tr>\n    <tr>\n      <th>342</th>\n      <td>PAL0910</td>\n      <td>65</td>\n      <td>Chinstrap penguin (Pygoscelis antarctica)</td>\n      <td>Anvers</td>\n      <td>Dream</td>\n      <td>Adult, 1 Egg Stage</td>\n      <td>N99A1</td>\n      <td>No</td>\n      <td>2009-11-21</td>\n      <td>43.5</td>\n      <td>18.1</td>\n      <td>202</td>\n      <td>3400</td>\n      <td>FEMALE</td>\n      <td>9.37608</td>\n      <td>-24.40753</td>\n      <td>Nest never observed with full clutch.</td>\n    </tr>\n    <tr>\n      <th>343</th>\n      <td>PAL0910</td>\n      <td>66</td>\n      <td>Chinstrap penguin (Pygoscelis antarctica)</td>\n      <td>Anvers</td>\n      <td>Dream</td>\n      <td>Adult, 1 Egg Stage</td>\n      <td>N99A2</td>\n      <td>No</td>\n      <td>2009-11-21</td>\n      <td>49.6</td>\n      <td>18.2</td>\n      <td>193</td>\n      <td>3775</td>\n      <td>MALE</td>\n      <td>9.46180</td>\n      <td>-24.70615</td>\n      <td>Nest never observed with full clutch.</td>\n    </tr>\n    <tr>\n      <th>344</th>\n      <td>PAL0910</td>\n      <td>67</td>\n      <td>Chinstrap penguin (Pygoscelis antarctica)</td>\n      <td>Anvers</td>\n      <td>Dream</td>\n      <td>Adult, 1 Egg Stage</td>\n      <td>N100A1</td>\n      <td>Yes</td>\n      <td>2009-11-21</td>\n      <td>50.8</td>\n      <td>19.0</td>\n      <td>210</td>\n      <td>4100</td>\n      <td>MALE</td>\n      <td>9.98044</td>\n      <td>-24.68741</td>\n      <td>NaN</td>\n    </tr>\n    <tr>\n      <th>345</th>\n      <td>PAL0910</td>\n      <td>68</td>\n      <td>Chinstrap penguin (Pygoscelis antarctica)</td>\n      <td>Anvers</td>\n      <td>Dream</td>\n      <td>Adult, 1 Egg Stage</td>\n      <td>N100A2</td>\n      <td>Yes</td>\n      <td>2009-11-21</td>\n      <td>50.2</td>\n      <td>18.7</td>\n      <td>198</td>\n      <td>3775</td>\n      <td>FEMALE</td>\n      <td>9.39305</td>\n      <td>-24.25255</td>\n      <td>NaN</td>\n    </tr>\n  </tbody>\n</table>\n<p>346 rows × 17 columns</p>\n</div>"
     },
     "execution_count": 3,
     "metadata": {},
     "output_type": "execute_result"
    }
   ],
   "source": [
    "# Loading from file\n",
    "df_data = pd.read_csv(\"bdsm/datasets/data/penguins.csv\", sep=\",\")\n",
    "df_data"
   ],
   "metadata": {
    "collapsed": false,
    "pycharm": {
     "name": "#%%\n"
    }
   }
  },
  {
   "cell_type": "code",
   "execution_count": 4,
   "outputs": [
    {
     "data": {
      "text/plain": "    StudyName SampleNumber                                    Species  Region  \\\n0     PAL0708            1        Adelie Penguin (Pygoscelis adeliae)  Anvers   \n1     PAL0708            2        Adelie Penguin (Pygoscelis adeliae)  Anvers   \n2     PAL0708            3        Adelie Penguin (Pygoscelis adeliae)  Anvers   \n3     PAL0708            4        Adelie Penguin (Pygoscelis adeliae)  Anvers   \n4     PAL0708            5        Adelie Penguin (Pygoscelis adeliae)  Anvers   \n..        ...          ...                                        ...     ...   \n341   PAL0910           64  Chinstrap penguin (Pygoscelis antarctica)  Anvers   \n342   PAL0910           65  Chinstrap penguin (Pygoscelis antarctica)  Anvers   \n343   PAL0910           66  Chinstrap penguin (Pygoscelis antarctica)  Anvers   \n344   PAL0910           67  Chinstrap penguin (Pygoscelis antarctica)  Anvers   \n345   PAL0910           68  Chinstrap penguin (Pygoscelis antarctica)  Anvers   \n\n        Island               Stage IndividualID ClutchCompletion     DateEgg  \\\n0    Torgersen  Adult, 1 Egg Stage         N1A1              Yes  2007-11-11   \n1    Torgersen  Adult, 1 Egg Stage         N1A2              Yes  2007-11-11   \n2    Torgersen  Adult, 1 Egg Stage         N2A1              Yes  2007-11-16   \n3    Torgersen  Adult, 1 Egg Stage         N2A2              Yes  2007-11-16   \n4    Torgersen  Adult, 1 Egg Stage         N3A1              Yes  2007-11-16   \n..         ...                 ...          ...              ...         ...   \n341      Dream  Adult, 1 Egg Stage        N98A2              Yes  2009-11-19   \n342      Dream  Adult, 1 Egg Stage        N99A1               No  2009-11-21   \n343      Dream  Adult, 1 Egg Stage        N99A2               No  2009-11-21   \n344      Dream  Adult, 1 Egg Stage       N100A1              Yes  2009-11-21   \n345      Dream  Adult, 1 Egg Stage       N100A2              Yes  2009-11-21   \n\n    CulmenLength CulmenDepth FlipperLength BodyMass     Sex Delta15N  \\\n0           39.1        18.7           181     3750    MALE      NaN   \n1           39.5        17.4           186     3800  FEMALE  8.94956   \n2           40.3        18.0           195     3250  FEMALE  8.36821   \n3            NaN         NaN           NaN      NaN     NaN      NaN   \n4           36.7        19.3           193     3450  FEMALE  8.76651   \n..           ...         ...           ...      ...     ...      ...   \n341         55.8        19.8           207     4000    MALE  9.70465   \n342         43.5        18.1           202     3400  FEMALE  9.37608   \n343         49.6        18.2           193     3775    MALE  9.46180   \n344         50.8        19.0           210     4100    MALE  9.98044   \n345         50.2        18.7           198     3775  FEMALE  9.39305   \n\n      Delta13C                               Comments  \n0          NaN         Not enough blood for isotopes.  \n1    -24.69454                                    NaN  \n2    -25.33302                                    NaN  \n3          NaN                     Adult not sampled.  \n4    -25.32426                                    NaN  \n..         ...                                    ...  \n341  -24.53494                                    NaN  \n342  -24.40753  Nest never observed with full clutch.  \n343  -24.70615  Nest never observed with full clutch.  \n344  -24.68741                                    NaN  \n345  -24.25255                                    NaN  \n\n[346 rows x 17 columns]",
      "text/html": "<div>\n<style scoped>\n    .dataframe tbody tr th:only-of-type {\n        vertical-align: middle;\n    }\n\n    .dataframe tbody tr th {\n        vertical-align: top;\n    }\n\n    .dataframe thead th {\n        text-align: right;\n    }\n</style>\n<table border=\"1\" class=\"dataframe\">\n  <thead>\n    <tr style=\"text-align: right;\">\n      <th></th>\n      <th>StudyName</th>\n      <th>SampleNumber</th>\n      <th>Species</th>\n      <th>Region</th>\n      <th>Island</th>\n      <th>Stage</th>\n      <th>IndividualID</th>\n      <th>ClutchCompletion</th>\n      <th>DateEgg</th>\n      <th>CulmenLength</th>\n      <th>CulmenDepth</th>\n      <th>FlipperLength</th>\n      <th>BodyMass</th>\n      <th>Sex</th>\n      <th>Delta15N</th>\n      <th>Delta13C</th>\n      <th>Comments</th>\n    </tr>\n  </thead>\n  <tbody>\n    <tr>\n      <th>0</th>\n      <td>PAL0708</td>\n      <td>1</td>\n      <td>Adelie Penguin (Pygoscelis adeliae)</td>\n      <td>Anvers</td>\n      <td>Torgersen</td>\n      <td>Adult, 1 Egg Stage</td>\n      <td>N1A1</td>\n      <td>Yes</td>\n      <td>2007-11-11</td>\n      <td>39.1</td>\n      <td>18.7</td>\n      <td>181</td>\n      <td>3750</td>\n      <td>MALE</td>\n      <td>NaN</td>\n      <td>NaN</td>\n      <td>Not enough blood for isotopes.</td>\n    </tr>\n    <tr>\n      <th>1</th>\n      <td>PAL0708</td>\n      <td>2</td>\n      <td>Adelie Penguin (Pygoscelis adeliae)</td>\n      <td>Anvers</td>\n      <td>Torgersen</td>\n      <td>Adult, 1 Egg Stage</td>\n      <td>N1A2</td>\n      <td>Yes</td>\n      <td>2007-11-11</td>\n      <td>39.5</td>\n      <td>17.4</td>\n      <td>186</td>\n      <td>3800</td>\n      <td>FEMALE</td>\n      <td>8.94956</td>\n      <td>-24.69454</td>\n      <td>NaN</td>\n    </tr>\n    <tr>\n      <th>2</th>\n      <td>PAL0708</td>\n      <td>3</td>\n      <td>Adelie Penguin (Pygoscelis adeliae)</td>\n      <td>Anvers</td>\n      <td>Torgersen</td>\n      <td>Adult, 1 Egg Stage</td>\n      <td>N2A1</td>\n      <td>Yes</td>\n      <td>2007-11-16</td>\n      <td>40.3</td>\n      <td>18.0</td>\n      <td>195</td>\n      <td>3250</td>\n      <td>FEMALE</td>\n      <td>8.36821</td>\n      <td>-25.33302</td>\n      <td>NaN</td>\n    </tr>\n    <tr>\n      <th>3</th>\n      <td>PAL0708</td>\n      <td>4</td>\n      <td>Adelie Penguin (Pygoscelis adeliae)</td>\n      <td>Anvers</td>\n      <td>Torgersen</td>\n      <td>Adult, 1 Egg Stage</td>\n      <td>N2A2</td>\n      <td>Yes</td>\n      <td>2007-11-16</td>\n      <td>NaN</td>\n      <td>NaN</td>\n      <td>NaN</td>\n      <td>NaN</td>\n      <td>NaN</td>\n      <td>NaN</td>\n      <td>NaN</td>\n      <td>Adult not sampled.</td>\n    </tr>\n    <tr>\n      <th>4</th>\n      <td>PAL0708</td>\n      <td>5</td>\n      <td>Adelie Penguin (Pygoscelis adeliae)</td>\n      <td>Anvers</td>\n      <td>Torgersen</td>\n      <td>Adult, 1 Egg Stage</td>\n      <td>N3A1</td>\n      <td>Yes</td>\n      <td>2007-11-16</td>\n      <td>36.7</td>\n      <td>19.3</td>\n      <td>193</td>\n      <td>3450</td>\n      <td>FEMALE</td>\n      <td>8.76651</td>\n      <td>-25.32426</td>\n      <td>NaN</td>\n    </tr>\n    <tr>\n      <th>...</th>\n      <td>...</td>\n      <td>...</td>\n      <td>...</td>\n      <td>...</td>\n      <td>...</td>\n      <td>...</td>\n      <td>...</td>\n      <td>...</td>\n      <td>...</td>\n      <td>...</td>\n      <td>...</td>\n      <td>...</td>\n      <td>...</td>\n      <td>...</td>\n      <td>...</td>\n      <td>...</td>\n      <td>...</td>\n    </tr>\n    <tr>\n      <th>341</th>\n      <td>PAL0910</td>\n      <td>64</td>\n      <td>Chinstrap penguin (Pygoscelis antarctica)</td>\n      <td>Anvers</td>\n      <td>Dream</td>\n      <td>Adult, 1 Egg Stage</td>\n      <td>N98A2</td>\n      <td>Yes</td>\n      <td>2009-11-19</td>\n      <td>55.8</td>\n      <td>19.8</td>\n      <td>207</td>\n      <td>4000</td>\n      <td>MALE</td>\n      <td>9.70465</td>\n      <td>-24.53494</td>\n      <td>NaN</td>\n    </tr>\n    <tr>\n      <th>342</th>\n      <td>PAL0910</td>\n      <td>65</td>\n      <td>Chinstrap penguin (Pygoscelis antarctica)</td>\n      <td>Anvers</td>\n      <td>Dream</td>\n      <td>Adult, 1 Egg Stage</td>\n      <td>N99A1</td>\n      <td>No</td>\n      <td>2009-11-21</td>\n      <td>43.5</td>\n      <td>18.1</td>\n      <td>202</td>\n      <td>3400</td>\n      <td>FEMALE</td>\n      <td>9.37608</td>\n      <td>-24.40753</td>\n      <td>Nest never observed with full clutch.</td>\n    </tr>\n    <tr>\n      <th>343</th>\n      <td>PAL0910</td>\n      <td>66</td>\n      <td>Chinstrap penguin (Pygoscelis antarctica)</td>\n      <td>Anvers</td>\n      <td>Dream</td>\n      <td>Adult, 1 Egg Stage</td>\n      <td>N99A2</td>\n      <td>No</td>\n      <td>2009-11-21</td>\n      <td>49.6</td>\n      <td>18.2</td>\n      <td>193</td>\n      <td>3775</td>\n      <td>MALE</td>\n      <td>9.46180</td>\n      <td>-24.70615</td>\n      <td>Nest never observed with full clutch.</td>\n    </tr>\n    <tr>\n      <th>344</th>\n      <td>PAL0910</td>\n      <td>67</td>\n      <td>Chinstrap penguin (Pygoscelis antarctica)</td>\n      <td>Anvers</td>\n      <td>Dream</td>\n      <td>Adult, 1 Egg Stage</td>\n      <td>N100A1</td>\n      <td>Yes</td>\n      <td>2009-11-21</td>\n      <td>50.8</td>\n      <td>19.0</td>\n      <td>210</td>\n      <td>4100</td>\n      <td>MALE</td>\n      <td>9.98044</td>\n      <td>-24.68741</td>\n      <td>NaN</td>\n    </tr>\n    <tr>\n      <th>345</th>\n      <td>PAL0910</td>\n      <td>68</td>\n      <td>Chinstrap penguin (Pygoscelis antarctica)</td>\n      <td>Anvers</td>\n      <td>Dream</td>\n      <td>Adult, 1 Egg Stage</td>\n      <td>N100A2</td>\n      <td>Yes</td>\n      <td>2009-11-21</td>\n      <td>50.2</td>\n      <td>18.7</td>\n      <td>198</td>\n      <td>3775</td>\n      <td>FEMALE</td>\n      <td>9.39305</td>\n      <td>-24.25255</td>\n      <td>NaN</td>\n    </tr>\n  </tbody>\n</table>\n<p>346 rows × 17 columns</p>\n</div>"
     },
     "execution_count": 4,
     "metadata": {},
     "output_type": "execute_result"
    }
   ],
   "source": [
    "# From special library\n",
    "df_data = bdsm.datasets.penguins()\n",
    "df_data"
   ],
   "metadata": {
    "collapsed": false,
    "pycharm": {
     "name": "#%%\n"
    }
   }
  },
  {
   "cell_type": "markdown",
   "source": [
    "### Vorverarbeitung / EDA"
   ],
   "metadata": {
    "collapsed": false
   }
  },
  {
   "cell_type": "code",
   "execution_count": 5,
   "outputs": [
    {
     "name": "stdout",
     "output_type": "stream",
     "text": [
      "Help on function penguins in module bdsm.datasets.penguins:\n",
      "\n",
      "penguins()\n",
      "    Penguins data\n",
      "    \n",
      "    Predicting the species of penguines from physical measurements. Includes nesting\n",
      "    observations from Palmer Station Antarctica LTER and K. Gorman., penguin size data,\n",
      "    and isotope measurements from blood samples for adult Adélie, Chinstrap, and Gentoo penguins.\n",
      "    \n",
      "    Description\n",
      "    -----------\n",
      "    346 rows, 17 columns\n",
      "    \n",
      "    Given is the attribute name, attribute type, the measurement unit and a\n",
      "    brief description. \n",
      "    The species is the value to predict (as a classification problem).\n",
      "    (Descriptions are from the original dataset)\n",
      "    \n",
      "        Name                    Data Type       Meas.   Description\n",
      "        ----                    ---------       -----   -----------\n",
      "        studyName               string                  Sampling expedition from which data were collected, generated, etc.\n",
      "        Sample Number           integer                 continuous numbering sequence for each sample\n",
      "        Species                 string                  penguin species\n",
      "        Region                  string                  region of Palmer LTER sampling grid\n",
      "        Island                  string                  island near Palmer Station where samples were collected\n",
      "        Stage                   string                  reproductive stage at sampling\n",
      "        Individual ID           string                  unique ID for each individual in dataset\n",
      "        Clutch Completion       string                  denoting if the study nest observed with a full clutch, i.e., 2 eggs\n",
      "        Date Egg                date                    denoting the date study nest observed with 1 egg (sampled)\n",
      "        Culmen Length           float           mm      length of the dorsal ridge of a bird's bill\n",
      "        Culmen Depth            float           mm      depth of the dorsal ridge of a bird's bill\n",
      "        Flipper Length          integer         mm      length penguin flipper\n",
      "        Body Mass               integer         grams   penguin body mass\n",
      "        Sex                     string                  sex of an animal\n",
      "        Delta 15 N              float                   the measure of the ratio of stable isotopes 15N:14N\n",
      "        Delta 13 C              float                   the measure of the ratio of stable isotopes 13C:12C\n",
      "        Comments                string                  text providing additional relevant information for data\n",
      "\n"
     ]
    }
   ],
   "source": [
    "# Get dataset meta data\n",
    "help(bdsm.datasets.penguins)"
   ],
   "metadata": {
    "collapsed": false,
    "pycharm": {
     "name": "#%%\n"
    }
   }
  },
  {
   "cell_type": "code",
   "execution_count": 6,
   "outputs": [
    {
     "name": "stdout",
     "output_type": "stream",
     "text": [
      "<class 'bdsm.datasets.penguins.PenguinsDataFrame'>\n",
      "RangeIndex: 346 entries, 0 to 345\n",
      "Data columns (total 17 columns):\n",
      " #   Column            Non-Null Count  Dtype \n",
      "---  ------            --------------  ----- \n",
      " 0   StudyName         346 non-null    object\n",
      " 1   SampleNumber      346 non-null    object\n",
      " 2   Species           346 non-null    object\n",
      " 3   Region            346 non-null    object\n",
      " 4   Island            346 non-null    object\n",
      " 5   Stage             346 non-null    object\n",
      " 6   IndividualID      346 non-null    object\n",
      " 7   ClutchCompletion  346 non-null    object\n",
      " 8   DateEgg           346 non-null    object\n",
      " 9   CulmenLength      344 non-null    object\n",
      " 10  CulmenDepth       344 non-null    object\n",
      " 11  FlipperLength     344 non-null    object\n",
      " 12  BodyMass          344 non-null    object\n",
      " 13  Sex               336 non-null    object\n",
      " 14  Delta15N          332 non-null    object\n",
      " 15  Delta13C          333 non-null    object\n",
      " 16  Comments          56 non-null     object\n",
      "dtypes: object(17)\n",
      "memory usage: 46.1+ KB\n"
     ]
    }
   ],
   "source": [
    "# Get Data quality\n",
    "df_data.info()"
   ],
   "metadata": {
    "collapsed": false,
    "pycharm": {
     "name": "#%%\n"
    }
   }
  },
  {
   "cell_type": "code",
   "execution_count": 7,
   "outputs": [
    {
     "name": "stdout",
     "output_type": "stream",
     "text": [
      "Dataframe has 346 rows and 17 columns.\n",
      "\n",
      "8 columns have missing values.\n"
     ]
    },
    {
     "data": {
      "text/plain": "                    type  unique  missing_abs  missing_rel\nStudyName         object       4            0         0.00\nSampleNumber      object     153            0         0.00\nSpecies           object       4            0         0.00\nRegion            object       2            0         0.00\nIsland            object       4            0         0.00\nStage             object       2            0         0.00\nIndividualID      object     191            0         0.00\nClutchCompletion  object       3            0         0.00\nDateEgg           object      51            0         0.00\nCulmenLength      object     165            2         0.58\nCulmenDepth       object      81            2         0.58\nFlipperLength     object      56            2         0.58\nBodyMass          object      95            2         0.58\nSex               object       4           10         2.89\nDelta15N          object     331           14         4.05\nDelta13C          object     332           13         3.76\nComments          object      11          290        83.82",
      "text/html": "<div>\n<style scoped>\n    .dataframe tbody tr th:only-of-type {\n        vertical-align: middle;\n    }\n\n    .dataframe tbody tr th {\n        vertical-align: top;\n    }\n\n    .dataframe thead th {\n        text-align: right;\n    }\n</style>\n<table border=\"1\" class=\"dataframe\">\n  <thead>\n    <tr style=\"text-align: right;\">\n      <th></th>\n      <th>type</th>\n      <th>unique</th>\n      <th>missing_abs</th>\n      <th>missing_rel</th>\n    </tr>\n  </thead>\n  <tbody>\n    <tr>\n      <th>StudyName</th>\n      <td>object</td>\n      <td>4</td>\n      <td>0</td>\n      <td>0.00</td>\n    </tr>\n    <tr>\n      <th>SampleNumber</th>\n      <td>object</td>\n      <td>153</td>\n      <td>0</td>\n      <td>0.00</td>\n    </tr>\n    <tr>\n      <th>Species</th>\n      <td>object</td>\n      <td>4</td>\n      <td>0</td>\n      <td>0.00</td>\n    </tr>\n    <tr>\n      <th>Region</th>\n      <td>object</td>\n      <td>2</td>\n      <td>0</td>\n      <td>0.00</td>\n    </tr>\n    <tr>\n      <th>Island</th>\n      <td>object</td>\n      <td>4</td>\n      <td>0</td>\n      <td>0.00</td>\n    </tr>\n    <tr>\n      <th>Stage</th>\n      <td>object</td>\n      <td>2</td>\n      <td>0</td>\n      <td>0.00</td>\n    </tr>\n    <tr>\n      <th>IndividualID</th>\n      <td>object</td>\n      <td>191</td>\n      <td>0</td>\n      <td>0.00</td>\n    </tr>\n    <tr>\n      <th>ClutchCompletion</th>\n      <td>object</td>\n      <td>3</td>\n      <td>0</td>\n      <td>0.00</td>\n    </tr>\n    <tr>\n      <th>DateEgg</th>\n      <td>object</td>\n      <td>51</td>\n      <td>0</td>\n      <td>0.00</td>\n    </tr>\n    <tr>\n      <th>CulmenLength</th>\n      <td>object</td>\n      <td>165</td>\n      <td>2</td>\n      <td>0.58</td>\n    </tr>\n    <tr>\n      <th>CulmenDepth</th>\n      <td>object</td>\n      <td>81</td>\n      <td>2</td>\n      <td>0.58</td>\n    </tr>\n    <tr>\n      <th>FlipperLength</th>\n      <td>object</td>\n      <td>56</td>\n      <td>2</td>\n      <td>0.58</td>\n    </tr>\n    <tr>\n      <th>BodyMass</th>\n      <td>object</td>\n      <td>95</td>\n      <td>2</td>\n      <td>0.58</td>\n    </tr>\n    <tr>\n      <th>Sex</th>\n      <td>object</td>\n      <td>4</td>\n      <td>10</td>\n      <td>2.89</td>\n    </tr>\n    <tr>\n      <th>Delta15N</th>\n      <td>object</td>\n      <td>331</td>\n      <td>14</td>\n      <td>4.05</td>\n    </tr>\n    <tr>\n      <th>Delta13C</th>\n      <td>object</td>\n      <td>332</td>\n      <td>13</td>\n      <td>3.76</td>\n    </tr>\n    <tr>\n      <th>Comments</th>\n      <td>object</td>\n      <td>11</td>\n      <td>290</td>\n      <td>83.82</td>\n    </tr>\n  </tbody>\n</table>\n</div>"
     },
     "execution_count": 7,
     "metadata": {},
     "output_type": "execute_result"
    }
   ],
   "source": [
    "bdsm.quality(df_data)"
   ],
   "metadata": {
    "collapsed": false,
    "pycharm": {
     "name": "#%%\n"
    }
   }
  },
  {
   "cell_type": "code",
   "execution_count": 8,
   "outputs": [
    {
     "data": {
      "text/plain": "                                       Species     Island CulmenLength  \\\n0          Adelie Penguin (Pygoscelis adeliae)  Torgersen         39.1   \n1          Adelie Penguin (Pygoscelis adeliae)  Torgersen         39.5   \n2          Adelie Penguin (Pygoscelis adeliae)  Torgersen         40.3   \n3          Adelie Penguin (Pygoscelis adeliae)  Torgersen          NaN   \n4          Adelie Penguin (Pygoscelis adeliae)  Torgersen         36.7   \n..                                         ...        ...          ...   \n341  Chinstrap penguin (Pygoscelis antarctica)      Dream         55.8   \n342  Chinstrap penguin (Pygoscelis antarctica)      Dream         43.5   \n343  Chinstrap penguin (Pygoscelis antarctica)      Dream         49.6   \n344  Chinstrap penguin (Pygoscelis antarctica)      Dream         50.8   \n345  Chinstrap penguin (Pygoscelis antarctica)      Dream         50.2   \n\n    CulmenDepth FlipperLength BodyMass     Sex  \n0          18.7           181     3750    MALE  \n1          17.4           186     3800  FEMALE  \n2          18.0           195     3250  FEMALE  \n3           NaN           NaN      NaN     NaN  \n4          19.3           193     3450  FEMALE  \n..          ...           ...      ...     ...  \n341        19.8           207     4000    MALE  \n342        18.1           202     3400  FEMALE  \n343        18.2           193     3775    MALE  \n344        19.0           210     4100    MALE  \n345        18.7           198     3775  FEMALE  \n\n[344 rows x 7 columns]",
      "text/html": "<div>\n<style scoped>\n    .dataframe tbody tr th:only-of-type {\n        vertical-align: middle;\n    }\n\n    .dataframe tbody tr th {\n        vertical-align: top;\n    }\n\n    .dataframe thead th {\n        text-align: right;\n    }\n</style>\n<table border=\"1\" class=\"dataframe\">\n  <thead>\n    <tr style=\"text-align: right;\">\n      <th></th>\n      <th>Species</th>\n      <th>Island</th>\n      <th>CulmenLength</th>\n      <th>CulmenDepth</th>\n      <th>FlipperLength</th>\n      <th>BodyMass</th>\n      <th>Sex</th>\n    </tr>\n  </thead>\n  <tbody>\n    <tr>\n      <th>0</th>\n      <td>Adelie Penguin (Pygoscelis adeliae)</td>\n      <td>Torgersen</td>\n      <td>39.1</td>\n      <td>18.7</td>\n      <td>181</td>\n      <td>3750</td>\n      <td>MALE</td>\n    </tr>\n    <tr>\n      <th>1</th>\n      <td>Adelie Penguin (Pygoscelis adeliae)</td>\n      <td>Torgersen</td>\n      <td>39.5</td>\n      <td>17.4</td>\n      <td>186</td>\n      <td>3800</td>\n      <td>FEMALE</td>\n    </tr>\n    <tr>\n      <th>2</th>\n      <td>Adelie Penguin (Pygoscelis adeliae)</td>\n      <td>Torgersen</td>\n      <td>40.3</td>\n      <td>18.0</td>\n      <td>195</td>\n      <td>3250</td>\n      <td>FEMALE</td>\n    </tr>\n    <tr>\n      <th>3</th>\n      <td>Adelie Penguin (Pygoscelis adeliae)</td>\n      <td>Torgersen</td>\n      <td>NaN</td>\n      <td>NaN</td>\n      <td>NaN</td>\n      <td>NaN</td>\n      <td>NaN</td>\n    </tr>\n    <tr>\n      <th>4</th>\n      <td>Adelie Penguin (Pygoscelis adeliae)</td>\n      <td>Torgersen</td>\n      <td>36.7</td>\n      <td>19.3</td>\n      <td>193</td>\n      <td>3450</td>\n      <td>FEMALE</td>\n    </tr>\n    <tr>\n      <th>...</th>\n      <td>...</td>\n      <td>...</td>\n      <td>...</td>\n      <td>...</td>\n      <td>...</td>\n      <td>...</td>\n      <td>...</td>\n    </tr>\n    <tr>\n      <th>341</th>\n      <td>Chinstrap penguin (Pygoscelis antarctica)</td>\n      <td>Dream</td>\n      <td>55.8</td>\n      <td>19.8</td>\n      <td>207</td>\n      <td>4000</td>\n      <td>MALE</td>\n    </tr>\n    <tr>\n      <th>342</th>\n      <td>Chinstrap penguin (Pygoscelis antarctica)</td>\n      <td>Dream</td>\n      <td>43.5</td>\n      <td>18.1</td>\n      <td>202</td>\n      <td>3400</td>\n      <td>FEMALE</td>\n    </tr>\n    <tr>\n      <th>343</th>\n      <td>Chinstrap penguin (Pygoscelis antarctica)</td>\n      <td>Dream</td>\n      <td>49.6</td>\n      <td>18.2</td>\n      <td>193</td>\n      <td>3775</td>\n      <td>MALE</td>\n    </tr>\n    <tr>\n      <th>344</th>\n      <td>Chinstrap penguin (Pygoscelis antarctica)</td>\n      <td>Dream</td>\n      <td>50.8</td>\n      <td>19.0</td>\n      <td>210</td>\n      <td>4100</td>\n      <td>MALE</td>\n    </tr>\n    <tr>\n      <th>345</th>\n      <td>Chinstrap penguin (Pygoscelis antarctica)</td>\n      <td>Dream</td>\n      <td>50.2</td>\n      <td>18.7</td>\n      <td>198</td>\n      <td>3775</td>\n      <td>FEMALE</td>\n    </tr>\n  </tbody>\n</table>\n<p>344 rows × 7 columns</p>\n</div>"
     },
     "execution_count": 8,
     "metadata": {},
     "output_type": "execute_result"
    }
   ],
   "source": [
    "# Remove unnecessary features\n",
    "columns_to_drop = [         # Reasons:\n",
    "    'StudyName',            # Unrelated: Sample data unrelated to the whole dataset\n",
    "    'SampleNumber',         # Unique identifier: Unique identifier in sample\n",
    "    'Region',               # To sparse: only 1 unique value and 1 duplicated head\n",
    "    'Stage',                # To sparse: only 1 unique value and 1 duplicated head\n",
    "    'IndividualID',         # Unique identifier\n",
    "    'ClutchCompletion',     # Unrelated: to the classification problem\n",
    "    'DateEgg',              # Date: Unrelated and should be relative to some other point in time to be used in modelling\n",
    "    'Delta15N',             # Unrelated\n",
    "    'Delta13C',             # Unrelated\n",
    "    'Comments'              # No contained information & to many NaNs\n",
    "]\n",
    "\n",
    "df_data = df_data[df_data[\"Species\"] != \"Species\"]\n",
    "\n",
    "# Filter header per sample\n",
    "df_data = df_data.drop(columns=columns_to_drop).copy()\n",
    "df_data"
   ],
   "metadata": {
    "collapsed": false,
    "pycharm": {
     "name": "#%%\n"
    }
   }
  },
  {
   "cell_type": "code",
   "execution_count": 9,
   "outputs": [
    {
     "data": {
      "text/plain": "array(['MALE', 'FEMALE', 'Unknown'], dtype=object)"
     },
     "execution_count": 9,
     "metadata": {},
     "output_type": "execute_result"
    }
   ],
   "source": [
    "# Fill NaNs in Sex\n",
    "#df_data[\"Sex\"].unique()    # Displayed all unique values\n",
    "df_data.loc[(df_data[\"Sex\"].isna()) | (df_data[\"Sex\"] == \".\"),\"Sex\"] = \"Unknown\"\n",
    "df_data[\"Sex\"].unique()"
   ],
   "metadata": {
    "collapsed": false,
    "pycharm": {
     "name": "#%%\n"
    }
   }
  },
  {
   "cell_type": "code",
   "execution_count": 10,
   "outputs": [],
   "source": [
    "# Drop NaNs"
   ],
   "metadata": {
    "collapsed": false,
    "pycharm": {
     "name": "#%%\n"
    }
   }
  },
  {
   "cell_type": "code",
   "execution_count": 11,
   "outputs": [],
   "source": [
    "# Convert dtypes &\n",
    "to_float = [\"CulmenLength\", \"CulmenDepth\", \"FlipperLength\", \"BodyMass\"]\n",
    "df_data = df_data.dropna(subset=to_float).copy()\n",
    "df_data[to_float] = df_data[to_float].astype(float)"
   ],
   "metadata": {
    "collapsed": false,
    "pycharm": {
     "name": "#%%\n"
    }
   }
  },
  {
   "cell_type": "code",
   "execution_count": 12,
   "outputs": [
    {
     "name": "stdout",
     "output_type": "stream",
     "text": [
      "Dataframe has 342 rows and 7 columns.\n",
      "\n",
      "0 columns have missing values.\n"
     ]
    },
    {
     "data": {
      "text/plain": "                  type  unique  missing_abs  missing_rel\nSpecies         object       3            0          0.0\nIsland          object       3            0          0.0\nCulmenLength   float64     164            0          0.0\nCulmenDepth    float64      80            0          0.0\nFlipperLength  float64      55            0          0.0\nBodyMass       float64      94            0          0.0\nSex             object       3            0          0.0",
      "text/html": "<div>\n<style scoped>\n    .dataframe tbody tr th:only-of-type {\n        vertical-align: middle;\n    }\n\n    .dataframe tbody tr th {\n        vertical-align: top;\n    }\n\n    .dataframe thead th {\n        text-align: right;\n    }\n</style>\n<table border=\"1\" class=\"dataframe\">\n  <thead>\n    <tr style=\"text-align: right;\">\n      <th></th>\n      <th>type</th>\n      <th>unique</th>\n      <th>missing_abs</th>\n      <th>missing_rel</th>\n    </tr>\n  </thead>\n  <tbody>\n    <tr>\n      <th>Species</th>\n      <td>object</td>\n      <td>3</td>\n      <td>0</td>\n      <td>0.0</td>\n    </tr>\n    <tr>\n      <th>Island</th>\n      <td>object</td>\n      <td>3</td>\n      <td>0</td>\n      <td>0.0</td>\n    </tr>\n    <tr>\n      <th>CulmenLength</th>\n      <td>float64</td>\n      <td>164</td>\n      <td>0</td>\n      <td>0.0</td>\n    </tr>\n    <tr>\n      <th>CulmenDepth</th>\n      <td>float64</td>\n      <td>80</td>\n      <td>0</td>\n      <td>0.0</td>\n    </tr>\n    <tr>\n      <th>FlipperLength</th>\n      <td>float64</td>\n      <td>55</td>\n      <td>0</td>\n      <td>0.0</td>\n    </tr>\n    <tr>\n      <th>BodyMass</th>\n      <td>float64</td>\n      <td>94</td>\n      <td>0</td>\n      <td>0.0</td>\n    </tr>\n    <tr>\n      <th>Sex</th>\n      <td>object</td>\n      <td>3</td>\n      <td>0</td>\n      <td>0.0</td>\n    </tr>\n  </tbody>\n</table>\n</div>"
     },
     "execution_count": 12,
     "metadata": {},
     "output_type": "execute_result"
    }
   ],
   "source": [
    "# Check Quality\n",
    "bdsm.quality(df_data)"
   ],
   "metadata": {
    "collapsed": false,
    "pycharm": {
     "name": "#%%\n"
    }
   }
  },
  {
   "cell_type": "code",
   "execution_count": 13,
   "outputs": [
    {
     "name": "stdout",
     "output_type": "stream",
     "text": [
      "Dataframe has 342 rows and 7 columns.\n",
      "\n",
      "0 columns have missing values.\n"
     ]
    },
    {
     "data": {
      "text/plain": "                   type  unique  missing_abs  missing_rel\nSpecies        category       3            0          0.0\nIsland         category       3            0          0.0\nCulmenLength    float64     164            0          0.0\nCulmenDepth     float64      80            0          0.0\nFlipperLength   float64      55            0          0.0\nBodyMass        float64      94            0          0.0\nSex            category       3            0          0.0",
      "text/html": "<div>\n<style scoped>\n    .dataframe tbody tr th:only-of-type {\n        vertical-align: middle;\n    }\n\n    .dataframe tbody tr th {\n        vertical-align: top;\n    }\n\n    .dataframe thead th {\n        text-align: right;\n    }\n</style>\n<table border=\"1\" class=\"dataframe\">\n  <thead>\n    <tr style=\"text-align: right;\">\n      <th></th>\n      <th>type</th>\n      <th>unique</th>\n      <th>missing_abs</th>\n      <th>missing_rel</th>\n    </tr>\n  </thead>\n  <tbody>\n    <tr>\n      <th>Species</th>\n      <td>category</td>\n      <td>3</td>\n      <td>0</td>\n      <td>0.0</td>\n    </tr>\n    <tr>\n      <th>Island</th>\n      <td>category</td>\n      <td>3</td>\n      <td>0</td>\n      <td>0.0</td>\n    </tr>\n    <tr>\n      <th>CulmenLength</th>\n      <td>float64</td>\n      <td>164</td>\n      <td>0</td>\n      <td>0.0</td>\n    </tr>\n    <tr>\n      <th>CulmenDepth</th>\n      <td>float64</td>\n      <td>80</td>\n      <td>0</td>\n      <td>0.0</td>\n    </tr>\n    <tr>\n      <th>FlipperLength</th>\n      <td>float64</td>\n      <td>55</td>\n      <td>0</td>\n      <td>0.0</td>\n    </tr>\n    <tr>\n      <th>BodyMass</th>\n      <td>float64</td>\n      <td>94</td>\n      <td>0</td>\n      <td>0.0</td>\n    </tr>\n    <tr>\n      <th>Sex</th>\n      <td>category</td>\n      <td>3</td>\n      <td>0</td>\n      <td>0.0</td>\n    </tr>\n  </tbody>\n</table>\n</div>"
     },
     "execution_count": 13,
     "metadata": {},
     "output_type": "execute_result"
    }
   ],
   "source": [
    "# Set labels\n",
    "to_categories = [\"Species\", \"Island\", \"Sex\"]\n",
    "df_data[to_categories] = df_data[to_categories].astype(\"category\")\n",
    "bdsm.quality(df_data)"
   ],
   "metadata": {
    "collapsed": false,
    "pycharm": {
     "name": "#%%\n"
    }
   }
  },
  {
   "cell_type": "markdown",
   "source": [
    "### Feature Reduction / Dimension-reduktion\n",
    "Bestimmen von data und labels"
   ],
   "metadata": {
    "collapsed": false
   }
  },
  {
   "cell_type": "code",
   "execution_count": 14,
   "outputs": [],
   "source": [
    "data, labels = df_data[[\"CulmenLength\", \"CulmenDepth\", \"FlipperLength\", \"BodyMass\"]], df_data[\"Species\"]"
   ],
   "metadata": {
    "collapsed": false,
    "pycharm": {
     "name": "#%%\n"
    }
   }
  },
  {
   "cell_type": "markdown",
   "source": [
    "Korrelation überprüfen"
   ],
   "metadata": {
    "collapsed": false
   }
  },
  {
   "cell_type": "code",
   "execution_count": 15,
   "outputs": [
    {
     "data": {
      "text/plain": "<AxesSubplot:>"
     },
     "execution_count": 15,
     "metadata": {},
     "output_type": "execute_result"
    },
    {
     "data": {
      "text/plain": "<Figure size 432x288 with 2 Axes>",
      "image/png": "[encoded data removed]"
     },
     "metadata": {
      "needs_background": "light"
     },
     "output_type": "display_data"
    }
   ],
   "source": [
    "sns.heatmap(data.corr().abs().round(2), annot=True, fmt=\"0\", cmap=palette)"
   ],
   "metadata": {
    "collapsed": false,
    "pycharm": {
     "name": "#%%\n"
    }
   }
  },
  {
   "cell_type": "markdown",
   "source": [
    "### Train / Validation / Test Datasets"
   ],
   "metadata": {
    "collapsed": false
   }
  },
  {
   "cell_type": "code",
   "execution_count": 16,
   "outputs": [
    {
     "name": "stdout",
     "output_type": "stream",
     "text": [
      "train/validation: 239/72\n"
     ]
    }
   ],
   "source": [
    "x_train, x_tmp, y_train, y_tmp = sk.model_selection.train_test_split(data, labels, test_size = 0.30, random_state=seed)\n",
    "x_valid, x_test, y_valid, y_test = sk.model_selection.train_test_split(x_tmp, y_tmp, test_size = 0.30, random_state=seed)\n",
    "print(f\"train/validation: {len(x_train)}/{len(x_valid)}\")"
   ],
   "metadata": {
    "collapsed": false,
    "pycharm": {
     "name": "#%%\n"
    }
   }
  },
  {
   "cell_type": "markdown",
   "source": [
    "### Models\n",
    "#### Logistic Regression"
   ],
   "metadata": {
    "collapsed": false
   }
  },
  {
   "cell_type": "code",
   "execution_count": 17,
   "outputs": [
    {
     "name": "stdout",
     "output_type": "stream",
     "text": [
      "                                           precision    recall  f1-score   support\n",
      "\n",
      "      Adelie Penguin (Pygoscelis adeliae)       1.00      1.00      1.00        31\n",
      "Chinstrap penguin (Pygoscelis antarctica)       1.00      1.00      1.00        16\n",
      "        Gentoo penguin (Pygoscelis papua)       1.00      1.00      1.00        25\n",
      "\n",
      "                                 accuracy                           1.00        72\n",
      "                                macro avg       1.00      1.00      1.00        72\n",
      "                             weighted avg       1.00      1.00      1.00        72\n",
      "\n",
      "Accuracy: 1.0\n"
     ]
    }
   ],
   "source": [
    "model = LogisticRegression(max_iter=1000, random_state=seed)\n",
    "model.fit(x_train, y_train)\n",
    "y_pred = model.predict(x_valid)\n",
    "print(sk.metrics.classification_report(y_pred, y_valid))\n",
    "accuracy = sk.metrics.accuracy_score(y_valid, y_pred)\n",
    "print(f\"Accuracy: {accuracy}\")"
   ],
   "metadata": {
    "collapsed": false,
    "pycharm": {
     "name": "#%%\n"
    }
   }
  },
  {
   "cell_type": "markdown",
   "source": [
    "#### kNN"
   ],
   "metadata": {
    "collapsed": false
   }
  },
  {
   "cell_type": "code",
   "execution_count": 18,
   "outputs": [
    {
     "name": "stdout",
     "output_type": "stream",
     "text": [
      "                                           precision    recall  f1-score   support\n",
      "\n",
      "      Adelie Penguin (Pygoscelis adeliae)       0.81      0.68      0.74        37\n",
      "Chinstrap penguin (Pygoscelis antarctica)       0.31      0.42      0.36        12\n",
      "        Gentoo penguin (Pygoscelis papua)       0.88      0.96      0.92        23\n",
      "\n",
      "                                 accuracy                           0.72        72\n",
      "                                macro avg       0.67      0.68      0.67        72\n",
      "                             weighted avg       0.75      0.72      0.73        72\n",
      "\n",
      "Accuracy: 0.7222222222222222\n"
     ]
    }
   ],
   "source": [
    "model = KNeighborsClassifier(n_neighbors=2)\n",
    "model.fit(x_train, y_train)\n",
    "y_pred = model.predict(x_valid)\n",
    "print(sk.metrics.classification_report(y_pred, y_valid))\n",
    "accuracy = sk.metrics.accuracy_score(y_valid, y_pred)\n",
    "print(f\"Accuracy: {accuracy}\")"
   ],
   "metadata": {
    "collapsed": false,
    "pycharm": {
     "name": "#%%\n"
    }
   }
  },
  {
   "cell_type": "markdown",
   "source": [
    "#### Decision Tree"
   ],
   "metadata": {
    "collapsed": false
   }
  },
  {
   "cell_type": "code",
   "execution_count": 19,
   "outputs": [
    {
     "name": "stdout",
     "output_type": "stream",
     "text": [
      "                                           precision    recall  f1-score   support\n",
      "\n",
      "      Adelie Penguin (Pygoscelis adeliae)       1.00      0.94      0.97        33\n",
      "Chinstrap penguin (Pygoscelis antarctica)       0.88      1.00      0.93        14\n",
      "        Gentoo penguin (Pygoscelis papua)       1.00      1.00      1.00        25\n",
      "\n",
      "                                 accuracy                           0.97        72\n",
      "                                macro avg       0.96      0.98      0.97        72\n",
      "                             weighted avg       0.98      0.97      0.97        72\n",
      "\n",
      "Accuracy: 0.9722222222222222\n"
     ]
    }
   ],
   "source": [
    "model = DecisionTreeClassifier(\n",
    "    criterion='entropy', random_state=147,\n",
    "    max_depth=5, min_samples_leaf=4,\n",
    ")\n",
    "model.fit(x_train, y_train)\n",
    "y_pred = model.predict(x_valid)\n",
    "print(sk.metrics.classification_report(y_pred, y_valid))\n",
    "accuracy = sk.metrics.accuracy_score(y_valid, y_pred)\n",
    "print(f\"Accuracy: {accuracy}\")"
   ],
   "metadata": {
    "collapsed": false,
    "pycharm": {
     "name": "#%%\n"
    }
   }
  },
  {
   "cell_type": "markdown",
   "source": [
    "#### SVC"
   ],
   "metadata": {
    "collapsed": false
   }
  },
  {
   "cell_type": "code",
   "execution_count": 20,
   "outputs": [
    {
     "name": "stdout",
     "output_type": "stream",
     "text": [
      "                                           precision    recall  f1-score   support\n",
      "\n",
      "      Adelie Penguin (Pygoscelis adeliae)       0.87      0.60      0.71        45\n",
      "Chinstrap penguin (Pygoscelis antarctica)       0.00      0.00      0.00         0\n",
      "        Gentoo penguin (Pygoscelis papua)       0.92      0.85      0.88        27\n",
      "\n",
      "                                 accuracy                           0.69        72\n",
      "                                macro avg       0.60      0.48      0.53        72\n",
      "                             weighted avg       0.89      0.69      0.78        72\n",
      "\n",
      "Accuracy: 0.6944444444444444\n"
     ]
    },
    {
     "name": "stderr",
     "output_type": "stream",
     "text": [
      "C:\\Users\\apigl\\.virtualenvs\\bdsm-Grc_FbtC\\lib\\site-packages\\sklearn\\metrics\\_classification.py:1308: UndefinedMetricWarning: Recall and F-score are ill-defined and being set to 0.0 in labels with no true samples. Use `zero_division` parameter to control this behavior.\n",
      "  _warn_prf(average, modifier, msg_start, len(result))\n",
      "C:\\Users\\apigl\\.virtualenvs\\bdsm-Grc_FbtC\\lib\\site-packages\\sklearn\\metrics\\_classification.py:1308: UndefinedMetricWarning: Recall and F-score are ill-defined and being set to 0.0 in labels with no true samples. Use `zero_division` parameter to control this behavior.\n",
      "  _warn_prf(average, modifier, msg_start, len(result))\n",
      "C:\\Users\\apigl\\.virtualenvs\\bdsm-Grc_FbtC\\lib\\site-packages\\sklearn\\metrics\\_classification.py:1308: UndefinedMetricWarning: Recall and F-score are ill-defined and being set to 0.0 in labels with no true samples. Use `zero_division` parameter to control this behavior.\n",
      "  _warn_prf(average, modifier, msg_start, len(result))\n"
     ]
    }
   ],
   "source": [
    "model = SVC(C=0.9)\n",
    "model.fit(x_train, y_train)\n",
    "y_pred = model.predict(x_valid)\n",
    "print(sk.metrics.classification_report(y_pred, y_valid))\n",
    "accuracy = sk.metrics.accuracy_score(y_valid, y_pred)\n",
    "print(f\"Accuracy: {accuracy}\")"
   ],
   "metadata": {
    "collapsed": false,
    "pycharm": {
     "name": "#%%\n"
    }
   }
  },
  {
   "cell_type": "markdown",
   "source": [
    "#### Random Forest"
   ],
   "metadata": {
    "collapsed": false
   }
  },
  {
   "cell_type": "code",
   "execution_count": 21,
   "outputs": [
    {
     "name": "stdout",
     "output_type": "stream",
     "text": [
      "                                           precision    recall  f1-score   support\n",
      "\n",
      "      Adelie Penguin (Pygoscelis adeliae)       1.00      1.00      1.00        31\n",
      "Chinstrap penguin (Pygoscelis antarctica)       1.00      1.00      1.00        16\n",
      "        Gentoo penguin (Pygoscelis papua)       1.00      1.00      1.00        25\n",
      "\n",
      "                                 accuracy                           1.00        72\n",
      "                                macro avg       1.00      1.00      1.00        72\n",
      "                             weighted avg       1.00      1.00      1.00        72\n",
      "\n",
      "Accuracy: 1.0\n"
     ]
    }
   ],
   "source": [
    "model = RandomForestClassifier(\n",
    "    n_estimators=100,\n",
    "    max_leaf_nodes=16,\n",
    "    n_jobs=-1\n",
    ")\n",
    "model.fit(x_train, y_train)\n",
    "y_pred = model.predict(x_valid)\n",
    "print(sk.metrics.classification_report(y_pred, y_valid))\n",
    "accuracy = sk.metrics.accuracy_score(y_valid, y_pred)\n",
    "print(f\"Accuracy: {accuracy}\")"
   ],
   "metadata": {
    "collapsed": false,
    "pycharm": {
     "name": "#%%\n"
    }
   }
  }
 ],
 "metadata": {
  "kernelspec": {
   "display_name": "Python 3",
   "language": "python",
   "name": "python3"
  },
  "language_info": {
   "codemirror_mode": {
    "name": "ipython",
    "version": 2
   },
   "file_extension": ".py",
   "mimetype": "text/x-python",
   "name": "python",
   "nbconvert_exporter": "python",
   "pygments_lexer": "ipython2",
   "version": "2.7.6"
  }
 },
 "nbformat": 4,
 "nbformat_minor": 0
}