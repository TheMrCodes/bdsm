{
 "cells": [
  {
   "cell_type": "code",
   "execution_count": 73,
   "metadata": {
    "collapsed": true
   },
   "outputs": [],
   "source": [
    "import bdsm\n",
    "import re, seaborn as sns\n",
    "import numpy as np\n",
    "import pandas as pd\n",
    "import sklearn\n",
    "from sklearn.linear_model import LogisticRegression\n",
    "from sklearn.ensemble import RandomForestClassifier\n",
    "from sklearn.neighbors import KNeighborsClassifier\n",
    "from sklearn.ensemble import VotingClassifier\n",
    "from sklearn.svm import SVC\n",
    "from sklearn.model_selection import train_test_split\n",
    "from sklearn.metrics import accuracy_score\n",
    "import sklearn.metrics as metrics"
   ]
  },
  {
   "cell_type": "code",
   "execution_count": 74,
   "outputs": [
    {
     "data": {
      "text/plain": "     CulmenLength  CulmenDepth  FlipperLength     BodyMass  Species_cat  \\\n0       39.100000    18.700000     181.000000  3750.000000            0   \n1       39.500000    17.400000     186.000000  3800.000000            0   \n2       40.300000    18.000000     195.000000  3250.000000            0   \n3       38.791391    18.346358     189.953642  3700.662252            0   \n4       36.700000    19.300000     193.000000  3450.000000            0   \n..            ...          ...            ...          ...          ...   \n340     43.500000    18.100000     202.000000  3400.000000            1   \n341     49.600000    18.200000     193.000000  3775.000000            1   \n342     50.800000    19.000000     210.000000  4100.000000            1   \n343     50.800000    19.000000     210.000000  4100.000000            1   \n344     50.200000    18.700000     198.000000  3775.000000            1   \n\n     Island_cat  Sex_cat  \n0             2        1  \n1             2        0  \n2             2        0  \n3             2        2  \n4             2        0  \n..          ...      ...  \n340           1        0  \n341           1        1  \n342           1        1  \n343           1        1  \n344           1        0  \n\n[345 rows x 7 columns]",
      "text/html": "<div>\n<style scoped>\n    .dataframe tbody tr th:only-of-type {\n        vertical-align: middle;\n    }\n\n    .dataframe tbody tr th {\n        vertical-align: top;\n    }\n\n    .dataframe thead th {\n        text-align: right;\n    }\n</style>\n<table border=\"1\" class=\"dataframe\">\n  <thead>\n    <tr style=\"text-align: right;\">\n      <th></th>\n      <th>CulmenLength</th>\n      <th>CulmenDepth</th>\n      <th>FlipperLength</th>\n      <th>BodyMass</th>\n      <th>Species_cat</th>\n      <th>Island_cat</th>\n      <th>Sex_cat</th>\n    </tr>\n  </thead>\n  <tbody>\n    <tr>\n      <th>0</th>\n      <td>39.100000</td>\n      <td>18.700000</td>\n      <td>181.000000</td>\n      <td>3750.000000</td>\n      <td>0</td>\n      <td>2</td>\n      <td>1</td>\n    </tr>\n    <tr>\n      <th>1</th>\n      <td>39.500000</td>\n      <td>17.400000</td>\n      <td>186.000000</td>\n      <td>3800.000000</td>\n      <td>0</td>\n      <td>2</td>\n      <td>0</td>\n    </tr>\n    <tr>\n      <th>2</th>\n      <td>40.300000</td>\n      <td>18.000000</td>\n      <td>195.000000</td>\n      <td>3250.000000</td>\n      <td>0</td>\n      <td>2</td>\n      <td>0</td>\n    </tr>\n    <tr>\n      <th>3</th>\n      <td>38.791391</td>\n      <td>18.346358</td>\n      <td>189.953642</td>\n      <td>3700.662252</td>\n      <td>0</td>\n      <td>2</td>\n      <td>2</td>\n    </tr>\n    <tr>\n      <th>4</th>\n      <td>36.700000</td>\n      <td>19.300000</td>\n      <td>193.000000</td>\n      <td>3450.000000</td>\n      <td>0</td>\n      <td>2</td>\n      <td>0</td>\n    </tr>\n    <tr>\n      <th>...</th>\n      <td>...</td>\n      <td>...</td>\n      <td>...</td>\n      <td>...</td>\n      <td>...</td>\n      <td>...</td>\n      <td>...</td>\n    </tr>\n    <tr>\n      <th>340</th>\n      <td>43.500000</td>\n      <td>18.100000</td>\n      <td>202.000000</td>\n      <td>3400.000000</td>\n      <td>1</td>\n      <td>1</td>\n      <td>0</td>\n    </tr>\n    <tr>\n      <th>341</th>\n      <td>49.600000</td>\n      <td>18.200000</td>\n      <td>193.000000</td>\n      <td>3775.000000</td>\n      <td>1</td>\n      <td>1</td>\n      <td>1</td>\n    </tr>\n    <tr>\n      <th>342</th>\n      <td>50.800000</td>\n      <td>19.000000</td>\n      <td>210.000000</td>\n      <td>4100.000000</td>\n      <td>1</td>\n      <td>1</td>\n      <td>1</td>\n    </tr>\n    <tr>\n      <th>343</th>\n      <td>50.800000</td>\n      <td>19.000000</td>\n      <td>210.000000</td>\n      <td>4100.000000</td>\n      <td>1</td>\n      <td>1</td>\n      <td>1</td>\n    </tr>\n    <tr>\n      <th>344</th>\n      <td>50.200000</td>\n      <td>18.700000</td>\n      <td>198.000000</td>\n      <td>3775.000000</td>\n      <td>1</td>\n      <td>1</td>\n      <td>0</td>\n    </tr>\n  </tbody>\n</table>\n<p>345 rows × 7 columns</p>\n</div>"
     },
     "execution_count": 74,
     "metadata": {},
     "output_type": "execute_result"
    }
   ],
   "source": [
    "df_penguin = bdsm.penguins().clean().to_numeric()\n",
    "df_penguin"
   ],
   "metadata": {
    "collapsed": false,
    "pycharm": {
     "name": "#%%\n"
    }
   }
  },
  {
   "cell_type": "code",
   "execution_count": 75,
   "outputs": [
    {
     "data": {
      "text/plain": "['CulmenLength',\n 'CulmenDepth',\n 'FlipperLength',\n 'BodyMass',\n 'Species_cat',\n 'Island_cat',\n 'Sex_cat']"
     },
     "execution_count": 75,
     "metadata": {},
     "output_type": "execute_result"
    }
   ],
   "source": [
    "list(df_penguin.columns)"
   ],
   "metadata": {
    "collapsed": false,
    "pycharm": {
     "name": "#%%\n"
    }
   }
  },
  {
   "cell_type": "code",
   "execution_count": 76,
   "outputs": [
    {
     "data": {
      "text/plain": "Adelie Penguin (Pygoscelis adeliae)          152\nGentoo penguin (Pygoscelis papua)            124\nChinstrap penguin (Pygoscelis antarctica)     69\nName: Species, dtype: int64"
     },
     "execution_count": 76,
     "metadata": {},
     "output_type": "execute_result"
    }
   ],
   "source": [
    "bdsm.penguins().clean()['Species'].value_counts()"
   ],
   "metadata": {
    "collapsed": false,
    "pycharm": {
     "name": "#%%\n"
    }
   }
  },
  {
   "cell_type": "code",
   "execution_count": 77,
   "outputs": [],
   "source": [
    "x = df_penguin.drop(columns=\"Species_cat\")\n",
    "y = df_penguin['Species_cat']\n",
    "x_train, x_valid, y_train, y_valid = train_test_split(x, y, test_size=0.3, random_state=12345)"
   ],
   "metadata": {
    "collapsed": false,
    "pycharm": {
     "name": "#%%\n"
    }
   }
  },
  {
   "cell_type": "code",
   "execution_count": 78,
   "outputs": [],
   "source": [
    "knn_clf = KNeighborsClassifier(n_neighbors=5, p=2, metric='minkowski')\n",
    "log_clf = LogisticRegression(max_iter=10_000)\n",
    "rf_clf = RandomForestClassifier(n_estimators=500, max_leaf_nodes=16, n_jobs=-1)\n",
    "svm_clf = SVC()"
   ],
   "metadata": {
    "collapsed": false,
    "pycharm": {
     "name": "#%%\n"
    }
   }
  },
  {
   "cell_type": "code",
   "execution_count": 79,
   "outputs": [
    {
     "name": "stdout",
     "output_type": "stream",
     "text": [
      "KNeighborsClassifier 0.7307692307692307\n",
      "LogisticRegression 0.9711538461538461\n",
      "RandomForestClassifier 0.9519230769230769\n",
      "SVC 0.7211538461538461\n",
      "VotingClassifier 0.7788461538461539\n"
     ]
    }
   ],
   "source": [
    "models = VotingClassifier(\n",
    "    estimators=[\n",
    "        ('knn', knn_clf),\n",
    "        ('log', log_clf),\n",
    "        ('rf', rf_clf),\n",
    "        ('svm', svm_clf)\n",
    "    ],\n",
    "    voting='hard',\n",
    "\n",
    ")\n",
    "models.fit(x_train, y_train)\n",
    "\n",
    "for clf in (knn_clf, log_clf, rf_clf, svm_clf, models):\n",
    "    clf.fit(x_train, y_train)\n",
    "    y_pred = clf.predict(x_valid)\n",
    "    print(clf.__class__.__name__, accuracy_score(y_valid, y_pred))"
   ],
   "metadata": {
    "collapsed": false,
    "pycharm": {
     "name": "#%%\n"
    }
   }
  },
  {
   "cell_type": "code",
   "execution_count": 80,
   "outputs": [
    {
     "name": "stdout",
     "output_type": "stream",
     "text": [
      "classification_report: \n",
      "              precision    recall  f1-score   support\n",
      "\n",
      "           0       0.65      1.00      0.79        43\n",
      "           1       1.00      0.18      0.31        22\n",
      "           2       1.00      0.87      0.93        39\n",
      "\n",
      "    accuracy                           0.78       104\n",
      "   macro avg       0.88      0.68      0.68       104\n",
      "weighted avg       0.86      0.78      0.74       104\n",
      "\n",
      "accuracy_score: 0.7788461538461539\n",
      "cohen_kappa_score: 0.635588056063376\n"
     ]
    }
   ],
   "source": [
    "species_categories = dict(enumerate(bdsm.penguins()['Species'].astype(\"category\").cat.categories))\n",
    "predicitons = models.predict(x_valid)\n",
    "\n",
    "print(f\"classification_report: \\n{metrics.classification_report(y_valid, predicitons)}\")\n",
    "print(f\"accuracy_score: {metrics.accuracy_score(y_valid, predicitons)}\")\n",
    "print(f\"cohen_kappa_score: {metrics.cohen_kappa_score(y_valid, predicitons)}\")"
   ],
   "metadata": {
    "collapsed": false,
    "pycharm": {
     "name": "#%%\n"
    }
   }
  },
  {
   "cell_type": "code",
   "execution_count": 81,
   "outputs": [
    {
     "name": "stdout",
     "output_type": "stream",
     "text": [
      "                               y_hat_cat  y_hat  y  correct\n",
      "0    Adelie Penguin (Pygoscelis adeliae)      0  0     True\n",
      "1      Gentoo penguin (Pygoscelis papua)      2  2     True\n",
      "2    Adelie Penguin (Pygoscelis adeliae)      0  0     True\n",
      "3      Gentoo penguin (Pygoscelis papua)      2  2     True\n",
      "4    Adelie Penguin (Pygoscelis adeliae)      0  0     True\n",
      "..                                   ...    ... ..      ...\n",
      "99   Adelie Penguin (Pygoscelis adeliae)      0  0     True\n",
      "100  Adelie Penguin (Pygoscelis adeliae)      0  1    False\n",
      "101  Adelie Penguin (Pygoscelis adeliae)      0  1    False\n",
      "102  Adelie Penguin (Pygoscelis adeliae)      0  0     True\n",
      "103  Adelie Penguin (Pygoscelis adeliae)      0  0     True\n",
      "\n",
      "[104 rows x 4 columns] \n",
      "\n"
     ]
    }
   ],
   "source": [
    "# Detailed prediction data print\n",
    "# Just extras\n",
    "df_predicted = pd.Series(predicitons).map(species_categories).to_frame(name='y_hat_cat')\n",
    "df_predicted[\"y_hat\"] = pd.Series(predicitons).reset_index(drop=True)\n",
    "df_predicted[\"y\"] = pd.Series(y_valid).reset_index(drop=True)\n",
    "df_predicted[\"correct\"] = df_predicted[\"y_hat\"] == df_predicted[\"y\"]\n",
    "print(f\"{df_predicted} \\n\")\n"
   ],
   "metadata": {
    "collapsed": false,
    "pycharm": {
     "name": "#%%\n"
    }
   }
  }
 ],
 "metadata": {
  "kernelspec": {
   "display_name": "Python 3",
   "language": "python",
   "name": "python3"
  },
  "language_info": {
   "codemirror_mode": {
    "name": "ipython",
    "version": 2
   },
   "file_extension": ".py",
   "mimetype": "text/x-python",
   "name": "python",
   "nbconvert_exporter": "python",
   "pygments_lexer": "ipython2",
   "version": "2.7.6"
  }
 },
 "nbformat": 4,
 "nbformat_minor": 0
}